{
 "cells": [
  {
   "cell_type": "markdown",
   "id": "c94d972b",
   "metadata": {},
   "source": [
    "<div class=\"alert alert-block alert-warning\">\n",
    "\n",
    "# Wichtige Hinweise\n",
    "**Bitte lesen Sie folgende Hinweise sorgfältig**\n",
    "\n",
    "- Dies ist das Übungsblatt. Lösen Sie dieses erst, wenn Sie das Beispiels-Blatt (3a) gelesen und gelöst haben!\n",
    "- Öffen Sie sowohl dieses Blatt wie auch das Beisipels-Blatt nebeneinander, damit Sie sich für die Aufgaben an den Beispielen orientieren können (falls Sie Hilfe benötigen, wenden Sie sich an Herrn Wendl).\n",
    "- Lesen Sie den gesamten Text aufmerksam und vervollständigen Sie jeden Code-Block in dieser Datei.\n",
    "</div>\n",
    "\n",
    "<div class=\"alert alert-block alert-success\">\n",
    "\n",
    "Viel Erfolg beim Lösen der Übungen! :)\n",
    "</div>"
   ]
  },
  {
   "cell_type": "code",
   "execution_count": 1,
   "id": "ea907742",
   "metadata": {},
   "outputs": [],
   "source": [
    "# benötigte Bibliotheken importieren\n",
    "import pandas as pd # pandas für Datenmanipulation\n",
    "import matplotlib.pyplot as plt  # matplotlib für Datenvisualisierung\n",
    "plt.style.use('ggplot')  # ggplot-Stil für Diagramme verwenden\n",
    "import statsmodels.formula.api as smf # statsmodels für statistische Modelle, insbesondere OLS"
   ]
  },
  {
   "cell_type": "markdown",
   "id": "fb7b32cb",
   "metadata": {},
   "source": [
    "# Einfache lineare Regression"
   ]
  },
  {
   "cell_type": "code",
   "execution_count": 4,
   "id": "ebe98dac",
   "metadata": {},
   "outputs": [
    {
     "data": {
      "application/vnd.microsoft.datawrangler.viewer.v0+json": {
       "columns": [
        {
         "name": "index",
         "rawType": "int64",
         "type": "integer"
        },
        {
         "name": "Polizeistreifen",
         "rawType": "int64",
         "type": "integer"
        },
        {
         "name": "Straftaten",
         "rawType": "float64",
         "type": "float"
        }
       ],
       "ref": "ec781cd4-d840-4594-9601-0774233a54d0",
       "rows": [
        [
         "0",
         "5",
         "5.915402117702074"
        ],
        [
         "1",
         "4",
         "4.3287511096596845"
        ],
        [
         "2",
         "4",
         "3.470239796232961"
        ],
        [
         "3",
         "5",
         "5.513267433113356"
        ],
        [
         "4",
         "5",
         "5.0970775493480405"
        ]
       ],
       "shape": {
        "columns": 2,
        "rows": 5
       }
      },
      "text/html": [
       "<div>\n",
       "<style scoped>\n",
       "    .dataframe tbody tr th:only-of-type {\n",
       "        vertical-align: middle;\n",
       "    }\n",
       "\n",
       "    .dataframe tbody tr th {\n",
       "        vertical-align: top;\n",
       "    }\n",
       "\n",
       "    .dataframe thead th {\n",
       "        text-align: right;\n",
       "    }\n",
       "</style>\n",
       "<table border=\"1\" class=\"dataframe\">\n",
       "  <thead>\n",
       "    <tr style=\"text-align: right;\">\n",
       "      <th></th>\n",
       "      <th>Polizeistreifen</th>\n",
       "      <th>Straftaten</th>\n",
       "    </tr>\n",
       "  </thead>\n",
       "  <tbody>\n",
       "    <tr>\n",
       "      <th>0</th>\n",
       "      <td>5</td>\n",
       "      <td>5.915402</td>\n",
       "    </tr>\n",
       "    <tr>\n",
       "      <th>1</th>\n",
       "      <td>4</td>\n",
       "      <td>4.328751</td>\n",
       "    </tr>\n",
       "    <tr>\n",
       "      <th>2</th>\n",
       "      <td>4</td>\n",
       "      <td>3.470240</td>\n",
       "    </tr>\n",
       "    <tr>\n",
       "      <th>3</th>\n",
       "      <td>5</td>\n",
       "      <td>5.513267</td>\n",
       "    </tr>\n",
       "    <tr>\n",
       "      <th>4</th>\n",
       "      <td>5</td>\n",
       "      <td>5.097078</td>\n",
       "    </tr>\n",
       "  </tbody>\n",
       "</table>\n",
       "</div>"
      ],
      "text/plain": [
       "   Polizeistreifen  Straftaten\n",
       "0                5    5.915402\n",
       "1                4    4.328751\n",
       "2                4    3.470240\n",
       "3                5    5.513267\n",
       "4                5    5.097078"
      ]
     },
     "execution_count": 4,
     "metadata": {},
     "output_type": "execute_result"
    }
   ],
   "source": [
    "# Aufgabe 1: Daten einlesen\n",
    "# Lesen Sie die CSV-Datei \"Data/police_crime.csv\" ein und speichern Sie sie in einem DataFrame. Zeigen Sie die ersten 5 Zeilen des DataFrames an.\n",
    "# IHR CODE HIER\n",
    "df = pd.read_csv(\"../Data/police_crime.csv\")\n",
    "df.head()"
   ]
  },
  {
   "cell_type": "code",
   "execution_count": 5,
   "id": "62e661fe",
   "metadata": {},
   "outputs": [
    {
     "data": {
      "image/png": "[encoded data removed]",
      "text/plain": [
       "<Figure size 640x480 with 1 Axes>"
      ]
     },
     "metadata": {},
     "output_type": "display_data"
    }
   ],
   "source": [
    "# Aufgabe 2: Zeigen Sie die Polizeistreifen und die Straftaten in einem Streudiagramm an.\n",
    "df.plot.scatter(x='Polizeistreifen', y='Straftaten', title='Polizeistreifen vs. Straftaten')\n",
    "plt.xlabel('Polizeistreifen')\n",
    "plt.ylabel('Straftaten')\n",
    "plt.show()\n"
   ]
  },
  {
   "cell_type": "markdown",
   "id": "652e0861",
   "metadata": {},
   "source": [
    "Wir wollen hier die Anzahl Polizeistreifen nutzen, um die Anzahl Straftaten vorherzusagen. Welches sind die abhängige und unabhängige Variable in diesen Daten?"
   ]
  },
  {
   "cell_type": "markdown",
   "id": "3dd54f0f",
   "metadata": {},
   "source": [
    "**Antwort**:\n",
    "- *Unabhängige Variable*: Polizeistreifen\n",
    "- *Abhängige Variable*: Straftaten"
   ]
  },
  {
   "cell_type": "markdown",
   "id": "74b68029",
   "metadata": {},
   "source": [
    "Erkennen Sie einen linearen Trend (= eine lineare Tendenz) in diesen Daten?"
   ]
  },
  {
   "cell_type": "markdown",
   "id": "d7e7ece0",
   "metadata": {},
   "source": [
    "**Antwort**: Je mehr Polizeistreifen, desto mehr Straftaten. Die Korrelation ist positiv (was jedoch nichts über Kausalität aussagt)."
   ]
  },
  {
   "cell_type": "markdown",
   "id": "160376bc",
   "metadata": {},
   "source": [
    "Finden Sie eine optimale Regressionslinie für die Daten, indem Sie eine lineare Regression mit `statsmodels` durchführen. Verwenden Sie die Formel `Polizeistreifen ~ Straftaten`, um die Beziehung zwischen der Anzahl der Polizeistreifen und der Anzahl der Straftaten zu modellieren."
   ]
  },
  {
   "cell_type": "code",
   "execution_count": 7,
   "id": "fbab4e49",
   "metadata": {},
   "outputs": [
    {
     "name": "stdout",
     "output_type": "stream",
     "text": [
      "Intercept     0.464215\n",
      "Straftaten    0.929416\n",
      "dtype: float64\n"
     ]
    }
   ],
   "source": [
    "# Lineares Regressionsmodell mit statsmodels erstellen\n",
    "model = smf.ols('Polizeistreifen ~ Straftaten', data=df).fit()\n",
    "print(model.params)"
   ]
  },
  {
   "cell_type": "markdown",
   "id": "1dd4aade",
   "metadata": {},
   "source": [
    "Zeichnen Sie ein weiteres Streudiagramm *mit Regressionslinie*"
   ]
  },
  {
   "cell_type": "code",
   "execution_count": 9,
   "id": "da883a5f",
   "metadata": {},
   "outputs": [
    {
     "data": {
      "image/png": "[encoded data removed]",
      "text/plain": [
       "<Figure size 640x480 with 1 Axes>"
      ]
     },
     "metadata": {},
     "output_type": "display_data"
    }
   ],
   "source": [
    "# Datenpunkte als Streudiagramm zeichnen\n",
    "ax = df.plot.scatter(x=\"Polizeistreifen\", y=\"Straftaten\", label=\"Datenpunkte\", color=\"blue\")\n",
    "\n",
    "# Regressionsgerade berechnen und zeichnen\n",
    "m = model.params['Straftaten']\n",
    "q = model.params['Intercept']\n",
    "x_values = [df[\"Polizeistreifen\"].min(), df[\"Polizeistreifen\"].max()]\n",
    "y_values = [m * x + q for x in x_values]  # vorhergesagte y-Werte für min/max Polizeistreifen\n",
    "\n",
    "plt.plot(x_values, y_values, color=\"red\", label=\"Regressionsgerade\")\n",
    "plt.xlabel(\"Polizeistreifen\")\n",
    "plt.ylabel(\"Straftaten\")\n",
    "plt.legend()\n",
    "plt.title(\"Polizeistreifen vs. Straftaten mit Regressionsgerade\")\n",
    "plt.show()"
   ]
  },
  {
   "cell_type": "markdown",
   "id": "e25048da",
   "metadata": {},
   "source": [
    "Sagen Sie voraus, wie viele Strattaten entdeckt werden bei 6 Polizeikontrollen."
   ]
  },
  {
   "cell_type": "code",
   "execution_count": 10,
   "id": "385bf518",
   "metadata": {},
   "outputs": [
    {
     "name": "stdout",
     "output_type": "stream",
     "text": [
      "Vorhergesagte Straftaten bei 6 Polizeikontrollen: 6.04\n"
     ]
    }
   ],
   "source": [
    "# Vorhersage der Straftaten bei 6 Polizeikontrollen\n",
    "polizeistreifen = 6\n",
    "straftaten_vorhersage = m * polizeistreifen + q\n",
    "print(f\"Vorhergesagte Straftaten bei {polizeistreifen} Polizeikontrollen: {straftaten_vorhersage:.2f}\")"
   ]
  },
  {
   "cell_type": "markdown",
   "id": "12e64391",
   "metadata": {},
   "source": [
    "## Aufgabe 2: CO₂-Ausstoss von Autos vorhersagen\n",
    "\n",
    "Wenn man für die lineare Regression zwei oder mehr unabhängige Variablen verwendet, spricht man von **multipler linearer Regression**. Bei $n$ verschiedenen unabhängigen Varialben $x_1, x_2, \\ldots, x_n$ wird zur Modellierung eine lineare Funktion vom Typ $y = a_0 + a_1 x_1 + a_2 x_2 + \\ldots + a_n x_n$ verwendet. Statt einer Geraden repräsentiert sie eine *Ebene* in einem mehrdimensioanlen Raum (=Hyperebene).\n",
    "\n",
    "Für diese Aufgabe analysieren wir den Datensatz über [Autos und CO₂-Ausstoss von W3Schools](https://www.w3schools.com/python/python_ml_multiple_regression.asp).Der Datensatz `Data/cars-co2.csv` enthält Informationen über verschiedene Autos, darunter den CO₂-Ausstoss (in g/km) und verschiedene Merkmale wie Markennamen, Gewicht und Volumen. Ziel ist es, den CO₂-Ausstoss anhand dieser Merkmale vorherzusagen. Über die unabhängigen Variablen `Weight` (=Gewicht) und `Volume` (=Volume) soll also der CO₂-Ausstoss `CO2` (abhängige Variable) vorhergesagt werden.\n",
    "\n"
   ]
  },
  {
   "cell_type": "markdown",
   "id": "d1f88ee5",
   "metadata": {},
   "source": [
    "**a)** Laden Sie den Datensatz `Data/cars-co2.csv` in einen DataFrame und zeigen Sie die ersten 5 Zeilen an.`"
   ]
  },
  {
   "cell_type": "code",
   "execution_count": 12,
   "id": "16b4d1e2",
   "metadata": {},
   "outputs": [
    {
     "data": {
      "application/vnd.microsoft.datawrangler.viewer.v0+json": {
       "columns": [
        {
         "name": "index",
         "rawType": "int64",
         "type": "integer"
        },
        {
         "name": "Car",
         "rawType": "object",
         "type": "string"
        },
        {
         "name": "Model",
         "rawType": "object",
         "type": "string"
        },
        {
         "name": "Volume",
         "rawType": "int64",
         "type": "integer"
        },
        {
         "name": "Weight",
         "rawType": "int64",
         "type": "integer"
        },
        {
         "name": "CO2",
         "rawType": "int64",
         "type": "integer"
        }
       ],
       "ref": "5a52deba-f779-4c4e-9aa3-9a9bda002d51",
       "rows": [
        [
         "0",
         "Toyoty",
         "Aygo",
         "1000",
         "790",
         "99"
        ],
        [
         "1",
         "Mitsubishi",
         "Space Star",
         "1200",
         "1160",
         "95"
        ],
        [
         "2",
         "Skoda",
         "Citigo",
         "1000",
         "929",
         "95"
        ],
        [
         "3",
         "Fiat",
         "500",
         "900",
         "865",
         "90"
        ],
        [
         "4",
         "Mini",
         "Cooper",
         "1500",
         "1140",
         "105"
        ]
       ],
       "shape": {
        "columns": 5,
        "rows": 5
       }
      },
      "text/html": [
       "<div>\n",
       "<style scoped>\n",
       "    .dataframe tbody tr th:only-of-type {\n",
       "        vertical-align: middle;\n",
       "    }\n",
       "\n",
       "    .dataframe tbody tr th {\n",
       "        vertical-align: top;\n",
       "    }\n",
       "\n",
       "    .dataframe thead th {\n",
       "        text-align: right;\n",
       "    }\n",
       "</style>\n",
       "<table border=\"1\" class=\"dataframe\">\n",
       "  <thead>\n",
       "    <tr style=\"text-align: right;\">\n",
       "      <th></th>\n",
       "      <th>Car</th>\n",
       "      <th>Model</th>\n",
       "      <th>Volume</th>\n",
       "      <th>Weight</th>\n",
       "      <th>CO2</th>\n",
       "    </tr>\n",
       "  </thead>\n",
       "  <tbody>\n",
       "    <tr>\n",
       "      <th>0</th>\n",
       "      <td>Toyoty</td>\n",
       "      <td>Aygo</td>\n",
       "      <td>1000</td>\n",
       "      <td>790</td>\n",
       "      <td>99</td>\n",
       "    </tr>\n",
       "    <tr>\n",
       "      <th>1</th>\n",
       "      <td>Mitsubishi</td>\n",
       "      <td>Space Star</td>\n",
       "      <td>1200</td>\n",
       "      <td>1160</td>\n",
       "      <td>95</td>\n",
       "    </tr>\n",
       "    <tr>\n",
       "      <th>2</th>\n",
       "      <td>Skoda</td>\n",
       "      <td>Citigo</td>\n",
       "      <td>1000</td>\n",
       "      <td>929</td>\n",
       "      <td>95</td>\n",
       "    </tr>\n",
       "    <tr>\n",
       "      <th>3</th>\n",
       "      <td>Fiat</td>\n",
       "      <td>500</td>\n",
       "      <td>900</td>\n",
       "      <td>865</td>\n",
       "      <td>90</td>\n",
       "    </tr>\n",
       "    <tr>\n",
       "      <th>4</th>\n",
       "      <td>Mini</td>\n",
       "      <td>Cooper</td>\n",
       "      <td>1500</td>\n",
       "      <td>1140</td>\n",
       "      <td>105</td>\n",
       "    </tr>\n",
       "  </tbody>\n",
       "</table>\n",
       "</div>"
      ],
      "text/plain": [
       "          Car       Model  Volume  Weight  CO2\n",
       "0      Toyoty        Aygo    1000     790   99\n",
       "1  Mitsubishi  Space Star    1200    1160   95\n",
       "2       Skoda      Citigo    1000     929   95\n",
       "3        Fiat         500     900     865   90\n",
       "4        Mini      Cooper    1500    1140  105"
      ]
     },
     "execution_count": 12,
     "metadata": {},
     "output_type": "execute_result"
    }
   ],
   "source": [
    "cars_df = pd.read_csv(\"../Data/cars-co2.csv\")\n",
    "cars_df.head()"
   ]
  },
  {
   "cell_type": "markdown",
   "id": "794b7b61",
   "metadata": {},
   "source": [
    "**b)** überprüfen Sie für jede unabhängige Variable separat, ob sie in einem linearen Zusammenhang zur abhängigen Variable `CO2` steht, indem Sie für jede unabhängige Variable ein Streudiagramm erstellen."
   ]
  },
  {
   "cell_type": "code",
   "execution_count": 13,
   "id": "490f0274",
   "metadata": {},
   "outputs": [
    {
     "data": {
      "image/png": "[encoded data removed]",
      "text/plain": [
       "<Figure size 640x480 with 1 Axes>"
      ]
     },
     "metadata": {},
     "output_type": "display_data"
    },
    {
     "data": {
      "image/png": "[encoded data removed]",
      "text/plain": [
       "<Figure size 640x480 with 1 Axes>"
      ]
     },
     "metadata": {},
     "output_type": "display_data"
    }
   ],
   "source": [
    "# Streudiagramm für Gewicht vs. CO2\n",
    "cars_df.plot.scatter(x='Weight', y='CO2', title='Gewicht vs. CO2')\n",
    "plt.xlabel('Gewicht')\n",
    "plt.ylabel('CO2')\n",
    "plt.show()\n",
    "\n",
    "# Streudiagramm für Volumen vs. CO2\n",
    "cars_df.plot.scatter(x='Volume', y='CO2', title='Volumen vs. CO2')\n",
    "plt.xlabel('Volumen')\n",
    "plt.ylabel('CO2')\n",
    "plt.show()"
   ]
  },
  {
   "cell_type": "markdown",
   "id": "f74289d9",
   "metadata": {},
   "source": [
    "Erstellen Sie mit Hilfe von statsmodels ein lineares Modell. Gibt es mehr als eine unabhängige Variable, werden sie im Schlüssel-Argument `formula` von `ols()` mit `+` verbunden, also z.B. `'CO2 ~ weight + volume'`."
   ]
  },
  {
   "cell_type": "code",
   "execution_count": 15,
   "id": "54706b34",
   "metadata": {},
   "outputs": [
    {
     "name": "stdout",
     "output_type": "stream",
     "text": [
      "Intercept    79.694719\n",
      "Weight        0.007551\n",
      "Volume        0.007805\n",
      "dtype: float64\n"
     ]
    }
   ],
   "source": [
    "# Lineares Regressionsmodell mit zwei unabhängigen Variablen (Weight und Volume) erstellen\n",
    "co2_model = smf.ols('CO2 ~ Weight + Volume', data=cars_df).fit()\n",
    "print(co2_model.params)"
   ]
  },
  {
   "cell_type": "markdown",
   "id": "4fd014fc",
   "metadata": {},
   "source": [
    "Welche Parameter findet das Modell?\n",
    "\n",
    "**Antwort**: 3 Parameter (Achsenabschnitt $a_0$ (`Intercept`) sowie $a_1$ (`Weight`) und $a_2$ (`Volume`))"
   ]
  },
  {
   "cell_type": "markdown",
   "id": "da3897f2",
   "metadata": {},
   "source": [
    "Wie viel CO2 wird bei einem Gewicht von 2000 und einem Volumen von 1000 emittiert?\n"
   ]
  },
  {
   "cell_type": "code",
   "execution_count": 16,
   "id": "d154172f",
   "metadata": {},
   "outputs": [
    {
     "name": "stdout",
     "output_type": "stream",
     "text": [
      "Vorhergesagter CO2-Ausstoß bei Gewicht=2000 und Volumen=1000: 102.60\n"
     ]
    }
   ],
   "source": [
    "# Vorhersage des CO2-Ausstoßes bei Gewicht=2000 und Volumen=1000\n",
    "gewicht = 2000\n",
    "volumen = 1000\n",
    "co2_vorhersage = co2_model.params['Intercept'] + co2_model.params['Weight'] * gewicht + co2_model.params['Volume'] * volumen\n",
    "print(f\"Vorhergesagter CO2-Ausstoß bei Gewicht={gewicht} und Volumen={volumen}: {co2_vorhersage:.2f}\")"
   ]
  },
  {
   "cell_type": "markdown",
   "id": "3f106612",
   "metadata": {},
   "source": [
    "<div class=\"alert alert-block alert-info\">\n",
    "<strong>Kontrollfragen</strong>\n",
    "\n",
    "1. Was versteht man unter der *abhängigen* Variablen? \n",
    "2. Was versteht man unter *unabhängigen* Variablen?\n",
    "3. Was ist der Unterschied zwischen der *einfachen* linearen Regression und der *multiplen* linearen Regression?\n",
    "4. Weshalb muss man die *Linearität* der unabhängigen Variablen überprüfen? Und wie macht man das?\n",
    "5. Wozu verwendet man die Programmbibliothek *pandas*?\n",
    "6. Wozu verwendet man die Programmbibliothek *statsmodels*?\n",
    "7. Was versteht man unter einem statistischen Modell?\n",
    "</div>"
   ]
  },
  {
   "cell_type": "markdown",
   "id": "3319c1a1",
   "metadata": {},
   "source": [
    "<div class=\"alert alert-block alert-warning\">\n",
    "<strong>🏆 Challenge-Aufgabe: Weitere Modelle</strong>\n",
    "\n",
    "Manchmal stehen Daten auch nicht in einem linearen Zusammenhang, sondern sind beispielsweise polynomisch verteilt, wie z.B. hier:\n",
    "\n",
    "<div style=\"display: flex; flex-direction: column; width:60%; margin-left: 20%; margin-right: 20%;\">\n",
    "\n",
    "![Polynomial Regression](../Images/polynomial_regression.png)\n",
    "</div>\n",
    "\n",
    "\n",
    "Schauen Sie sich dazu dieses [Tutorial](https://www.w3schools.com/python/python_ml_polynomial_regression.asp) an und erstellen Sie selber eine polynomiale Regression, indem Sie den Code in den Zellen untenan einfügen.\n",
    "</div>"
   ]
  },
  {
   "cell_type": "code",
   "execution_count": null,
   "id": "43a5c60c",
   "metadata": {},
   "outputs": [],
   "source": [
    "# IHR CODE HIER"
   ]
  },
  {
   "cell_type": "markdown",
   "id": "1a9d7410",
   "metadata": {},
   "source": [
    "<div class=\"alert alert-block alert-warning\">\n",
    "<strong>🏆 Challenge-Aufgabe: Jupyter Notebook</strong>\n",
    "\n",
    "Lernen Sie, wie man effizient mit Jupyter Notebooks arbeitet. Schauen Sie sich herzu die Dokumentation zu den Shortcuts an: [Jupyter Notebook Shortcuts](https://towardsdatascience.com/jypyter-notebook-shortcuts-bf0101a98330/).\n",
    "\n",
    "</div>"
   ]
  }
 ],
 "metadata": {
  "kernelspec": {
   "display_name": "Python 3",
   "language": "python",
   "name": "python3"
  },
  "language_info": {
   "codemirror_mode": {
    "name": "ipython",
    "version": 3
   },
   "file_extension": ".py",
   "mimetype": "text/x-python",
   "name": "python",
   "nbconvert_exporter": "python",
   "pygments_lexer": "ipython3",
   "version": "3.11.12"
  }
 },
 "nbformat": 4,
 "nbformat_minor": 5
}
