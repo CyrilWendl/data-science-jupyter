{
  "cells": [
    {
      "cell_type": "markdown",
      "id": "6b53a206-0d8c-4844-b71d-0f3a345c58c1",
      "metadata": {
        "tags": []
      },
      "source": [
        "# Data Science\n",
        "\n",
        "**Autor**: [Cyril Wendl](cyril.wendl@edu.zh.ch), Kantonsschule im Lee, Winterthur\n",
        "\n",
        "**Praktikums-Betreuung**: [Naoki Peter](naoki.peter@edu.zh.ch), Kantonsschule Zürich-Nord"
      ]
    },
    {
      "cell_type": "markdown",
      "id": "06822772",
      "metadata": {},
      "source": [
        "## Einführung\n",
        "\n",
        "Jeden Tag werden wir durch Algorithmen beeinflusst: Jedes Mal wenn wir uns auf Social Media einloggen, ein Video anschauen oder uns über ein Produkt informieren, werden Daten über uns gesammelt. Aufgrund unserer Interessen (Follows, Likes etc.) kann eine Firma beispielsweise herausfinden, welchen Influencern wir als nächstes folgen oder welchen Song wir als nächstes hören wollen. \n",
        "\n",
        "**Data Science** ist ein interdisziplinäres Gebiet, das sich mit der Extraktion von Wissen und Erkenntnissen aus Daten beschäftigt. Es verbindet Methoden aus der Statistik und Informatik mit eigenem Fachwissen, um Muster in Daten zu erkennen, Vorhersagen zu treffen und datengetriebene Entscheidungen zu ermöglichen.\n",
        " \n",
        "Im Rahmen dieser Unterrichtseinheiten werden wir uns mit den Grundlagen von Data Science beschäftigen. In der ersten Doppelstunde werden wir lernen, wie man Daten in Python einliest, analysiert und visualisiert (s. Lernziele untenan). "
      ]
    },
    {
      "cell_type": "markdown",
      "id": "ac5f2fa8",
      "metadata": {},
      "source": [
        "## Lernziele\n",
        "- [ ] Ich kann Daten aus gängigen Datenformaten (insbesondere `.csv`) in Python einlesen und analysieren.\n",
        "- [ ] Ich kann Datentypen ausgeben und verstehe die Unterschiede zwischen den Datentypen `int64`, `float64`, `object`und `bool`.\n",
        "- [ ] Ich kann einzelne Spalten mittels Befehlen der Library `pandas` auswählen und anzeigen.\n",
        "- [ ] Ich kann grundlegende Aggregationsfunktionen der Library `pandas` auf Tabellen und Spalten anwenden.\n",
        "- [ ] Ich kann mit `pandas` Daten filtern und spezifische Informationen extrahieren.\n",
        "- [ ] Ich kann mit `pandas` Ergebnisse auf unterschiedliche Weise visualisieren (Kuchen-, Balken-, Streudiagramm, Histogramme) und interpretieren."
      ]
    },
    {
      "cell_type": "markdown",
      "id": "e82578e3",
      "metadata": {},
      "source": [
        "## Datensätze\n",
        "\n",
        "<img src=\"https://balloon.tam.ch/share/afef44def727eebe2f47f6059473ab6d\" align=\"right\" alt=\"pandas\" width=\"200\" />\n",
        "\n",
        "**Pandas** ist ein Python-Paket für die Analyse und Bearbeitung von tabellarischen Daten. Der Name leitet sich von dem englischen Begriff *panel data* (Paneldaten) ab.\n",
        "\n",
        "In dieser Lernaufgabe lesen wir mit Hilfe von pandas zwei (bis optional drei) Datensätze ein. Laden Sie diese CSV-Dateien ebenfalls von Moodle herunter und speichern Sie diese in einem Unterordner `Data/`, im gleichen Verzeichnis wie diese Jupyter-Notebook-Datei.\n",
        "\n",
        "<div style=\"display: flex\">\n",
        "<div class=\"alert alert-box alert-info\" style=\"flex: 1; width: 50%\">\n",
        "    \n",
        "### Spotify (Datensatz für Beispiele)\n",
        "`spotify.csv` ist ein umfassender Datensatz der bekanntesten Songs des Jahres 2023, wie sie auf Spotify gelistet sind. Er liefert Einblicke in die Attribute, Popularität und Präsenz jedes Songs auf verschiedenen Musikplattformen. Der Datensatz enthält Informationen wie den Titel des Songs, den/die Künstlernamen, das Veröffentlichungsdatum, Spotify-Playlists und -Charts, Streaming-Statistiken, die Präsenz auf Apple Music, Deezer und Shazam-Charts sowie verschiedene Audioeigenschaften.\n",
        "\n",
        "![Spotify](https://upload.wikimedia.org/wikipedia/commons/2/26/Spotify_logo_with_text.svg)\n",
        "</div>\n",
        "<div class=\"alert alert-box alert-success\" style=\"flex: 1; width: 50%\">\n",
        "\n",
        "### Sleep Health (Datensatz für Aufgaben)\n",
        "\n",
        "`sleep.csv` ist ein Datensatz mit Informationen über Schlafgewohnheiten und Lebensstil. Der Datensatz umfasst 400 Zeilen und 13 Spalten und deckt eine Vielzahl von Variablen ab, die mit Schlaf und täglichen Gewohnheiten zusammenhängen. Er enthält Details wie Geschlecht, Alter, Beruf, Schlafdauer, Schlafqualität, körperliche Aktivität, Stresslevel, BMI-Kategorie, Blutdruck, Herzfrequenz, tägliche Schritte sowie das Vorhandensein oder Fehlen von Schlafstörungen.\n",
        "\n",
        "![Sleep](https://www.bchd.org/sites/default/files/Sleeping_1900x760.jpg)\n",
        "\n",
        "</div>\n",
        "</div>"
      ]
    },
    {
      "cell_type": "markdown",
      "id": "114ae7b9-9bdd-4b48-b032-978d6fbc10c7",
      "metadata": {},
      "source": [
        "## Jupyter Notebook\n",
        "\n",
        "Dieses Aufgabenblatt ist ein *Jupyter Notebook*. Es besteht aus Zellen, die Python-Code enthalten, der mit der **Tastenkombination `Shift+Enter`** ausgeführt werden kann. \n",
        "\n",
        "Das Ergebnis der **letzten Zeile** einer Zelle wird immer unterhalb des Blocks angezeigt. Das Schreiben eines `print`-Befehls ist in Jupyter Notebook nicht nötig."
      ]
    },
    {
      "cell_type": "markdown",
      "id": "300a54d6-9900-4b60-ba13-7d040f510ecf",
      "metadata": {},
      "source": [
        "Führen Sie die folgende Zelle aus und beachten Sie, dass Python nur die Zahl '30' anzeigt."
      ]
    },
    {
      "cell_type": "code",
      "execution_count": 2,
      "id": "87c5cf9b-3a0a-47c4-a34c-161252770bd1",
      "metadata": {
        "tags": [],
        "trusted": true
      },
      "outputs": [
        {
          "data": {
            "text/plain": [
              "30"
            ]
          },
          "execution_count": 2,
          "metadata": {},
          "output_type": "execute_result"
        }
      ],
      "source": [
        "1+2\n",
        "10+20"
      ]
    },
    {
      "cell_type": "markdown",
      "id": "8ee75b09-5ce3-41b7-8e2d-d796c5bd1662",
      "metadata": {},
      "source": [
        "<div class=\"alert alert-box alert-success\">\n",
        "\n",
        "### Aufgabe 0\n",
        "\n",
        "Python kann multiplizieren, dividieren, und vieles Weiteres. Schreiben Sie in der nächsten Zelle eine **beliebige Division mit dem Ergebnis 5** und speichern Sie das Resultat in einer Variable x. Drucken Sie den Wert der Variable x mit `print`. Führen Sie die Zelle aus (`Shift + Enter`), um das Ergebnis zu sehen. \n",
        "\n",
        "</div>"
      ]
    },
    {
      "cell_type": "code",
      "execution_count": 3,
      "id": "69f5ec2a-8be0-40d4-a7fb-01e7e5bd3b37",
      "metadata": {
        "tags": [],
        "trusted": true
      },
      "outputs": [],
      "source": [
        "# Hier Code eingeben"
      ]
    },
    {
      "cell_type": "markdown",
      "id": "888319c3-3ea7-4876-922f-8fa1f3706505",
      "metadata": {},
      "source": [
        "# Daten importieren und analysieren"
      ]
    },
    {
      "cell_type": "markdown",
      "id": "0fa2b1b0-dd9c-41bb-b36e-1e556be13d35",
      "metadata": {},
      "source": [
        "Als erstes importieren wir die Python-Bibliothek `pandas` und geben ihr zwecks kürzerer Schreibweise die Abkürzung `pd`. Führen Sie die nächste Zeile aus (ein einziges Mal Ausführen reicht, auch wenn wir 2 Datensätze damit analysieren werden)."
      ]
    },
    {
      "cell_type": "code",
      "execution_count": 4,
      "id": "a6d18d94-a938-4ba1-9b49-d4ebe507d44a",
      "metadata": {
        "tags": [],
        "trusted": true
      },
      "outputs": [],
      "source": [
        "import pandas as pd"
      ]
    },
    {
      "cell_type": "markdown",
      "id": "e853f45f-1f38-4766-85f3-548dedd96b8a",
      "metadata": {},
      "source": [
        "## Daten einlesen\n",
        "\n",
        "Als nächstes lesen wir die Daten ein. Dazu lesen wir mit `pandas` die Inhalte von `spotify.csv` aus und weisen sie der Variablen `spotify` zu. Mit `head()` geben wir danach die ersten fünf Zeilen der Tabelle aus. "
      ]
    },
    {
      "cell_type": "code",
      "execution_count": 5,
      "id": "16161fea-d806-457e-aa87-acda060b9ed6",
      "metadata": {
        "tags": []
      },
      "outputs": [
        {
          "data": {
            "application/vnd.microsoft.datawrangler.viewer.v0+json": {
              "columns": [
                {
                  "name": "index",
                  "rawType": "int64",
                  "type": "integer"
                },
                {
                  "name": "track_name",
                  "rawType": "object",
                  "type": "string"
                },
                {
                  "name": "artist(s)_name",
                  "rawType": "object",
                  "type": "string"
                },
                {
                  "name": "artist_count",
                  "rawType": "int64",
                  "type": "integer"
                },
                {
                  "name": "released_year",
                  "rawType": "int64",
                  "type": "integer"
                },
                {
                  "name": "released_month",
                  "rawType": "int64",
                  "type": "integer"
                },
                {
                  "name": "released_day",
                  "rawType": "int64",
                  "type": "integer"
                },
                {
                  "name": "in_spotify_playlists",
                  "rawType": "int64",
                  "type": "integer"
                },
                {
                  "name": "in_spotify_charts",
                  "rawType": "int64",
                  "type": "integer"
                },
                {
                  "name": "streams",
                  "rawType": "int64",
                  "type": "integer"
                },
                {
                  "name": "in_apple_playlists",
                  "rawType": "int64",
                  "type": "integer"
                },
                {
                  "name": "in_apple_charts",
                  "rawType": "int64",
                  "type": "integer"
                },
                {
                  "name": "in_deezer_playlists",
                  "rawType": "object",
                  "type": "string"
                },
                {
                  "name": "in_deezer_charts",
                  "rawType": "int64",
                  "type": "integer"
                },
                {
                  "name": "in_shazam_charts",
                  "rawType": "object",
                  "type": "string"
                },
                {
                  "name": "bpm",
                  "rawType": "int64",
                  "type": "integer"
                },
                {
                  "name": "key",
                  "rawType": "object",
                  "type": "string"
                },
                {
                  "name": "mode",
                  "rawType": "object",
                  "type": "string"
                },
                {
                  "name": "danceability_%",
                  "rawType": "int64",
                  "type": "integer"
                },
                {
                  "name": "valence_%",
                  "rawType": "int64",
                  "type": "integer"
                },
                {
                  "name": "energy_%",
                  "rawType": "int64",
                  "type": "integer"
                },
                {
                  "name": "acousticness_%",
                  "rawType": "int64",
                  "type": "integer"
                },
                {
                  "name": "instrumentalness_%",
                  "rawType": "int64",
                  "type": "integer"
                },
                {
                  "name": "liveness_%",
                  "rawType": "int64",
                  "type": "integer"
                },
                {
                  "name": "speechiness_%",
                  "rawType": "int64",
                  "type": "integer"
                }
              ],
              "conversionMethod": "pd.DataFrame",
              "ref": "7810dcec-8fc2-4aec-9aee-167776c72147",
              "rows": [
                [
                  "0",
                  "Seven (feat. Latto) (Explicit Ver.)",
                  "Latto, Jung Kook",
                  "2",
                  "2023",
                  "7",
                  "14",
                  "553",
                  "147",
                  "141381703",
                  "43",
                  "263",
                  "45",
                  "10",
                  "826",
                  "125",
                  "B",
                  "Major",
                  "80",
                  "89",
                  "83",
                  "31",
                  "0",
                  "8",
                  "4"
                ],
                [
                  "1",
                  "LALA",
                  "Myke Towers",
                  "1",
                  "2023",
                  "3",
                  "23",
                  "1474",
                  "48",
                  "133716286",
                  "48",
                  "126",
                  "58",
                  "14",
                  "382",
                  "92",
                  "C#",
                  "Major",
                  "71",
                  "61",
                  "74",
                  "7",
                  "0",
                  "10",
                  "4"
                ],
                [
                  "2",
                  "vampire",
                  "Olivia Rodrigo",
                  "1",
                  "2023",
                  "6",
                  "30",
                  "1397",
                  "113",
                  "140003974",
                  "94",
                  "207",
                  "91",
                  "14",
                  "949",
                  "138",
                  "F",
                  "Major",
                  "51",
                  "32",
                  "53",
                  "17",
                  "0",
                  "31",
                  "6"
                ],
                [
                  "3",
                  "Cruel Summer",
                  "Taylor Swift",
                  "1",
                  "2019",
                  "8",
                  "23",
                  "7858",
                  "100",
                  "800840817",
                  "116",
                  "207",
                  "125",
                  "12",
                  "548",
                  "170",
                  "A",
                  "Major",
                  "55",
                  "58",
                  "72",
                  "11",
                  "0",
                  "11",
                  "15"
                ],
                [
                  "4",
                  "WHERE SHE GOES",
                  "Bad Bunny",
                  "1",
                  "2023",
                  "5",
                  "18",
                  "3133",
                  "50",
                  "303236322",
                  "84",
                  "133",
                  "87",
                  "15",
                  "425",
                  "144",
                  "A",
                  "Minor",
                  "65",
                  "23",
                  "80",
                  "14",
                  "63",
                  "11",
                  "6"
                ]
              ],
              "shape": {
                "columns": 24,
                "rows": 5
              }
            },
            "text/html": [
              "<div>\n",
              "<style scoped>\n",
              "    .dataframe tbody tr th:only-of-type {\n",
              "        vertical-align: middle;\n",
              "    }\n",
              "\n",
              "    .dataframe tbody tr th {\n",
              "        vertical-align: top;\n",
              "    }\n",
              "\n",
              "    .dataframe thead th {\n",
              "        text-align: right;\n",
              "    }\n",
              "</style>\n",
              "<table border=\"1\" class=\"dataframe\">\n",
              "  <thead>\n",
              "    <tr style=\"text-align: right;\">\n",
              "      <th></th>\n",
              "      <th>track_name</th>\n",
              "      <th>artist(s)_name</th>\n",
              "      <th>artist_count</th>\n",
              "      <th>released_year</th>\n",
              "      <th>released_month</th>\n",
              "      <th>released_day</th>\n",
              "      <th>in_spotify_playlists</th>\n",
              "      <th>in_spotify_charts</th>\n",
              "      <th>streams</th>\n",
              "      <th>in_apple_playlists</th>\n",
              "      <th>...</th>\n",
              "      <th>bpm</th>\n",
              "      <th>key</th>\n",
              "      <th>mode</th>\n",
              "      <th>danceability_%</th>\n",
              "      <th>valence_%</th>\n",
              "      <th>energy_%</th>\n",
              "      <th>acousticness_%</th>\n",
              "      <th>instrumentalness_%</th>\n",
              "      <th>liveness_%</th>\n",
              "      <th>speechiness_%</th>\n",
              "    </tr>\n",
              "  </thead>\n",
              "  <tbody>\n",
              "    <tr>\n",
              "      <th>0</th>\n",
              "      <td>Seven (feat. Latto) (Explicit Ver.)</td>\n",
              "      <td>Latto, Jung Kook</td>\n",
              "      <td>2</td>\n",
              "      <td>2023</td>\n",
              "      <td>7</td>\n",
              "      <td>14</td>\n",
              "      <td>553</td>\n",
              "      <td>147</td>\n",
              "      <td>141381703</td>\n",
              "      <td>43</td>\n",
              "      <td>...</td>\n",
              "      <td>125</td>\n",
              "      <td>B</td>\n",
              "      <td>Major</td>\n",
              "      <td>80</td>\n",
              "      <td>89</td>\n",
              "      <td>83</td>\n",
              "      <td>31</td>\n",
              "      <td>0</td>\n",
              "      <td>8</td>\n",
              "      <td>4</td>\n",
              "    </tr>\n",
              "    <tr>\n",
              "      <th>1</th>\n",
              "      <td>LALA</td>\n",
              "      <td>Myke Towers</td>\n",
              "      <td>1</td>\n",
              "      <td>2023</td>\n",
              "      <td>3</td>\n",
              "      <td>23</td>\n",
              "      <td>1474</td>\n",
              "      <td>48</td>\n",
              "      <td>133716286</td>\n",
              "      <td>48</td>\n",
              "      <td>...</td>\n",
              "      <td>92</td>\n",
              "      <td>C#</td>\n",
              "      <td>Major</td>\n",
              "      <td>71</td>\n",
              "      <td>61</td>\n",
              "      <td>74</td>\n",
              "      <td>7</td>\n",
              "      <td>0</td>\n",
              "      <td>10</td>\n",
              "      <td>4</td>\n",
              "    </tr>\n",
              "    <tr>\n",
              "      <th>2</th>\n",
              "      <td>vampire</td>\n",
              "      <td>Olivia Rodrigo</td>\n",
              "      <td>1</td>\n",
              "      <td>2023</td>\n",
              "      <td>6</td>\n",
              "      <td>30</td>\n",
              "      <td>1397</td>\n",
              "      <td>113</td>\n",
              "      <td>140003974</td>\n",
              "      <td>94</td>\n",
              "      <td>...</td>\n",
              "      <td>138</td>\n",
              "      <td>F</td>\n",
              "      <td>Major</td>\n",
              "      <td>51</td>\n",
              "      <td>32</td>\n",
              "      <td>53</td>\n",
              "      <td>17</td>\n",
              "      <td>0</td>\n",
              "      <td>31</td>\n",
              "      <td>6</td>\n",
              "    </tr>\n",
              "    <tr>\n",
              "      <th>3</th>\n",
              "      <td>Cruel Summer</td>\n",
              "      <td>Taylor Swift</td>\n",
              "      <td>1</td>\n",
              "      <td>2019</td>\n",
              "      <td>8</td>\n",
              "      <td>23</td>\n",
              "      <td>7858</td>\n",
              "      <td>100</td>\n",
              "      <td>800840817</td>\n",
              "      <td>116</td>\n",
              "      <td>...</td>\n",
              "      <td>170</td>\n",
              "      <td>A</td>\n",
              "      <td>Major</td>\n",
              "      <td>55</td>\n",
              "      <td>58</td>\n",
              "      <td>72</td>\n",
              "      <td>11</td>\n",
              "      <td>0</td>\n",
              "      <td>11</td>\n",
              "      <td>15</td>\n",
              "    </tr>\n",
              "    <tr>\n",
              "      <th>4</th>\n",
              "      <td>WHERE SHE GOES</td>\n",
              "      <td>Bad Bunny</td>\n",
              "      <td>1</td>\n",
              "      <td>2023</td>\n",
              "      <td>5</td>\n",
              "      <td>18</td>\n",
              "      <td>3133</td>\n",
              "      <td>50</td>\n",
              "      <td>303236322</td>\n",
              "      <td>84</td>\n",
              "      <td>...</td>\n",
              "      <td>144</td>\n",
              "      <td>A</td>\n",
              "      <td>Minor</td>\n",
              "      <td>65</td>\n",
              "      <td>23</td>\n",
              "      <td>80</td>\n",
              "      <td>14</td>\n",
              "      <td>63</td>\n",
              "      <td>11</td>\n",
              "      <td>6</td>\n",
              "    </tr>\n",
              "  </tbody>\n",
              "</table>\n",
              "<p>5 rows × 24 columns</p>\n",
              "</div>"
            ],
            "text/plain": [
              "                            track_name    artist(s)_name  artist_count  \\\n",
              "0  Seven (feat. Latto) (Explicit Ver.)  Latto, Jung Kook             2   \n",
              "1                                 LALA       Myke Towers             1   \n",
              "2                              vampire    Olivia Rodrigo             1   \n",
              "3                         Cruel Summer      Taylor Swift             1   \n",
              "4                       WHERE SHE GOES         Bad Bunny             1   \n",
              "\n",
              "   released_year  released_month  released_day  in_spotify_playlists  \\\n",
              "0           2023               7            14                   553   \n",
              "1           2023               3            23                  1474   \n",
              "2           2023               6            30                  1397   \n",
              "3           2019               8            23                  7858   \n",
              "4           2023               5            18                  3133   \n",
              "\n",
              "   in_spotify_charts    streams  in_apple_playlists  ...  bpm key   mode  \\\n",
              "0                147  141381703                  43  ...  125   B  Major   \n",
              "1                 48  133716286                  48  ...   92  C#  Major   \n",
              "2                113  140003974                  94  ...  138   F  Major   \n",
              "3                100  800840817                 116  ...  170   A  Major   \n",
              "4                 50  303236322                  84  ...  144   A  Minor   \n",
              "\n",
              "  danceability_%  valence_% energy_% acousticness_%  instrumentalness_%  \\\n",
              "0             80         89       83             31                   0   \n",
              "1             71         61       74              7                   0   \n",
              "2             51         32       53             17                   0   \n",
              "3             55         58       72             11                   0   \n",
              "4             65         23       80             14                  63   \n",
              "\n",
              "   liveness_%  speechiness_%  \n",
              "0           8              4  \n",
              "1          10              4  \n",
              "2          31              6  \n",
              "3          11             15  \n",
              "4          11              6  \n",
              "\n",
              "[5 rows x 24 columns]"
            ]
          },
          "execution_count": 5,
          "metadata": {},
          "output_type": "execute_result"
        }
      ],
      "source": [
        "spotify = pd.read_csv('Data/spotify.csv')\n",
        "spotify.head()"
      ]
    },
    {
      "cell_type": "markdown",
      "id": "6445bba4-8254-4559-8e0b-8246430a72fe",
      "metadata": {},
      "source": [
        "Der Rückgabewert von `read_csv` ist ein sogenanntes `DataFrame`-Objekt, was in pandas einer Tabelle entspricht. Dies lässt sich mit dem Python-Befehl `type()` ermitteln."
      ]
    },
    {
      "cell_type": "code",
      "execution_count": 6,
      "id": "ae46444a-d7af-4620-b643-a84138c29a53",
      "metadata": {
        "tags": []
      },
      "outputs": [
        {
          "name": "stdout",
          "output_type": "stream",
          "text": [
            "<class 'int'>\n",
            "<class 'str'>\n",
            "<class 'pandas.core.frame.DataFrame'>\n"
          ]
        }
      ],
      "source": [
        "print(type(1))       # Ganze Zahlen haben den Typ int (für integer)\n",
        "print(type(\"Hello\")) # Texte haben den Typ str (für string)\n",
        "print(type(spotify))    # Tabellen haben in pandas den Typ DataFrame"
      ]
    },
    {
      "cell_type": "markdown",
      "id": "557ee695-307a-4ecf-a71e-09afd75375d4",
      "metadata": {},
      "source": [
        "<div class=\"alert alert-box alert-success\">\n",
        "\n",
        "### Aufgabe 1\n",
        "\n",
        "Lies die Datei `sleep.csv` ein und erstelle ein Dataframe mit dem Namen `sleep`. Zeige die ersten paar Zeilen dieses Datensatzes aus.    \n",
        "</div>"
      ]
    },
    {
      "cell_type": "code",
      "execution_count": 7,
      "id": "4bd443fc-00ea-4992-a7fa-3d3fff8f40cd",
      "metadata": {
        "tags": [],
        "trusted": true
      },
      "outputs": [],
      "source": [
        "# Hier Code eingeben"
      ]
    },
    {
      "cell_type": "markdown",
      "id": "4ced3418-e385-4efe-bfca-4f1ed9ea91e9",
      "metadata": {},
      "source": [
        "## Datentypen der Spalten herausfinden\n",
        "\n",
        "In Datensätzen für Data Science enthalten die Spalten in der Regel Werte desselben Datentyps (also z.B. nur ganze Zahlen oder nur Texte). Es kann aber vorkommen, dass eine Spalte verschiedene Datentypen enthält (z.B. Zahlen und Texte). Bevor man mit der Analyse der Daten loslegt, sollte man deshlab die Datentypen der Spalten überprüfen.\n",
        "\n",
        "<div class=\"alert alert-box alert-info\">\n",
        "    \n",
        "Was für **Datentypen** sind in `spotify` enthalten? Das kann man mit dem `dtypes` herausfinden. Dabei gilt:\n",
        "* `int64` = Ganze Zahlen mit 64 Bit\n",
        "* `float64` = Kommazahlen mit 64 Bit\n",
        "* `bool` = Wahrheitswerte (`True` und `False`)\n",
        "* `object` = alles andere, hier Zeichenketten (=Texte)\n",
        "  \n",
        "</div>"
      ]
    },
    {
      "cell_type": "code",
      "execution_count": 8,
      "id": "bd76b234-ff7b-400c-86b6-9c88793f95c5",
      "metadata": {
        "tags": []
      },
      "outputs": [
        {
          "data": {
            "text/plain": [
              "track_name              object\n",
              "artist(s)_name          object\n",
              "artist_count             int64\n",
              "released_year            int64\n",
              "released_month           int64\n",
              "released_day             int64\n",
              "in_spotify_playlists     int64\n",
              "in_spotify_charts        int64\n",
              "streams                  int64\n",
              "in_apple_playlists       int64\n",
              "in_apple_charts          int64\n",
              "in_deezer_playlists     object\n",
              "in_deezer_charts         int64\n",
              "in_shazam_charts        object\n",
              "bpm                      int64\n",
              "key                     object\n",
              "mode                    object\n",
              "danceability_%           int64\n",
              "valence_%                int64\n",
              "energy_%                 int64\n",
              "acousticness_%           int64\n",
              "instrumentalness_%       int64\n",
              "liveness_%               int64\n",
              "speechiness_%            int64\n",
              "dtype: object"
            ]
          },
          "execution_count": 8,
          "metadata": {},
          "output_type": "execute_result"
        }
      ],
      "source": [
        "spotify.dtypes"
      ]
    },
    {
      "cell_type": "markdown",
      "id": "ad794128-a999-4b99-896f-4514a5ecb371",
      "metadata": {},
      "source": [
        "<div class=\"alert alert-box alert-success\">\n",
        "\n",
        "### Aufgabe 2\n",
        "**a)** Finden Sie heraus, was die Datentypen im  Datensatz `sleep` sind.\n",
        "</div>"
      ]
    },
    {
      "cell_type": "code",
      "execution_count": 9,
      "id": "049e65de-6ddb-4179-a825-036b226cd40f",
      "metadata": {
        "tags": []
      },
      "outputs": [],
      "source": [
        "# Hier Code eingeben"
      ]
    },
    {
      "cell_type": "markdown",
      "id": "f1e933c5-18d0-464a-9c5b-33c43f7513b0",
      "metadata": {},
      "source": [
        "<div class=\"alert alert-box alert-success\">\n",
        "    \n",
        "**b)** Erklären Sie, weshalb  `Age` den gezeigten Datentyp hat. Wie ist diese Zahl zu interpretieren? Schreiben Sie Ihre Antwort in der nächsten Zelle.\n",
        "\n",
        "</div>"
      ]
    },
    {
      "cell_type": "markdown",
      "id": "4776106d-0a2b-487d-803c-fead768d7cda",
      "metadata": {},
      "source": [
        "   \n",
        "**Antwort**: ..."
      ]
    },
    {
      "cell_type": "markdown",
      "id": "ff59b5f2-d976-462d-a7d2-a608e69de9f2",
      "metadata": {},
      "source": [
        "## Einzelne Spalten auswählen\n",
        "\n",
        "`DataFrame`s sind ein spezielles Python-Objekt, welches sich in mehreren Hinsichten von Listen unterscheidet. Eine wichtige Eigenschaft von `DataFrame`s sind die eckigen Klammern `[]`, womit (unter anderem) einzelne oder mehrere Spalten selektiert werden können.\n",
        "\n",
        "<div class=\"alert alert-box alert-info\">\n",
        "\n",
        "**Spalten selektieren in `pandas`**\n",
        "    \n",
        "Mit dem Suffix `df[\"Spaltennamen\"]` kann man eine bestimmte Spalte eines `Dataframe`s `df` auswählen und mit `=` einer Variable zuweisen.\n",
        "</div>"
      ]
    },
    {
      "cell_type": "code",
      "execution_count": 10,
      "id": "0c502c98-42b7-4f3c-b5ca-262f06cae765",
      "metadata": {
        "tags": []
      },
      "outputs": [
        {
          "data": {
            "text/plain": [
              "0      Major\n",
              "1      Major\n",
              "2      Major\n",
              "3      Major\n",
              "4      Minor\n",
              "       ...  \n",
              "947    Major\n",
              "948    Major\n",
              "949    Major\n",
              "950    Major\n",
              "951    Minor\n",
              "Name: mode, Length: 952, dtype: object"
            ]
          },
          "execution_count": 10,
          "metadata": {},
          "output_type": "execute_result"
        }
      ],
      "source": [
        "# Beispiel\n",
        "mode = spotify[\"mode\"]\n",
        "mode"
      ]
    },
    {
      "cell_type": "markdown",
      "id": "de3fc568-b9e9-46ec-a27b-05fb587f0f5c",
      "metadata": {},
      "source": [
        "Tabellenspalten werden in pandas `Series` genannt. Dies lässt sich mit Hilfe `type()`-Befehls einsehen."
      ]
    },
    {
      "cell_type": "code",
      "execution_count": 11,
      "id": "9b6cd0be-eb2a-41af-bf57-967e94e5ebd5",
      "metadata": {
        "tags": []
      },
      "outputs": [
        {
          "data": {
            "text/plain": [
              "pandas.core.series.Series"
            ]
          },
          "execution_count": 11,
          "metadata": {},
          "output_type": "execute_result"
        }
      ],
      "source": [
        "type(mode)"
      ]
    },
    {
      "cell_type": "markdown",
      "id": "6c150f07-939c-467e-882b-04c880318902",
      "metadata": {},
      "source": [
        "<div class=\"alert alert-box alert-success\">\n",
        "\n",
        "### Aufgabe 3\n",
        "    \n",
        "Lesen Sie im `sleep`-Datensatz die Spalte `Heart Rate` aus und weisen Sie diese der Variable `hr` zu. Überprüfen Sie anschliessend den Datentyp der Variable.\n",
        "</div>"
      ]
    },
    {
      "cell_type": "code",
      "execution_count": 12,
      "id": "db3496f0-72b4-49ee-a04d-0fd6fcacd836",
      "metadata": {
        "tags": []
      },
      "outputs": [],
      "source": [
        "# Hier Code eingeben"
      ]
    },
    {
      "cell_type": "markdown",
      "id": "cac6a01d-cfd0-4dc5-9d17-ab174ed5e70c",
      "metadata": {},
      "source": [
        "## Aggregationsfunktionen\n",
        "\n",
        "In pandas lassen sich auf `Series`-Objekte diverse Aggregationsfunktionen aufrufen. Diese werden über einen Punkt direkt an die Variable angehägt.\n",
        "\n",
        "* `.sum()`: Summe der Werte in der Spalte\n",
        "* `.count()`: Anzahl Werte in der Spalte\n",
        "* `.max()`: Grösster Wert in der Spalte\n",
        "* `.min()`: Kleinster Wert in der Spalte\n",
        "* `.mean()`: Mittelwert (Durchschnitt) der Werte in der Spalte\n",
        "* `.std()`: Standardabweichung der Werte in der Spalte\n",
        "* `.unique()`: Alle verschiedenen Werte in der Spalte (ohne Duplikate)\n",
        "* `.value_counts()`: Alle verschiedenen Werte in der Spalte und ihre Anzahl. Der Rückgabewert ist wiederum ein `Series`-Objekt.\n",
        "\n",
        "Mit `weekdays.unique()` lassen sich z.B. die verschiedenen Werte im `Series`-Objekt `weekdays` auslesen (ohne Duplikate).\n",
        "\n",
        "Solche Funktionen, welche *nach* einem Objekt (z.B. `DataFrame`-Objekt) stehen, werden in Python **Methoden** genannt. Der erste Parameter der Methode ist dabei jeweils das vorausgehende Python-Objekt."
      ]
    },
    {
      "cell_type": "code",
      "execution_count": 13,
      "id": "07fd7272-3799-46d4-8828-662c657ce115",
      "metadata": {
        "tags": []
      },
      "outputs": [
        {
          "data": {
            "text/plain": [
              "array(['Major', 'Minor'], dtype=object)"
            ]
          },
          "execution_count": 13,
          "metadata": {},
          "output_type": "execute_result"
        }
      ],
      "source": [
        "mode.unique()"
      ]
    },
    {
      "cell_type": "markdown",
      "id": "f9df392a-df74-4d0e-9c53-e7cb8a03a65d",
      "metadata": {},
      "source": [
        "Welcher der beiden Werte \"Major\" (Dur) oder \"Minor\" (Moll) kommt häufiger vor? Dies können wir mit der funktion `.value_counts()` herausfinden:"
      ]
    },
    {
      "cell_type": "code",
      "execution_count": 14,
      "id": "5af445f2-4a59-418d-b442-852f33aeb4d4",
      "metadata": {
        "tags": []
      },
      "outputs": [
        {
          "data": {
            "text/plain": [
              "mode\n",
              "Major    549\n",
              "Minor    403\n",
              "Name: count, dtype: int64"
            ]
          },
          "execution_count": 14,
          "metadata": {},
          "output_type": "execute_result"
        }
      ],
      "source": [
        "mode.value_counts()"
      ]
    },
    {
      "cell_type": "markdown",
      "id": "6f97d575",
      "metadata": {},
      "source": [
        "Wir sehen im Resultat auch, dass \"Major\" (Dur) der häufigere Wert ist, mit 549 Vorkommnissen."
      ]
    },
    {
      "cell_type": "markdown",
      "id": "4513a7b6-b036-4f54-a3d8-34b7b820a4c4",
      "metadata": {},
      "source": [
        "Man muss nicht jedes Mal die ausgewählte Serie in eine Variable speichern. Die Erstellung einer Variable gibt in erster Linie dann Sinn, wenn man die Absicht hat, später mit dieser Serie weiterzuarbeiten. Ist dies nicht der Fall, kann der Wert direkt ausgegeben werden, ohne ihn vorher abzuspeichern."
      ]
    },
    {
      "cell_type": "code",
      "execution_count": 15,
      "id": "e74cca6c-c5c6-4267-8de8-0de37cbb7a3b",
      "metadata": {
        "tags": []
      },
      "outputs": [
        {
          "data": {
            "text/plain": [
              "3703.895074"
            ]
          },
          "execution_count": 15,
          "metadata": {},
          "output_type": "execute_result"
        }
      ],
      "source": [
        "# meistgestreamter Song in Millionen\n",
        "spotify[\"streams\"].max() / 1e6"
      ]
    },
    {
      "cell_type": "markdown",
      "id": "41b6970d-260c-4c21-a814-dba7f3460083",
      "metadata": {},
      "source": [
        "<div class=\"alert alert-box alert-success\">\n",
        "\n",
        "### Aufgabe 4\n",
        "\n",
        "Verwenden Sie für jede Teilaufgabe eine eigene Zelle.\n",
        "    \n",
        "**a)** Wählen Sie alle Berufe (`Occupation`) aus und speichern Sie diese Serie in einer neuen Variable `occ`. Vergewissern Sie sich, dass der Datentyp eine pandas-Series ist.\n",
        "\n",
        "**b)** Finden Sie heraus, was die unterschiedlichen Werte sind. (Hinweis: `NaN` bedeutet \"kein Wert\")\n",
        "    \n",
        "**c)** Finden Sie heraus, welcher Beruf am häufigsten vorkommt.\n",
        "\n",
        "</div>"
      ]
    },
    {
      "cell_type": "code",
      "execution_count": 16,
      "id": "31684b17",
      "metadata": {},
      "outputs": [],
      "source": [
        "# Hier Code eingeben"
      ]
    },
    {
      "cell_type": "code",
      "execution_count": 17,
      "id": "dceafe7e-642c-4477-bac9-6e6b4c419887",
      "metadata": {},
      "outputs": [],
      "source": [
        "# Hier Code eingeben"
      ]
    },
    {
      "cell_type": "code",
      "execution_count": 18,
      "id": "8cc02bb0",
      "metadata": {},
      "outputs": [],
      "source": [
        "# Hier Code eingeben"
      ]
    },
    {
      "cell_type": "markdown",
      "id": "2346462a-fc7e-4125-b76a-350ea0d16ffd",
      "metadata": {},
      "source": [
        "<div class=\"alert alert-box alert-success\">\n",
        "\n",
        "### Aufgabe 5\n",
        "\n",
        "Verwende für jede Teilaufgabe eine eigene Zelle.\n",
        "    \n",
        "**a)** Wie kurz war die kürzeste Schlafdauer aller Personen?\n",
        "    \n",
        "**b)** Wurden mehr Männer oder Frauen befragt?\n",
        "    \n",
        "**c)** Wie lange haben alle Personen im Datensatz insgesamt geschlafen? Teilen Sie Ihr Resultat durch `24`, um das Resultat in Tagen zu erhalten.\n",
        "\n",
        "</div>"
      ]
    },
    {
      "cell_type": "code",
      "execution_count": 19,
      "id": "f3fef1c6-2a83-4352-a218-e846d534e925",
      "metadata": {
        "tags": []
      },
      "outputs": [],
      "source": [
        "# Hier Code eingeben"
      ]
    },
    {
      "cell_type": "code",
      "execution_count": 20,
      "id": "48c24b65-7107-4b95-a05e-b4227eb49758",
      "metadata": {},
      "outputs": [],
      "source": [
        "# Hier Code eingeben"
      ]
    },
    {
      "cell_type": "code",
      "execution_count": 21,
      "id": "9e564315-3038-46a4-a159-f8d0ca9d49c5",
      "metadata": {},
      "outputs": [],
      "source": [
        "# Hier Code eingeben"
      ]
    },
    {
      "cell_type": "code",
      "execution_count": 22,
      "id": "935d2687-923a-43b2-a156-cef6b4decddc",
      "metadata": {
        "trusted": true
      },
      "outputs": [],
      "source": [
        "# Hier Code eingeben"
      ]
    },
    {
      "cell_type": "markdown",
      "id": "4c2046ad-7791-4420-872c-0d51bebfc6d5",
      "metadata": {},
      "source": [
        "## Daten filtern\n",
        "\n",
        "Auch mit Hilfe von `pandas` lassen sich Datensätze *filtern*. Im Folgenden filtern wir nach allen Zeilen, welche in der Spalte `sex` den Wert `Female` stehen haben. Das geht in zwei Schritten:"
      ]
    },
    {
      "cell_type": "markdown",
      "id": "10534853-0604-46d7-adb2-a2e71d352a56",
      "metadata": {},
      "source": [
        "<div class=\"alert alert-box alert-info\">\n",
        "    \n",
        "**Schritt 1:** Wenn man für eine ausgewählte Spalte eine *Bedingung* angibt, wird diese *für jede Zeile* ausgewertet. Das Ergebnis ist ein `Series`-Objekt mit den Werten `True` (Bedingung ist wahr) oder `False` (Bedingung ist falsch).\n",
        "</div>"
      ]
    },
    {
      "cell_type": "code",
      "execution_count": 23,
      "id": "4d39cfaa-6c20-49b5-809a-c13b28efede9",
      "metadata": {
        "tags": []
      },
      "outputs": [
        {
          "data": {
            "text/plain": [
              "0      False\n",
              "1       True\n",
              "2      False\n",
              "3      False\n",
              "4      False\n",
              "       ...  \n",
              "947    False\n",
              "948    False\n",
              "949    False\n",
              "950    False\n",
              "951    False\n",
              "Name: released_month, Length: 952, dtype: bool"
            ]
          },
          "execution_count": 23,
          "metadata": {},
          "output_type": "execute_result"
        }
      ],
      "source": [
        "# filter, um alle im März veröffentlichten Songs zu finden\n",
        "spotify[\"released_month\"] == 3"
      ]
    },
    {
      "cell_type": "markdown",
      "id": "19198a7f-22f4-4cad-a32a-1f2465a5dc36",
      "metadata": {},
      "source": [
        "<div class=\"alert alert-box alert-info\">\n",
        "\n",
        "**Schritt 2**: Den Ausdruck aus Schritt 1 kann man nun innerhalb von `DataFrame`-Selektionsklammern `[]` verwenden, um pandas mitzuteilen, welche Zeilen wir dabei haben wollen und welche nicht: nur Zeilen mit einem `True` bleiben erhalten.\n",
        "</div>"
      ]
    },
    {
      "cell_type": "code",
      "execution_count": 24,
      "id": "e0d6f1da-478c-4088-b2f3-e97783e5a027",
      "metadata": {
        "tags": []
      },
      "outputs": [
        {
          "data": {
            "application/vnd.microsoft.datawrangler.viewer.v0+json": {
              "columns": [
                {
                  "name": "index",
                  "rawType": "int64",
                  "type": "integer"
                },
                {
                  "name": "track_name",
                  "rawType": "object",
                  "type": "string"
                },
                {
                  "name": "artist(s)_name",
                  "rawType": "object",
                  "type": "string"
                },
                {
                  "name": "artist_count",
                  "rawType": "int64",
                  "type": "integer"
                },
                {
                  "name": "released_year",
                  "rawType": "int64",
                  "type": "integer"
                },
                {
                  "name": "released_month",
                  "rawType": "int64",
                  "type": "integer"
                },
                {
                  "name": "released_day",
                  "rawType": "int64",
                  "type": "integer"
                },
                {
                  "name": "in_spotify_playlists",
                  "rawType": "int64",
                  "type": "integer"
                },
                {
                  "name": "in_spotify_charts",
                  "rawType": "int64",
                  "type": "integer"
                },
                {
                  "name": "streams",
                  "rawType": "int64",
                  "type": "integer"
                },
                {
                  "name": "in_apple_playlists",
                  "rawType": "int64",
                  "type": "integer"
                },
                {
                  "name": "in_apple_charts",
                  "rawType": "int64",
                  "type": "integer"
                },
                {
                  "name": "in_deezer_playlists",
                  "rawType": "object",
                  "type": "string"
                },
                {
                  "name": "in_deezer_charts",
                  "rawType": "int64",
                  "type": "integer"
                },
                {
                  "name": "in_shazam_charts",
                  "rawType": "object",
                  "type": "unknown"
                },
                {
                  "name": "bpm",
                  "rawType": "int64",
                  "type": "integer"
                },
                {
                  "name": "key",
                  "rawType": "object",
                  "type": "unknown"
                },
                {
                  "name": "mode",
                  "rawType": "object",
                  "type": "string"
                },
                {
                  "name": "danceability_%",
                  "rawType": "int64",
                  "type": "integer"
                },
                {
                  "name": "valence_%",
                  "rawType": "int64",
                  "type": "integer"
                },
                {
                  "name": "energy_%",
                  "rawType": "int64",
                  "type": "integer"
                },
                {
                  "name": "acousticness_%",
                  "rawType": "int64",
                  "type": "integer"
                },
                {
                  "name": "instrumentalness_%",
                  "rawType": "int64",
                  "type": "integer"
                },
                {
                  "name": "liveness_%",
                  "rawType": "int64",
                  "type": "integer"
                },
                {
                  "name": "speechiness_%",
                  "rawType": "int64",
                  "type": "integer"
                }
              ],
              "conversionMethod": "pd.DataFrame",
              "ref": "948a0af4-bf8d-4814-b9fd-fb1a5d099e71",
              "rows": [
                [
                  "1",
                  "LALA",
                  "Myke Towers",
                  "1",
                  "2023",
                  "3",
                  "23",
                  "1474",
                  "48",
                  "133716286",
                  "48",
                  "126",
                  "58",
                  "14",
                  "382",
                  "92",
                  "C#",
                  "Major",
                  "71",
                  "61",
                  "74",
                  "7",
                  "0",
                  "10",
                  "4"
                ],
                [
                  "6",
                  "Ella Baila Sola",
                  "Eslabon Armado, Peso Pluma",
                  "2",
                  "2023",
                  "3",
                  "16",
                  "3090",
                  "50",
                  "725980112",
                  "34",
                  "222",
                  "43",
                  "13",
                  "418",
                  "148",
                  "F",
                  "Minor",
                  "67",
                  "83",
                  "76",
                  "48",
                  "0",
                  "8",
                  "3"
                ],
                [
                  "9",
                  "La Bebe - Remix",
                  "Peso Pluma, Yng Lvcas",
                  "2",
                  "2023",
                  "3",
                  "17",
                  "2953",
                  "44",
                  "553634067",
                  "49",
                  "110",
                  "66",
                  "13",
                  "339",
                  "170",
                  "D",
                  "Minor",
                  "81",
                  "56",
                  "48",
                  "21",
                  "0",
                  "8",
                  "33"
                ],
                [
                  "14",
                  "As It Was",
                  "Harry Styles",
                  "1",
                  "2022",
                  "3",
                  "31",
                  "23575",
                  "130",
                  "2513188493",
                  "403",
                  "198",
                  "863",
                  "46",
                  null,
                  "174",
                  "F#",
                  "Minor",
                  "52",
                  "66",
                  "73",
                  "34",
                  "0",
                  "31",
                  "6"
                ],
                [
                  "18",
                  "Classy 101",
                  "Feid, Young Miko",
                  "2",
                  "2023",
                  "3",
                  "31",
                  "2610",
                  "40",
                  "335222234",
                  "43",
                  "100",
                  "54",
                  "14",
                  "187",
                  "100",
                  "B",
                  "Major",
                  "86",
                  "67",
                  "66",
                  "14",
                  "0",
                  "12",
                  "16"
                ],
                [
                  "19",
                  "Like Crazy",
                  "Jimin",
                  "1",
                  "2023",
                  "3",
                  "24",
                  "596",
                  "68",
                  "363369738",
                  "8",
                  "104",
                  "23",
                  "2",
                  "29",
                  "120",
                  "G",
                  "Major",
                  "63",
                  "36",
                  "73",
                  "0",
                  "0",
                  "36",
                  "4"
                ],
                [
                  "26",
                  "Calm Down (with Selena Gomez)",
                  "Rï¿½ï¿½ma, Selena G",
                  "2",
                  "2022",
                  "3",
                  "25",
                  "7112",
                  "77",
                  "899183384",
                  "202",
                  "119",
                  "318",
                  "38",
                  "96",
                  "107",
                  "B",
                  "Major",
                  "80",
                  "82",
                  "80",
                  "43",
                  "0",
                  "14",
                  "4"
                ],
                [
                  "63",
                  "BESO",
                  "Rauw Alejandro, ROSALï¿½",
                  "2",
                  "2023",
                  "3",
                  "24",
                  "4053",
                  "50",
                  "357925728",
                  "82",
                  "121",
                  "182",
                  "12",
                  "171",
                  "95",
                  "F",
                  "Minor",
                  "77",
                  "53",
                  "64",
                  "74",
                  "0",
                  "17",
                  "14"
                ],
                [
                  "85",
                  "El Merengue",
                  "Marshmello, Manuel Turizo",
                  "2",
                  "2023",
                  "3",
                  "3",
                  "2114",
                  "44",
                  "223633238",
                  "80",
                  "75",
                  "110",
                  "11",
                  "323",
                  "124",
                  "G#",
                  "Minor",
                  "78",
                  "70",
                  "68",
                  "3",
                  "1",
                  "11",
                  "4"
                ],
                [
                  "90",
                  "Fast Car",
                  "Luke Combs",
                  "1",
                  "2023",
                  "3",
                  "24",
                  "1446",
                  "12",
                  "157058870",
                  "57",
                  "97",
                  "35",
                  "0",
                  "429",
                  "98",
                  "G#",
                  "Major",
                  "71",
                  "67",
                  "60",
                  "19",
                  "0",
                  "12",
                  "3"
                ],
                [
                  "91",
                  "What It Is (Solo Version)",
                  "Doechii",
                  "1",
                  "2023",
                  "3",
                  "17",
                  "804",
                  "25",
                  "95131998",
                  "29",
                  "76",
                  "24",
                  "0",
                  "162",
                  "172",
                  "C#",
                  "Minor",
                  "74",
                  "76",
                  "76",
                  "6",
                  "0",
                  "10",
                  "9"
                ],
                [
                  "92",
                  "Coco Chanel",
                  "Bad Bunny, Eladio Carrion",
                  "2",
                  "2023",
                  "3",
                  "17",
                  "1962",
                  "38",
                  "250305248",
                  "28",
                  "89",
                  "29",
                  "5",
                  "82",
                  "150",
                  "D",
                  "Major",
                  "68",
                  "14",
                  "76",
                  "4",
                  "0",
                  "10",
                  "4"
                ],
                [
                  "96",
                  "Say Yes To Heaven",
                  "Lana Del Rey",
                  "1",
                  "2023",
                  "3",
                  "17",
                  "2000",
                  "46",
                  "127567540",
                  "49",
                  "105",
                  "63",
                  "1",
                  "0",
                  "100",
                  "F#",
                  "Minor",
                  "49",
                  "17",
                  "35",
                  "71",
                  "9",
                  "11",
                  "3"
                ],
                [
                  "108",
                  "Bones",
                  "Imagine Dragons",
                  "1",
                  "2021",
                  "3",
                  "11",
                  "4198",
                  "44",
                  "838079900",
                  "98",
                  "108",
                  "327",
                  "17",
                  "153",
                  "114",
                  "F",
                  "Minor",
                  "77",
                  "65",
                  "72",
                  "2",
                  "0",
                  "7",
                  "5"
                ],
                [
                  "121",
                  "Miracle (with Ellie Goulding)",
                  "Calvin Harris, Ellie Goulding",
                  "2",
                  "2023",
                  "3",
                  "10",
                  "5120",
                  "48",
                  "211050784",
                  "161",
                  "115",
                  "246",
                  "9",
                  "638",
                  "143",
                  "A",
                  "Major",
                  "64",
                  "31",
                  "87",
                  "4",
                  "4",
                  "8",
                  "4"
                ],
                [
                  "158",
                  "Ghost",
                  "Justin Bieber",
                  "1",
                  "2021",
                  "3",
                  "19",
                  "5866",
                  "24",
                  "1167330737",
                  "107",
                  "38",
                  "95",
                  "0",
                  null,
                  "154",
                  "D",
                  "Major",
                  "61",
                  "41",
                  "74",
                  "21",
                  "0",
                  "40",
                  "6"
                ],
                [
                  "164",
                  "Save Your Tears",
                  "The Weeknd",
                  "1",
                  "2020",
                  "3",
                  "20",
                  "12688",
                  "13",
                  "1591223784",
                  "197",
                  "115",
                  "112",
                  "0",
                  "200",
                  "118",
                  null,
                  "Major",
                  "68",
                  "61",
                  "82",
                  "2",
                  "0",
                  "50",
                  "3"
                ],
                [
                  "178",
                  "SNAP",
                  "Rosa Linn",
                  "1",
                  "2022",
                  "3",
                  "19",
                  "3202",
                  "18",
                  "726307468",
                  "148",
                  "80",
                  "226",
                  "24",
                  "0",
                  "170",
                  null,
                  "Major",
                  "56",
                  "53",
                  "64",
                  "11",
                  "0",
                  "45",
                  "6"
                ],
                [
                  "184",
                  "Apocalypse",
                  "Cigarettes After Sex",
                  "1",
                  "2017",
                  "3",
                  "21",
                  "13091",
                  "17",
                  "841749534",
                  "61",
                  "96",
                  "790",
                  "2",
                  "116",
                  "94",
                  "F",
                  "Major",
                  "37",
                  "17",
                  "47",
                  "2",
                  "46",
                  "11",
                  "3"
                ],
                [
                  "207",
                  "Chanel",
                  "Becky G, Peso Pluma",
                  "2",
                  "2023",
                  "3",
                  "30",
                  "681",
                  "10",
                  "161460990",
                  "15",
                  "92",
                  "21",
                  "2",
                  "26",
                  "132",
                  "D",
                  "Major",
                  "85",
                  "53",
                  "68",
                  "40",
                  "0",
                  "9",
                  "4"
                ],
                [
                  "209",
                  "Area Codes",
                  "Kaliii, Kaliii",
                  "2",
                  "2023",
                  "3",
                  "17",
                  "1197",
                  "13",
                  "113509496",
                  "44",
                  "34",
                  "25",
                  "1",
                  "171",
                  "155",
                  "C#",
                  "Major",
                  "82",
                  "51",
                  "39",
                  "2",
                  "0",
                  "9",
                  "49"
                ],
                [
                  "213",
                  "FLOWER",
                  "JISOO",
                  "1",
                  "2023",
                  "3",
                  "31",
                  "839",
                  "18",
                  "232896922",
                  "20",
                  "110",
                  "20",
                  "0",
                  "69",
                  "124",
                  "A",
                  "Minor",
                  "84",
                  "64",
                  "39",
                  "3",
                  "0",
                  "11",
                  "4"
                ],
                [
                  "215",
                  "Eyes Closed",
                  "Ed Sheeran",
                  "1",
                  "2023",
                  "3",
                  "23",
                  "2915",
                  "30",
                  "195576623",
                  "116",
                  "69",
                  "107",
                  "3",
                  "675",
                  "107",
                  "D",
                  "Major",
                  "78",
                  "39",
                  "53",
                  "30",
                  "0",
                  "11",
                  "6"
                ],
                [
                  "229",
                  "Seu Brilho Sumiu - Ao Vivo",
                  "Israel & Rodolffo, Mari Fernandez",
                  "2",
                  "2023",
                  "3",
                  "1",
                  "967",
                  "5",
                  "138517666",
                  "7",
                  "29",
                  "51",
                  "1",
                  "29",
                  "154",
                  "F#",
                  "Major",
                  "63",
                  "75",
                  "92",
                  "31",
                  "0",
                  "91",
                  "5"
                ],
                [
                  "266",
                  "Shorty Party",
                  "Cartel De Santa, La Kelly",
                  "2",
                  "2023",
                  "3",
                  "4",
                  "432",
                  "12",
                  "162887075",
                  "8",
                  "14",
                  "12",
                  "2",
                  "33",
                  "96",
                  "D",
                  "Major",
                  "93",
                  "47",
                  "47",
                  "33",
                  "0",
                  "10",
                  "36"
                ],
                [
                  "287",
                  "Set Me Free Pt.2",
                  "Jimin",
                  "1",
                  "2023",
                  "3",
                  "17",
                  "340",
                  "13",
                  "168448603",
                  "4",
                  "71",
                  "16",
                  "1",
                  "9",
                  "132",
                  null,
                  "Minor",
                  "59",
                  "56",
                  "82",
                  "12",
                  "0",
                  "12",
                  "6"
                ],
                [
                  "288",
                  "I Was Never There",
                  "The Weeknd, Gesaffelstein",
                  "2",
                  "2018",
                  "3",
                  "29",
                  "4188",
                  "15",
                  "705469769",
                  "30",
                  "70",
                  "142",
                  "0",
                  "27",
                  "114",
                  "A#",
                  "Major",
                  "32",
                  "17",
                  "74",
                  "14",
                  "0",
                  "17",
                  "3"
                ],
                [
                  "292",
                  "Call Out My Name",
                  "The Weeknd",
                  "1",
                  "2018",
                  "3",
                  "29",
                  "11087",
                  "6",
                  "1449799467",
                  "151",
                  "107",
                  "801",
                  "1",
                  "105",
                  "134",
                  "C#",
                  "Major",
                  "45",
                  "17",
                  "60",
                  "21",
                  "0",
                  "33",
                  "4"
                ],
                [
                  "293",
                  "Like Crazy (English Version)",
                  "Jimin",
                  "1",
                  "2023",
                  "3",
                  "24",
                  "373",
                  "19",
                  "173627354",
                  "4",
                  "72",
                  "5",
                  "0",
                  "5",
                  "120",
                  "G",
                  "Major",
                  "62",
                  "32",
                  "76",
                  "0",
                  "0",
                  "39",
                  "4"
                ],
                [
                  "298",
                  "Mas Rica Que Ayer",
                  "Mambo Kingz, DJ Luian, Anuel Aa",
                  "3",
                  "2023",
                  "3",
                  "2",
                  "1208",
                  "34",
                  "146409671",
                  "10",
                  "41",
                  "20",
                  "0",
                  "1",
                  "94",
                  "B",
                  "Major",
                  "82",
                  "53",
                  "67",
                  "34",
                  "0",
                  "9",
                  "8"
                ],
                [
                  "300",
                  "REMIX EXCLUSIVO",
                  "Feid",
                  "1",
                  "2023",
                  "3",
                  "17",
                  "1235",
                  "9",
                  "117206995",
                  "20",
                  "8",
                  "15",
                  "0",
                  "6",
                  "87",
                  "F",
                  "Minor",
                  "65",
                  "71",
                  "56",
                  "4",
                  "0",
                  "15",
                  "20"
                ],
                [
                  "301",
                  "Arcï¿½ï¿½ngel: Bzrp Music Sessions, Vol",
                  "Arcangel, Bizarrap",
                  "2",
                  "2023",
                  "3",
                  "22",
                  "654",
                  "3",
                  "100409613",
                  "11",
                  "3",
                  "18",
                  "1",
                  "1",
                  "124",
                  "B",
                  "Minor",
                  "72",
                  "79",
                  "78",
                  "55",
                  "0",
                  "15",
                  "30"
                ],
                [
                  "302",
                  "DOGTOOTH",
                  "Tyler, The Creator",
                  "2",
                  "2023",
                  "3",
                  "27",
                  "1479",
                  "0",
                  "80758350",
                  "23",
                  "0",
                  "18",
                  "0",
                  "33",
                  "78",
                  "G#",
                  "Major",
                  "71",
                  "80",
                  "65",
                  "51",
                  "0",
                  "22",
                  "32"
                ],
                [
                  "304",
                  "SORRY NOT SORRY",
                  "Tyler, The Creator",
                  "2",
                  "2023",
                  "3",
                  "31",
                  "709",
                  "0",
                  "58473276",
                  "8",
                  "1",
                  "13",
                  "0",
                  "0",
                  "96",
                  "F#",
                  "Minor",
                  "48",
                  "50",
                  "80",
                  "40",
                  "0",
                  "37",
                  "20"
                ],
                [
                  "305",
                  "HAPPY",
                  "NF",
                  "1",
                  "2023",
                  "3",
                  "25",
                  "660",
                  "0",
                  "52722996",
                  "22",
                  "7",
                  "11",
                  "0",
                  "78",
                  "106",
                  "G",
                  "Major",
                  "73",
                  "22",
                  "86",
                  "31",
                  "0",
                  "12",
                  "4"
                ],
                [
                  "307",
                  "I Know - PR1SVX Edit",
                  "Kanii, PR1ISVX",
                  "2",
                  "2023",
                  "3",
                  "24",
                  "407",
                  "0",
                  "77377503",
                  "16",
                  "15",
                  "5",
                  "0",
                  "1",
                  "134",
                  "B",
                  "Minor",
                  "67",
                  "11",
                  "76",
                  "8",
                  "47",
                  "30",
                  "7"
                ],
                [
                  "310",
                  "Save Your Tears (with Ariana Grande) (Remix)",
                  "Ariana Grande, The Weeknd",
                  "2",
                  "2020",
                  "3",
                  "20",
                  "9161",
                  "5",
                  "1221813483",
                  "240",
                  "98",
                  "468",
                  "3",
                  "10",
                  "118",
                  null,
                  "Major",
                  "65",
                  "63",
                  "79",
                  "3",
                  "0",
                  "10",
                  "3"
                ],
                [
                  "312",
                  "VOID",
                  "Melanie Martinez",
                  "1",
                  "2023",
                  "3",
                  "29",
                  "596",
                  "0",
                  "67070410",
                  "29",
                  "9",
                  "12",
                  "0",
                  "52",
                  "100",
                  "A",
                  "Major",
                  "72",
                  "42",
                  "66",
                  "18",
                  "4",
                  "19",
                  "4"
                ],
                [
                  "313",
                  "Dijeron Que No La Iba Lograr",
                  "Fuerza Regida, Chino Pacas",
                  "2",
                  "2023",
                  "3",
                  "14",
                  "320",
                  "6",
                  "116334601",
                  "5",
                  "48",
                  "2",
                  "1",
                  "9",
                  "142",
                  "G",
                  "Minor",
                  "70",
                  "76",
                  "79",
                  "26",
                  "0",
                  "11",
                  "7"
                ],
                [
                  "331",
                  "Numb",
                  "Linkin Park",
                  "1",
                  "2003",
                  "3",
                  "24",
                  "20111",
                  "5",
                  "1361425037",
                  "39",
                  "0",
                  "7,341",
                  "0",
                  "0",
                  "110",
                  "A",
                  "Major",
                  "50",
                  "24",
                  "86",
                  "0",
                  "0",
                  "64",
                  "4"
                ],
                [
                  "333",
                  "on the street (with J. Cole)",
                  "j-hope, J. Cole",
                  "2",
                  "2023",
                  "3",
                  "3",
                  "615",
                  "2",
                  "116599790",
                  "22",
                  "82",
                  "8",
                  "0",
                  "9",
                  "94",
                  "B",
                  "Minor",
                  "68",
                  "81",
                  "82",
                  "53",
                  "0",
                  "9",
                  "13"
                ],
                [
                  "336",
                  "Ainï¿½ï¿½ï¿½t Tha",
                  "Morgan Wallen",
                  "1",
                  "2023",
                  "3",
                  "3",
                  "356",
                  "4",
                  "88791109",
                  "4",
                  "20",
                  "0",
                  "0",
                  "0",
                  "121",
                  "F#",
                  "Minor",
                  "64",
                  "67",
                  "80",
                  "0",
                  "0",
                  "36",
                  "3"
                ],
                [
                  "337",
                  "Thinkinï¿½ï¿½ï¿½ B",
                  "Morgan Wallen",
                  "1",
                  "2023",
                  "3",
                  "3",
                  "604",
                  "6",
                  "125917280",
                  "22",
                  "101",
                  "0",
                  "0",
                  "66",
                  "140",
                  "D#",
                  "Minor",
                  "66",
                  "43",
                  "76",
                  "49",
                  "0",
                  "12",
                  "3"
                ],
                [
                  "347",
                  "Man Made A Bar (feat. Eric Church)",
                  "Morgan Wallen, Eric Church",
                  "2",
                  "2023",
                  "3",
                  "3",
                  "329",
                  "0",
                  "58890931",
                  "14",
                  "35",
                  "1",
                  "0",
                  "0",
                  "148",
                  "E",
                  "Major",
                  "50",
                  "49",
                  "76",
                  "12",
                  "0",
                  "12",
                  "3"
                ],
                [
                  "348",
                  "Red Ruby Da Sleeze",
                  "Nicki Minaj",
                  "1",
                  "2023",
                  "3",
                  "3",
                  "1168",
                  "0",
                  "81419389",
                  "45",
                  "11",
                  "20",
                  "0",
                  "21",
                  "98",
                  "C#",
                  "Major",
                  "70",
                  "29",
                  "73",
                  "12",
                  "0",
                  "11",
                  "26"
                ],
                [
                  "355",
                  "ýýý98 Braves",
                  "Morgan Wallen",
                  "1",
                  "2023",
                  "3",
                  "3",
                  "282",
                  "0",
                  "56533272",
                  "6",
                  "15",
                  "0",
                  "0",
                  "0",
                  "142",
                  "D",
                  "Major",
                  "49",
                  "48",
                  "67",
                  "10",
                  "0",
                  "26",
                  "3"
                ],
                [
                  "373",
                  "Born With A Beer In My Hand",
                  "Morgan Wallen",
                  "1",
                  "2023",
                  "3",
                  "3",
                  "203",
                  "0",
                  "34450974",
                  "5",
                  "9",
                  "0",
                  "0",
                  "0",
                  "148",
                  null,
                  "Major",
                  "53",
                  "61",
                  "81",
                  "5",
                  "0",
                  "36",
                  "4"
                ],
                [
                  "379",
                  "Devil Donï¿½ï¿½ï¿½",
                  "Morgan Wallen",
                  "1",
                  "2023",
                  "3",
                  "3",
                  "166",
                  "0",
                  "32526947",
                  "2",
                  "10",
                  "0",
                  "0",
                  "0",
                  "125",
                  null,
                  "Major",
                  "53",
                  "32",
                  "66",
                  "38",
                  "0",
                  "9",
                  "3"
                ],
                [
                  "401",
                  "Heather",
                  "Conan Gray",
                  "1",
                  "2020",
                  "3",
                  "20",
                  "6170",
                  "7",
                  "1301799902",
                  "82",
                  "1",
                  "231",
                  "0",
                  "2",
                  "92",
                  "F",
                  "Major",
                  "47",
                  "25",
                  "43",
                  "62",
                  "0",
                  "32",
                  "3"
                ],
                [
                  "433",
                  "Levitating (feat. DaBaby)",
                  "Dua Lipa, DaBaby",
                  "2",
                  "2020",
                  "3",
                  "27",
                  "15894",
                  "8",
                  "1802514301",
                  "198",
                  "13",
                  "544",
                  "0",
                  "60",
                  "103",
                  "F#",
                  "Minor",
                  "70",
                  "92",
                  "83",
                  "1",
                  "0",
                  "7",
                  "6"
                ]
              ],
              "shape": {
                "columns": 24,
                "rows": 86
              }
            },
            "text/html": [
              "<div>\n",
              "<style scoped>\n",
              "    .dataframe tbody tr th:only-of-type {\n",
              "        vertical-align: middle;\n",
              "    }\n",
              "\n",
              "    .dataframe tbody tr th {\n",
              "        vertical-align: top;\n",
              "    }\n",
              "\n",
              "    .dataframe thead th {\n",
              "        text-align: right;\n",
              "    }\n",
              "</style>\n",
              "<table border=\"1\" class=\"dataframe\">\n",
              "  <thead>\n",
              "    <tr style=\"text-align: right;\">\n",
              "      <th></th>\n",
              "      <th>track_name</th>\n",
              "      <th>artist(s)_name</th>\n",
              "      <th>artist_count</th>\n",
              "      <th>released_year</th>\n",
              "      <th>released_month</th>\n",
              "      <th>released_day</th>\n",
              "      <th>in_spotify_playlists</th>\n",
              "      <th>in_spotify_charts</th>\n",
              "      <th>streams</th>\n",
              "      <th>in_apple_playlists</th>\n",
              "      <th>...</th>\n",
              "      <th>bpm</th>\n",
              "      <th>key</th>\n",
              "      <th>mode</th>\n",
              "      <th>danceability_%</th>\n",
              "      <th>valence_%</th>\n",
              "      <th>energy_%</th>\n",
              "      <th>acousticness_%</th>\n",
              "      <th>instrumentalness_%</th>\n",
              "      <th>liveness_%</th>\n",
              "      <th>speechiness_%</th>\n",
              "    </tr>\n",
              "  </thead>\n",
              "  <tbody>\n",
              "    <tr>\n",
              "      <th>1</th>\n",
              "      <td>LALA</td>\n",
              "      <td>Myke Towers</td>\n",
              "      <td>1</td>\n",
              "      <td>2023</td>\n",
              "      <td>3</td>\n",
              "      <td>23</td>\n",
              "      <td>1474</td>\n",
              "      <td>48</td>\n",
              "      <td>133716286</td>\n",
              "      <td>48</td>\n",
              "      <td>...</td>\n",
              "      <td>92</td>\n",
              "      <td>C#</td>\n",
              "      <td>Major</td>\n",
              "      <td>71</td>\n",
              "      <td>61</td>\n",
              "      <td>74</td>\n",
              "      <td>7</td>\n",
              "      <td>0</td>\n",
              "      <td>10</td>\n",
              "      <td>4</td>\n",
              "    </tr>\n",
              "    <tr>\n",
              "      <th>6</th>\n",
              "      <td>Ella Baila Sola</td>\n",
              "      <td>Eslabon Armado, Peso Pluma</td>\n",
              "      <td>2</td>\n",
              "      <td>2023</td>\n",
              "      <td>3</td>\n",
              "      <td>16</td>\n",
              "      <td>3090</td>\n",
              "      <td>50</td>\n",
              "      <td>725980112</td>\n",
              "      <td>34</td>\n",
              "      <td>...</td>\n",
              "      <td>148</td>\n",
              "      <td>F</td>\n",
              "      <td>Minor</td>\n",
              "      <td>67</td>\n",
              "      <td>83</td>\n",
              "      <td>76</td>\n",
              "      <td>48</td>\n",
              "      <td>0</td>\n",
              "      <td>8</td>\n",
              "      <td>3</td>\n",
              "    </tr>\n",
              "    <tr>\n",
              "      <th>9</th>\n",
              "      <td>La Bebe - Remix</td>\n",
              "      <td>Peso Pluma, Yng Lvcas</td>\n",
              "      <td>2</td>\n",
              "      <td>2023</td>\n",
              "      <td>3</td>\n",
              "      <td>17</td>\n",
              "      <td>2953</td>\n",
              "      <td>44</td>\n",
              "      <td>553634067</td>\n",
              "      <td>49</td>\n",
              "      <td>...</td>\n",
              "      <td>170</td>\n",
              "      <td>D</td>\n",
              "      <td>Minor</td>\n",
              "      <td>81</td>\n",
              "      <td>56</td>\n",
              "      <td>48</td>\n",
              "      <td>21</td>\n",
              "      <td>0</td>\n",
              "      <td>8</td>\n",
              "      <td>33</td>\n",
              "    </tr>\n",
              "    <tr>\n",
              "      <th>14</th>\n",
              "      <td>As It Was</td>\n",
              "      <td>Harry Styles</td>\n",
              "      <td>1</td>\n",
              "      <td>2022</td>\n",
              "      <td>3</td>\n",
              "      <td>31</td>\n",
              "      <td>23575</td>\n",
              "      <td>130</td>\n",
              "      <td>2513188493</td>\n",
              "      <td>403</td>\n",
              "      <td>...</td>\n",
              "      <td>174</td>\n",
              "      <td>F#</td>\n",
              "      <td>Minor</td>\n",
              "      <td>52</td>\n",
              "      <td>66</td>\n",
              "      <td>73</td>\n",
              "      <td>34</td>\n",
              "      <td>0</td>\n",
              "      <td>31</td>\n",
              "      <td>6</td>\n",
              "    </tr>\n",
              "    <tr>\n",
              "      <th>18</th>\n",
              "      <td>Classy 101</td>\n",
              "      <td>Feid, Young Miko</td>\n",
              "      <td>2</td>\n",
              "      <td>2023</td>\n",
              "      <td>3</td>\n",
              "      <td>31</td>\n",
              "      <td>2610</td>\n",
              "      <td>40</td>\n",
              "      <td>335222234</td>\n",
              "      <td>43</td>\n",
              "      <td>...</td>\n",
              "      <td>100</td>\n",
              "      <td>B</td>\n",
              "      <td>Major</td>\n",
              "      <td>86</td>\n",
              "      <td>67</td>\n",
              "      <td>66</td>\n",
              "      <td>14</td>\n",
              "      <td>0</td>\n",
              "      <td>12</td>\n",
              "      <td>16</td>\n",
              "    </tr>\n",
              "    <tr>\n",
              "      <th>...</th>\n",
              "      <td>...</td>\n",
              "      <td>...</td>\n",
              "      <td>...</td>\n",
              "      <td>...</td>\n",
              "      <td>...</td>\n",
              "      <td>...</td>\n",
              "      <td>...</td>\n",
              "      <td>...</td>\n",
              "      <td>...</td>\n",
              "      <td>...</td>\n",
              "      <td>...</td>\n",
              "      <td>...</td>\n",
              "      <td>...</td>\n",
              "      <td>...</td>\n",
              "      <td>...</td>\n",
              "      <td>...</td>\n",
              "      <td>...</td>\n",
              "      <td>...</td>\n",
              "      <td>...</td>\n",
              "      <td>...</td>\n",
              "      <td>...</td>\n",
              "    </tr>\n",
              "    <tr>\n",
              "      <th>854</th>\n",
              "      <td>Crazy What Love Can Do</td>\n",
              "      <td>David Guetta, Ella Henderson, Becky Hill</td>\n",
              "      <td>3</td>\n",
              "      <td>2022</td>\n",
              "      <td>3</td>\n",
              "      <td>18</td>\n",
              "      <td>5290</td>\n",
              "      <td>0</td>\n",
              "      <td>286739476</td>\n",
              "      <td>139</td>\n",
              "      <td>...</td>\n",
              "      <td>123</td>\n",
              "      <td>E</td>\n",
              "      <td>Minor</td>\n",
              "      <td>60</td>\n",
              "      <td>46</td>\n",
              "      <td>71</td>\n",
              "      <td>3</td>\n",
              "      <td>0</td>\n",
              "      <td>16</td>\n",
              "      <td>4</td>\n",
              "    </tr>\n",
              "    <tr>\n",
              "      <th>861</th>\n",
              "      <td>Master of Puppets (Remastered)</td>\n",
              "      <td>Metallica</td>\n",
              "      <td>1</td>\n",
              "      <td>1986</td>\n",
              "      <td>3</td>\n",
              "      <td>3</td>\n",
              "      <td>6080</td>\n",
              "      <td>0</td>\n",
              "      <td>704171068</td>\n",
              "      <td>112</td>\n",
              "      <td>...</td>\n",
              "      <td>105</td>\n",
              "      <td>E</td>\n",
              "      <td>Minor</td>\n",
              "      <td>54</td>\n",
              "      <td>59</td>\n",
              "      <td>83</td>\n",
              "      <td>0</td>\n",
              "      <td>44</td>\n",
              "      <td>20</td>\n",
              "      <td>4</td>\n",
              "    </tr>\n",
              "    <tr>\n",
              "      <th>868</th>\n",
              "      <td>Layla</td>\n",
              "      <td>Schï¿½ï¿½rze, DJ R</td>\n",
              "      <td>2</td>\n",
              "      <td>2022</td>\n",
              "      <td>3</td>\n",
              "      <td>24</td>\n",
              "      <td>832</td>\n",
              "      <td>3</td>\n",
              "      <td>130419412</td>\n",
              "      <td>18</td>\n",
              "      <td>...</td>\n",
              "      <td>140</td>\n",
              "      <td>F</td>\n",
              "      <td>Minor</td>\n",
              "      <td>44</td>\n",
              "      <td>41</td>\n",
              "      <td>92</td>\n",
              "      <td>0</td>\n",
              "      <td>0</td>\n",
              "      <td>44</td>\n",
              "      <td>7</td>\n",
              "    </tr>\n",
              "    <tr>\n",
              "      <th>872</th>\n",
              "      <td>SNAP</td>\n",
              "      <td>Rosa Linn</td>\n",
              "      <td>1</td>\n",
              "      <td>2022</td>\n",
              "      <td>3</td>\n",
              "      <td>19</td>\n",
              "      <td>1818</td>\n",
              "      <td>0</td>\n",
              "      <td>711366595</td>\n",
              "      <td>3</td>\n",
              "      <td>...</td>\n",
              "      <td>170</td>\n",
              "      <td>NaN</td>\n",
              "      <td>Major</td>\n",
              "      <td>56</td>\n",
              "      <td>52</td>\n",
              "      <td>64</td>\n",
              "      <td>11</td>\n",
              "      <td>0</td>\n",
              "      <td>45</td>\n",
              "      <td>7</td>\n",
              "    </tr>\n",
              "    <tr>\n",
              "      <th>889</th>\n",
              "      <td>THE SHADE</td>\n",
              "      <td>Rex Orange County</td>\n",
              "      <td>1</td>\n",
              "      <td>2022</td>\n",
              "      <td>3</td>\n",
              "      <td>11</td>\n",
              "      <td>1189</td>\n",
              "      <td>6</td>\n",
              "      <td>244928911</td>\n",
              "      <td>17</td>\n",
              "      <td>...</td>\n",
              "      <td>120</td>\n",
              "      <td>F</td>\n",
              "      <td>Major</td>\n",
              "      <td>90</td>\n",
              "      <td>73</td>\n",
              "      <td>51</td>\n",
              "      <td>39</td>\n",
              "      <td>0</td>\n",
              "      <td>9</td>\n",
              "      <td>6</td>\n",
              "    </tr>\n",
              "  </tbody>\n",
              "</table>\n",
              "<p>86 rows × 24 columns</p>\n",
              "</div>"
            ],
            "text/plain": [
              "                         track_name                            artist(s)_name  \\\n",
              "1                              LALA                               Myke Towers   \n",
              "6                   Ella Baila Sola                Eslabon Armado, Peso Pluma   \n",
              "9                   La Bebe - Remix                     Peso Pluma, Yng Lvcas   \n",
              "14                        As It Was                              Harry Styles   \n",
              "18                       Classy 101                          Feid, Young Miko   \n",
              "..                              ...                                       ...   \n",
              "854          Crazy What Love Can Do  David Guetta, Ella Henderson, Becky Hill   \n",
              "861  Master of Puppets (Remastered)                                 Metallica   \n",
              "868                           Layla                        Schï¿½ï¿½rze, DJ R   \n",
              "872                            SNAP                                 Rosa Linn   \n",
              "889                       THE SHADE                         Rex Orange County   \n",
              "\n",
              "     artist_count  released_year  released_month  released_day  \\\n",
              "1               1           2023               3            23   \n",
              "6               2           2023               3            16   \n",
              "9               2           2023               3            17   \n",
              "14              1           2022               3            31   \n",
              "18              2           2023               3            31   \n",
              "..            ...            ...             ...           ...   \n",
              "854             3           2022               3            18   \n",
              "861             1           1986               3             3   \n",
              "868             2           2022               3            24   \n",
              "872             1           2022               3            19   \n",
              "889             1           2022               3            11   \n",
              "\n",
              "     in_spotify_playlists  in_spotify_charts     streams  in_apple_playlists  \\\n",
              "1                    1474                 48   133716286                  48   \n",
              "6                    3090                 50   725980112                  34   \n",
              "9                    2953                 44   553634067                  49   \n",
              "14                  23575                130  2513188493                 403   \n",
              "18                   2610                 40   335222234                  43   \n",
              "..                    ...                ...         ...                 ...   \n",
              "854                  5290                  0   286739476                 139   \n",
              "861                  6080                  0   704171068                 112   \n",
              "868                   832                  3   130419412                  18   \n",
              "872                  1818                  0   711366595                   3   \n",
              "889                  1189                  6   244928911                  17   \n",
              "\n",
              "     ...  bpm  key   mode danceability_%  valence_% energy_% acousticness_%  \\\n",
              "1    ...   92   C#  Major             71         61       74              7   \n",
              "6    ...  148    F  Minor             67         83       76             48   \n",
              "9    ...  170    D  Minor             81         56       48             21   \n",
              "14   ...  174   F#  Minor             52         66       73             34   \n",
              "18   ...  100    B  Major             86         67       66             14   \n",
              "..   ...  ...  ...    ...            ...        ...      ...            ...   \n",
              "854  ...  123    E  Minor             60         46       71              3   \n",
              "861  ...  105    E  Minor             54         59       83              0   \n",
              "868  ...  140    F  Minor             44         41       92              0   \n",
              "872  ...  170  NaN  Major             56         52       64             11   \n",
              "889  ...  120    F  Major             90         73       51             39   \n",
              "\n",
              "     instrumentalness_%  liveness_%  speechiness_%  \n",
              "1                     0          10              4  \n",
              "6                     0           8              3  \n",
              "9                     0           8             33  \n",
              "14                    0          31              6  \n",
              "18                    0          12             16  \n",
              "..                  ...         ...            ...  \n",
              "854                   0          16              4  \n",
              "861                  44          20              4  \n",
              "868                   0          44              7  \n",
              "872                   0          45              7  \n",
              "889                   0           9              6  \n",
              "\n",
              "[86 rows x 24 columns]"
            ]
          },
          "execution_count": 24,
          "metadata": {},
          "output_type": "execute_result"
        }
      ],
      "source": [
        "spotify[spotify[\"released_month\"] == 3]"
      ]
    },
    {
      "cell_type": "markdown",
      "id": "d6c296f9-15ae-4f69-9eaa-b0d8662c6393",
      "metadata": {},
      "source": [
        "Das Ergebnis ist wiederum ein neues Dataframe, mit dem man wie üblich arbeiten kann. Man kann z.B. herausfinden, wieviele Streams der beliebteste Song von Taylor Swift erzielt hat (in Millionen)."
      ]
    },
    {
      "cell_type": "code",
      "execution_count": 25,
      "id": "a5db4bb5",
      "metadata": {},
      "outputs": [
        {
          "data": {
            "text/plain": [
              "1355.959075"
            ]
          },
          "execution_count": 25,
          "metadata": {},
          "output_type": "execute_result"
        }
      ],
      "source": [
        "taylor = spotify[spotify[\"artist(s)_name\"]==\"Taylor Swift\"]\n",
        "taylor[\"streams\"].max() / 1e6"
      ]
    },
    {
      "cell_type": "markdown",
      "id": "8037e272-0205-4a44-808b-d622d5d149d5",
      "metadata": {},
      "source": [
        "<div class=\"alert alert-box alert-success\">\n",
        "\n",
        "### Aufgabe 6\n",
        "**a)** Zeige die gesamte(n) Zeile(n) an, für die Person(en), die in Aufgabe 5.a) am wenigsten geschlafen hat / haben.\n",
        "\n",
        "**b)** Wieviele normalgewichtige Personen (d.h. `BMI Category` hat den Wert `Normal`) haben die Umfrage ausgefüllt? Mit dem Befehl `.shape[0]` kann die Anzahl Zeilen in einer Tabelle ermittelt werden.\n",
        "    \n",
        "**c)** Was ist die durchschnittliche Herzfrequenz aller TeilnehmerInnen, die weniger als 6 Stunden geschlafen haben?\n",
        "    \n",
        "**d)** Wie viele weibliche Anwältinnen (`Occupation` hat den Wert `Lawyer`) gibt es?\n",
        "\n",
        "**e)** Wie lange schlafen LehrerInnen im Schnitt?\n",
        "\n",
        "</div>"
      ]
    },
    {
      "cell_type": "code",
      "execution_count": 26,
      "id": "2bc5265d-587a-4d7d-8ffd-0043f57b0bb1",
      "metadata": {
        "tags": [],
        "trusted": true
      },
      "outputs": [],
      "source": [
        "# Hier Code eingeben"
      ]
    },
    {
      "cell_type": "code",
      "execution_count": 27,
      "id": "b6865939-2a48-4582-88ca-c2a28be40b6f",
      "metadata": {
        "tags": [],
        "trusted": true
      },
      "outputs": [],
      "source": [
        "# Hier Code eingeben"
      ]
    },
    {
      "cell_type": "code",
      "execution_count": 28,
      "id": "e89b32aa",
      "metadata": {},
      "outputs": [],
      "source": [
        "# Hier Code eingeben"
      ]
    },
    {
      "cell_type": "code",
      "execution_count": 29,
      "id": "266a7d91-411f-444c-991d-9a01c8c9e4ae",
      "metadata": {
        "tags": [],
        "trusted": true
      },
      "outputs": [],
      "source": [
        "# Hier Code eingeben"
      ]
    },
    {
      "cell_type": "code",
      "execution_count": 30,
      "id": "684da284",
      "metadata": {},
      "outputs": [],
      "source": [
        "# Hier Code eingeben"
      ]
    },
    {
      "cell_type": "markdown",
      "id": "b316d5dd-b8eb-4bbf-87d4-0b508a43a376",
      "metadata": {},
      "source": [
        "# Daten visualisieren\n",
        "\n",
        "Als nächstes lernen wir, wie man mit Hilfe von Python Diagramme erstellt. Dazu müssen wir zusätzlich die Library `matplotlib` laden, um Diagramme zu erstellen."
      ]
    },
    {
      "cell_type": "code",
      "execution_count": 31,
      "id": "fad80844-3888-4c63-8b62-953598836654",
      "metadata": {
        "tags": []
      },
      "outputs": [],
      "source": [
        "import matplotlib.pyplot as plt"
      ]
    },
    {
      "cell_type": "markdown",
      "id": "6f79f85b-8ede-4629-bee9-bed6b45d3257",
      "metadata": {},
      "source": [
        "## Diagramme erstellen\n",
        "\n",
        "Nun sind wir soweit, dass wir mit Hilfe von pandas Diagramme (engl. *plots*) erstellen können.\n",
        "\n",
        "Als erstes wollen wir schauen, welche Tonart im Datensatz `spotify` am häufigsten vorkommt. Graphisch lässt sich das beispielsweise mit einem Kuchendiagramm (en. *pie chart*) gut veranschaulichen.\n",
        "\n",
        "In der Zelle unten entnehmen wir zunächst dem `spotify`-Datensatz die Spalte `Key` und rufen darauf `.value_counts()` auf. So bekommen wir Häufigkeit aller Tonarten in dieser Spalte."
      ]
    },
    {
      "cell_type": "code",
      "execution_count": 32,
      "id": "9ef0413e-8a32-4f3b-995a-c8bacf9c3846",
      "metadata": {
        "tags": []
      },
      "outputs": [
        {
          "data": {
            "text/plain": [
              "key\n",
              "C#    120\n",
              "G      96\n",
              "G#     91\n",
              "F      89\n",
              "B      81\n",
              "D      81\n",
              "A      74\n",
              "F#     73\n",
              "E      62\n",
              "A#     57\n",
              "D#     33\n",
              "Name: count, dtype: int64"
            ]
          },
          "execution_count": 32,
          "metadata": {},
          "output_type": "execute_result"
        }
      ],
      "source": [
        "keys = spotify[\"key\"].value_counts()\n",
        "keys # keys in die Ausgabe schreiben"
      ]
    },
    {
      "cell_type": "markdown",
      "id": "a7de7b85-05c0-4a67-8ceb-cd20adb993e3",
      "metadata": {},
      "source": [
        "Anschliessend visualisieren wir dieses `DataFrame` mit `.plot.pie()`."
      ]
    },
    {
      "cell_type": "code",
      "execution_count": 33,
      "id": "9d8bebff-033e-49e1-ae00-ce490968bc8c",
      "metadata": {
        "tags": []
      },
      "outputs": [
        {
          "data": {
            "text/plain": [
              "<Axes: ylabel='count'>"
            ]
          },
          "execution_count": 33,
          "metadata": {},
          "output_type": "execute_result"
        },
        {
          "data": {
            "image/png": "[encoded data removed]",
            "text/plain": [
              "<Figure size 640x480 with 1 Axes>"
            ]
          },
          "metadata": {},
          "output_type": "display_data"
        }
      ],
      "source": [
        "keys.plot.pie()"
      ]
    },
    {
      "cell_type": "markdown",
      "id": "416bb125-9601-449c-bbf1-53817384b896",
      "metadata": {},
      "source": [
        "<div class=\"alert alert-box alert-success\">\n",
        "\n",
        "### Aufgabe 7\n",
        "\n",
        "**a)** Erstelle ein Kuchendiagramm für die BMI-Kategorien\n",
        "    \n",
        "**b)** Probiere aus, was passiert, wenn Du statt `.pie()` den Befehl `.bar()` verwendest.\n",
        "</div>"
      ]
    },
    {
      "cell_type": "code",
      "execution_count": 34,
      "id": "23c509a5-cd27-4629-897f-644bbc478638",
      "metadata": {},
      "outputs": [],
      "source": [
        "# Hier Code eingeben"
      ]
    },
    {
      "cell_type": "code",
      "execution_count": 35,
      "id": "6a08e2f5-b72f-4c2c-9515-6d241d35feef",
      "metadata": {
        "tags": []
      },
      "outputs": [],
      "source": [
        "# Hier Code eingeben"
      ]
    },
    {
      "cell_type": "markdown",
      "id": "4bf8461d-eecb-41f0-8532-65ac43ae3b63",
      "metadata": {},
      "source": [
        "<div class=\"alert alert-box alert-info\">\n",
        "\n",
        "Durch Visualisierungen kann man oft sehr einfach Tendenzen in den Daten feststellen. Zum Beispiel liegt die Vermutung nahe, dass Songs welche viel gestream werden, sich auch in vielen Playlisten wiederfinden. Stimmt das aber wirklich?\n",
        "\n",
        "Um diese Frage zu beantworten, zeichnen wir jede Reihe in unserem Datensatz als einen Punkt in ein zweidimensionalen Koordinatensystem ein. Die $x$-Achse enstpricht dem Veröffentlichungsjahr (`released_year`) und die $y$-Achse der Anzahl Stremas (`streams`). Ein solches Diagramm nennt man **Streudiagramm** (engl. *scatter plot*).\n",
        "</div>"
      ]
    },
    {
      "cell_type": "code",
      "execution_count": 60,
      "id": "94de6114",
      "metadata": {},
      "outputs": [
        {
          "data": {
            "text/plain": [
              "0       553\n",
              "1      1474\n",
              "2      1397\n",
              "3      7858\n",
              "4      3133\n",
              "       ... \n",
              "947     953\n",
              "948    1180\n",
              "949     573\n",
              "950    1320\n",
              "951     782\n",
              "Name: in_spotify_playlists, Length: 952, dtype: int64"
            ]
          },
          "execution_count": 60,
          "metadata": {},
          "output_type": "execute_result"
        }
      ],
      "source": [
        "spotify[\"in_spotify_playlists\"]"
      ]
    },
    {
      "cell_type": "code",
      "execution_count": 61,
      "id": "3cfe283e",
      "metadata": {},
      "outputs": [
        {
          "data": {
            "text/plain": [
              "<Axes: xlabel='in_spotify_playlists', ylabel='streams'>"
            ]
          },
          "execution_count": 61,
          "metadata": {},
          "output_type": "execute_result"
        },
        {
          "data": {
            "image/png": "[encoded data removed]",
            "text/plain": [
              "<Figure size 640x480 with 1 Axes>"
            ]
          },
          "metadata": {},
          "output_type": "display_data"
        }
      ],
      "source": [
        "spotify.plot.scatter(x=\"in_spotify_playlists\", y=\"streams\")"
      ]
    },
    {
      "cell_type": "markdown",
      "id": "e062fe59-c023-43e8-8041-5f7eb89bfd16",
      "metadata": {},
      "source": [
        "Das Streudiagramm bestätigt die Vermutung, dass sehr schnelle oder sehr langsame Songs ewniger häufig gestreamt werden. Allerdings scheint es auch eine zweite Anhäufung von Streams bei ca. 180 bpm zu geben."
      ]
    },
    {
      "cell_type": "markdown",
      "id": "283fa922-011a-4977-940e-8cd203b96d93",
      "metadata": {},
      "source": [
        "<div class=\"alert alert-box alert-success\">\n",
        "\n",
        "### Aufgabe 8\n",
        "    \n",
        "Schlafen Menschen, die jeden Tag viele Schritte gehen, länger als solche, die weniger Schritte machen? Lässt sich ein Trend feststellen?\n",
        "\n",
        "</div>"
      ]
    },
    {
      "cell_type": "code",
      "execution_count": 37,
      "id": "e27976d3",
      "metadata": {},
      "outputs": [],
      "source": [
        "# Hier Code eingeben"
      ]
    },
    {
      "cell_type": "markdown",
      "id": "8b6cb902-0885-4ae3-8474-b25a02f511a2",
      "metadata": {},
      "source": [
        "**Antwort**: Mehr Schritte scheinen zu längerem Schlaf beizutragen-"
      ]
    },
    {
      "cell_type": "markdown",
      "id": "c31aad6b-5f40-4600-abde-d7fd5aab9f85",
      "metadata": {},
      "source": [
        "<div class=\"alert alert-box alert-info\">\n",
        "\n",
        "Unter den Attributen mit Textwerten gibt es einige, die nur wenige, vordefinierte Werte annehmen können. Ein Beispiel dafür ist das Attribut `Major` im Dataframe `spotify`, das nur die Werte `Major` (Dur, eher fröhlich) und `Minor` (Moll, eher melancholisch) annehmen kann. Solche Daten werden **kategoriale Daten** genannt.\n",
        "\n",
        "Pandas kann die Punkte in einem Streudiagramm anhand der Werte von kategorialen Daten unterschiedlich einfärben. Dazu muss man dem Dataframe zuerst eine neue hinzufügen mit dem datentyp `category`. Anschliessend kann man diese neue Spalte beim erstellen des scatter plots für den Parameter `c` (für `category`) angeben.\n",
        "\n",
        "Wir benutzen diese Technik um herauszufinden, ob Dur- oder Moll-Songs beliebter sind.\n",
        "</div>"
      ]
    },
    {
      "cell_type": "code",
      "execution_count": 38,
      "id": "4fa04b87-d693-4558-b6bf-bfae73c40f1e",
      "metadata": {
        "tags": []
      },
      "outputs": [
        {
          "data": {
            "text/plain": [
              "<Axes: xlabel='bpm', ylabel='streams'>"
            ]
          },
          "execution_count": 38,
          "metadata": {},
          "output_type": "execute_result"
        },
        {
          "data": {
            "image/png": "[encoded data removed]",
            "text/plain": [
              "<Figure size 640x480 with 2 Axes>"
            ]
          },
          "metadata": {},
          "output_type": "display_data"
        }
      ],
      "source": [
        "spotify[\"mode\"] = spotify[\"mode\"].astype(\"category\")\n",
        "spotify.plot.scatter(x=\"bpm\", y=\"streams\", c=\"mode\", colormap=\"viridis\")"
      ]
    },
    {
      "cell_type": "markdown",
      "id": "99e229bc-38ac-4b6e-a961-9db6a8f59a08",
      "metadata": {},
      "source": [
        "Durch die Färbung der Punkte kann man erkennen, dass es keine Tendenz gibt, ob Dur- oder Moll-Songs mehr gestreamt werden."
      ]
    },
    {
      "cell_type": "markdown",
      "id": "7730fae6-a499-4f2c-a1c8-f6b4a2fda5f8",
      "metadata": {},
      "source": [
        "<div class=\"alert alert-box alert-success\">\n",
        "\n",
        "### Aufgabe 9\n",
        "    \n",
        "**a)** Schlafen Personen mit einem höheren Stresslevel tendenziell weniger? Gibt es einen Unterschied zwischen Männern und Frauen? Erstelle ein Streudiagramm, bei dem die $x$-Achse den Stresslevel und die $y$-Achse die Schlafdauer darstellt, die Farbe stellt das Geschlecht dar.\n",
        "    \n",
        "**b)** Was passiert, wenn Du den Wert von `colormap` änderst? Probiere verschiedene Werte wie `viridis`, `plasma`, `coolwarm` oder `cividis` aus.\n",
        "\n",
        "</div>"
      ]
    },
    {
      "cell_type": "code",
      "execution_count": 39,
      "id": "4f212af2",
      "metadata": {},
      "outputs": [],
      "source": [
        "# Hier Code eingeben"
      ]
    },
    {
      "cell_type": "markdown",
      "id": "aa05dfd0",
      "metadata": {},
      "source": [
        "**Antwort**: ..."
      ]
    },
    {
      "cell_type": "code",
      "execution_count": 40,
      "id": "2cdcb357-5946-48ec-8999-3c53655fdce9",
      "metadata": {
        "tags": []
      },
      "outputs": [],
      "source": [
        "# Hier Code eingeben"
      ]
    },
    {
      "cell_type": "markdown",
      "id": "9eb9763c-48b7-4ad9-94d3-f5ae92e4927a",
      "metadata": {},
      "source": [
        "**Antwort**: ..."
      ]
    },
    {
      "cell_type": "markdown",
      "id": "55ee43a0-2cb4-4648-8218-21a5493742be",
      "metadata": {},
      "source": [
        "## Histogramme erstellen\n",
        "\n",
        "Für manche Analysen sind die *genauen* Werte nicht so relevant. Es genügt eine grobe Einteilung, z.B. `kleine` / `mittlere` / `grosse` Werte. Das lässt sich mit einem **Histogramm** veranschaulichen. Dabei muss man angeben, in wieviele Grössenordnungen wir die Werte einteilen wollen.\n",
        "\n",
        "Wir visualisieren eine Einteilung des Trinkgelds in **5 Grössenordnungen** mit einem Histogramm."
      ]
    },
    {
      "cell_type": "code",
      "execution_count": 41,
      "id": "be3586e9-5d73-4ff0-9c5d-2dfe21b66d35",
      "metadata": {
        "tags": []
      },
      "outputs": [
        {
          "data": {
            "text/plain": [
              "<Axes: ylabel='Frequency'>"
            ]
          },
          "execution_count": 41,
          "metadata": {},
          "output_type": "execute_result"
        },
        {
          "data": {
            "image/png": "[encoded data removed]",
            "text/plain": [
              "<Figure size 640x480 with 1 Axes>"
            ]
          },
          "metadata": {},
          "output_type": "display_data"
        }
      ],
      "source": [
        "spotify[\"bpm\"].plot.hist(bins=5)"
      ]
    },
    {
      "cell_type": "markdown",
      "id": "5cd80360-98ab-4a9b-b8ce-62bf338f66ea",
      "metadata": {},
      "source": [
        "Dabei sehen wir, dass die meisten Songs eine Geschwindigkeit von ca. 100-140 Schläge pro Minuten haben.\n",
        "\n",
        "Will man das genauer wissen, kann man die Einteilung feiner machen, indem man **20 Grössenordnungen** zulässt."
      ]
    },
    {
      "cell_type": "code",
      "execution_count": 42,
      "id": "8c1867f9-d4bb-4948-a9bd-4004d8a5ed92",
      "metadata": {
        "tags": []
      },
      "outputs": [
        {
          "data": {
            "text/plain": [
              "<Axes: ylabel='Frequency'>"
            ]
          },
          "execution_count": 42,
          "metadata": {},
          "output_type": "execute_result"
        },
        {
          "data": {
            "image/png": "[encoded data removed]",
            "text/plain": [
              "<Figure size 640x480 with 1 Axes>"
            ]
          },
          "metadata": {},
          "output_type": "display_data"
        }
      ],
      "source": [
        "spotify[\"bpm\"].plot.hist(bins=20)"
      ]
    },
    {
      "cell_type": "markdown",
      "id": "e15d941a-1e68-40ce-9d9c-9bf14986b0b2",
      "metadata": {},
      "source": [
        "In dieser feineren Einteilung sieht man, dass es viele Songs um ca. 90 bpm oder 120 bpm gibt, und wenig dazwischen (melancholisch vs fröhliche Songs?)!"
      ]
    },
    {
      "cell_type": "markdown",
      "id": "3e83cc43-4ceb-4f23-949a-4c1f4ca2f890",
      "metadata": {},
      "source": [
        "<div class=\"alert alert-box alert-success\">\n",
        "\n",
        "### Aufgabe 10\n",
        "    \n",
        "**a)** Wie lange schlafen Männer? Erstellen Sie ein Histogramm mit **5 Grössenordnungen**.\n",
        "\n",
        "**b)** Wiederholen Sie die Abfrage für Frauen, diesmal mit **20 Grössenordnungen**.\n",
        "</div>"
      ]
    },
    {
      "cell_type": "code",
      "execution_count": 43,
      "id": "b7a514f7-2bdc-4db0-8c95-25979d3c6ed3",
      "metadata": {
        "trusted": true
      },
      "outputs": [],
      "source": [
        "# Hier Code eingeben"
      ]
    },
    {
      "cell_type": "code",
      "execution_count": 44,
      "id": "084b52c5-586a-4073-bd77-19da7ea1bdd4",
      "metadata": {
        "trusted": true
      },
      "outputs": [],
      "source": [
        "# Hier Code eingeben"
      ]
    },
    {
      "cell_type": "markdown",
      "id": "dc9a16e3-e98e-4186-9b14-cb9210a19b79",
      "metadata": {},
      "source": [
        "<div class=\"alert alert-box alert-success\">\n",
        "\n",
        "### Aufgabe 11\n",
        "    \n",
        "Mit `spotify.groupby(\"released_year\")[\"track_name\"].count()` kann man, ähnlich wie bei SQL, die Daten nach einem Attribut gruppieren, und pro Gruppe die Einträge zählen.\n",
        "\n",
        "**a)** Erstellen Sie mit `.plot.line()` ein **Liniendiagramm** der Anzahl Songs, die pro Jahr publiziert wurden.\n",
        "\n",
        "**b)** Wiederholen Sie diese Visualisierung, aber eingeschränkt auf Songs, die **nach 2008** publiziert wurden. Wie erklären Sie sich den deutlichen \"Knick\" welcher in diesem Liniendiagramm zu erkennen ist?\n",
        "</div>"
      ]
    },
    {
      "cell_type": "code",
      "execution_count": 45,
      "id": "da5a1b00-40e0-4dc1-a5b9-3cdccd279768",
      "metadata": {
        "tags": []
      },
      "outputs": [],
      "source": [
        "# Hier Code eingeben"
      ]
    },
    {
      "cell_type": "code",
      "execution_count": 46,
      "id": "7bcbc533-443a-4fae-ba91-5f3c6228e688",
      "metadata": {
        "tags": []
      },
      "outputs": [],
      "source": [
        "# Hier Code eingeben"
      ]
    },
    {
      "cell_type": "markdown",
      "id": "d3ea07ee-cb17-42d2-b9e4-074d057b92ee",
      "metadata": {},
      "source": [
        "**Antwort**: Vermutlich wurden die Daten nicht bis zum Ende des Jahres 2023 gesammelt."
      ]
    },
    {
      "cell_type": "markdown",
      "id": "1a0c7e86",
      "metadata": {},
      "source": [
        "# Challenge-Aufgaben"
      ]
    },
    {
      "cell_type": "markdown",
      "id": "9cbf22d6",
      "metadata": {},
      "source": [
        "<div class=\"alert alert-box alert-warning\" style=\"flex: 1;\">\n",
        "\n",
        "### Gapminder (Datensatz für Zusatzaufgaben)\n",
        "`gapminder.csv` ist ein Datensatz, der Informationen über Länder und Kontinente im Zeitraum von 1998 bis 2018 enthält. Der Datensatz deckt eine Vielzahl von Variablen ab, die mit der menschlichen Entwicklung und der Umwelt zusammenhängen. Er enthält Details wie Land, Kontinent, Jahr, Lebenserwartung, HDI-Index, CO2-Verbrauch, BIP und den Anteil des Dienstleistungssektors.\n",
        "\n",
        "![Gapminder](https://upload.wikimedia.org/wikipedia/commons/thumb/4/4b/Gapminder-World-2015.pdf/page1-2479px-Gapminder-World-2015.pdf.jpg)\n",
        "</div>"
      ]
    },
    {
      "cell_type": "markdown",
      "id": "769054b3",
      "metadata": {},
      "source": [
        "In den Challenge-Aufgaben arbeiten wir mit dem Datensatz `gapminder.csv`, der Informationen über die Lebenserwartung und das Bruttoinlandsprodukt (BIP) von verschiedenen Ländern enthält.\n",
        "\n",
        "| Spalte         | Beschreibung                                                                                     |\n",
        "|-----------------|-------------------------------------------------------------------------------------------------|\n",
        "| `country`      | Name des Landes.                                                                                |\n",
        "| `continent`    | Kontinent, zu dem das Land gehört.                                                              |\n",
        "| `year`         | Jahr der Datenerhebung.                                                                         |\n",
        "| `life_exp`     | Lebenserwartung in Jahren.                                                                      |\n",
        "| `hdi_index`    | Index der menschlichen Entwicklung (HDI), ein Mass für den Entwicklungsstand eines Landes.       |\n",
        "| `co2_consump`  | CO2-Verbrauch pro Kopf in Tonnen.                                                               |\n",
        "| `gdp`          | Bruttoinlandsprodukt (BIP) pro Kopf in US-Dollar, ein Mass für die wirtschaftliche Leistung.     |\n",
        "| `services`     | Anteil des Dienstleistungssektors am BIP in Prozent.                                            |\n"
      ]
    },
    {
      "cell_type": "code",
      "execution_count": 47,
      "id": "0c0c4354",
      "metadata": {},
      "outputs": [
        {
          "data": {
            "application/vnd.microsoft.datawrangler.viewer.v0+json": {
              "columns": [
                {
                  "name": "index",
                  "rawType": "int64",
                  "type": "integer"
                },
                {
                  "name": "country",
                  "rawType": "object",
                  "type": "string"
                },
                {
                  "name": "continent",
                  "rawType": "object",
                  "type": "string"
                },
                {
                  "name": "year",
                  "rawType": "int64",
                  "type": "integer"
                },
                {
                  "name": "life_exp",
                  "rawType": "float64",
                  "type": "float"
                },
                {
                  "name": "hdi_index",
                  "rawType": "float64",
                  "type": "float"
                },
                {
                  "name": "co2_consump",
                  "rawType": "float64",
                  "type": "float"
                },
                {
                  "name": "gdp",
                  "rawType": "float64",
                  "type": "float"
                },
                {
                  "name": "services",
                  "rawType": "float64",
                  "type": "float"
                }
              ],
              "conversionMethod": "pd.DataFrame",
              "ref": "5fe5293f-7854-48e4-93c6-cdcd58256fa4",
              "rows": [
                [
                  "0",
                  "Afghanistan",
                  "Asia",
                  "1998",
                  "53.3",
                  "0.344",
                  "0.0522",
                  null,
                  "24.4"
                ],
                [
                  "1",
                  "Afghanistan",
                  "Asia",
                  "1999",
                  "54.7",
                  "0.348",
                  "0.0402",
                  null,
                  "24.6"
                ],
                [
                  "2",
                  "Afghanistan",
                  "Asia",
                  "2000",
                  "54.7",
                  "0.35",
                  "0.037",
                  null,
                  "24.7"
                ],
                [
                  "3",
                  "Afghanistan",
                  "Asia",
                  "2001",
                  "54.8",
                  "0.353",
                  "0.0376",
                  null,
                  "24.7"
                ],
                [
                  "4",
                  "Afghanistan",
                  "Asia",
                  "2002",
                  "55.5",
                  "0.384",
                  "0.0471",
                  "333.0",
                  "25.6"
                ]
              ],
              "shape": {
                "columns": 8,
                "rows": 5
              }
            },
            "text/html": [
              "<div>\n",
              "<style scoped>\n",
              "    .dataframe tbody tr th:only-of-type {\n",
              "        vertical-align: middle;\n",
              "    }\n",
              "\n",
              "    .dataframe tbody tr th {\n",
              "        vertical-align: top;\n",
              "    }\n",
              "\n",
              "    .dataframe thead th {\n",
              "        text-align: right;\n",
              "    }\n",
              "</style>\n",
              "<table border=\"1\" class=\"dataframe\">\n",
              "  <thead>\n",
              "    <tr style=\"text-align: right;\">\n",
              "      <th></th>\n",
              "      <th>country</th>\n",
              "      <th>continent</th>\n",
              "      <th>year</th>\n",
              "      <th>life_exp</th>\n",
              "      <th>hdi_index</th>\n",
              "      <th>co2_consump</th>\n",
              "      <th>gdp</th>\n",
              "      <th>services</th>\n",
              "    </tr>\n",
              "  </thead>\n",
              "  <tbody>\n",
              "    <tr>\n",
              "      <th>0</th>\n",
              "      <td>Afghanistan</td>\n",
              "      <td>Asia</td>\n",
              "      <td>1998</td>\n",
              "      <td>53.3</td>\n",
              "      <td>0.344</td>\n",
              "      <td>0.0522</td>\n",
              "      <td>NaN</td>\n",
              "      <td>24.4</td>\n",
              "    </tr>\n",
              "    <tr>\n",
              "      <th>1</th>\n",
              "      <td>Afghanistan</td>\n",
              "      <td>Asia</td>\n",
              "      <td>1999</td>\n",
              "      <td>54.7</td>\n",
              "      <td>0.348</td>\n",
              "      <td>0.0402</td>\n",
              "      <td>NaN</td>\n",
              "      <td>24.6</td>\n",
              "    </tr>\n",
              "    <tr>\n",
              "      <th>2</th>\n",
              "      <td>Afghanistan</td>\n",
              "      <td>Asia</td>\n",
              "      <td>2000</td>\n",
              "      <td>54.7</td>\n",
              "      <td>0.350</td>\n",
              "      <td>0.0370</td>\n",
              "      <td>NaN</td>\n",
              "      <td>24.7</td>\n",
              "    </tr>\n",
              "    <tr>\n",
              "      <th>3</th>\n",
              "      <td>Afghanistan</td>\n",
              "      <td>Asia</td>\n",
              "      <td>2001</td>\n",
              "      <td>54.8</td>\n",
              "      <td>0.353</td>\n",
              "      <td>0.0376</td>\n",
              "      <td>NaN</td>\n",
              "      <td>24.7</td>\n",
              "    </tr>\n",
              "    <tr>\n",
              "      <th>4</th>\n",
              "      <td>Afghanistan</td>\n",
              "      <td>Asia</td>\n",
              "      <td>2002</td>\n",
              "      <td>55.5</td>\n",
              "      <td>0.384</td>\n",
              "      <td>0.0471</td>\n",
              "      <td>333.0</td>\n",
              "      <td>25.6</td>\n",
              "    </tr>\n",
              "  </tbody>\n",
              "</table>\n",
              "</div>"
            ],
            "text/plain": [
              "       country continent  year  life_exp  hdi_index  co2_consump    gdp  \\\n",
              "0  Afghanistan      Asia  1998      53.3      0.344       0.0522    NaN   \n",
              "1  Afghanistan      Asia  1999      54.7      0.348       0.0402    NaN   \n",
              "2  Afghanistan      Asia  2000      54.7      0.350       0.0370    NaN   \n",
              "3  Afghanistan      Asia  2001      54.8      0.353       0.0376    NaN   \n",
              "4  Afghanistan      Asia  2002      55.5      0.384       0.0471  333.0   \n",
              "\n",
              "   services  \n",
              "0      24.4  \n",
              "1      24.6  \n",
              "2      24.7  \n",
              "3      24.7  \n",
              "4      25.6  "
            ]
          },
          "execution_count": 47,
          "metadata": {},
          "output_type": "execute_result"
        }
      ],
      "source": [
        "gapminder = pd.read_csv('Data/gapminder.csv')\n",
        "gapminder.head()"
      ]
    },
    {
      "cell_type": "markdown",
      "id": "feaa94f3",
      "metadata": {},
      "source": [
        "<div class=\"alert alert-block alert-warning\"> \n",
        " Challenge-Aufgaben:\n",
        "    \n",
        "**a)** Erstellen Sie ein Liniendiagramm, das die Entwicklung der Lebenserwartung (`life_exp`) eines bestimmten Landes über die Jahre zeigt. Wählen Sie ein Land Ihrer Wahl.\n",
        "\n",
        "**b)** Finden Sie heraus, welches Land im Jahr 2000 die höchste CO2-Emission (`co2_consump`) hatte. Zeigen Sie die entsprechende Zeile an.\n",
        "\n",
        "**c)** Erstellen Sie ein Histogramm der HDI-Werte (`hdi_index`) für alle Länder. Wählen Sie eine geeignete Anzahl von Bins.\n",
        "\n",
        "**d)** Untersuchen Sie, ob es einen Zusammenhang zwischen dem BIP (`gdp`) und der Lebenserwartung (`life_exp`) gibt. Erstellen Sie ein Streudiagramm, bei dem die x-Achse das BIP und die y-Achse die Lebenserwartung darstellt.\n",
        "\n",
        "**e)** Gruppieren Sie die Daten nach Kontinent (`continent`) und berechnen Sie die durchschnittliche Lebenserwartung pro Kontinent. Stellen Sie die Ergebnisse in einem Balkendiagramm dar.\n",
        "\n",
        "**f)** Finden Sie heraus, welches Land die höchste durchschnittliche Lebenserwartung über alle Jahre hat. Zeigen Sie die entsprechende Zeile an.\n",
        "\n",
        "**g)** Erstellen Sie ein Diagramm, das die Entwicklung des durchschnittlichen HDI-Wertes (`hdi_index`) pro Kontinent über die Jahre zeigt. Nutzen Sie ein Liniendiagramm.\n",
        "\n",
        "**h)** Finden Sie heraus, wie viele Länder in jedem Kontinent vertreten sind. Stellen Sie die Ergebnisse in einem Balkendiagramm dar.\n",
        "\n",
        "**i)** Untersuchen Sie, ob es einen Zusammenhang zwischen dem Anteil der Dienstleistungen (`services`) und dem BIP (`gdp`) gibt. Erstellen Sie ein Streudiagramm, bei dem die x-Achse den Anteil der Dienstleistungen und die y-Achse das BIP darstellt.\n",
        "\n",
        "**j)** Finden Sie heraus, welches Land im Jahr 2010 den höchsten HDI-Wert (`hdi_index`) hatte. Zeigen Sie die entsprechende Zeile an.\n",
        "\n",
        " </div>"
      ]
    },
    {
      "cell_type": "code",
      "execution_count": 48,
      "id": "7988d3bc",
      "metadata": {},
      "outputs": [],
      "source": [
        "# Hier Code eingeben"
      ]
    },
    {
      "cell_type": "code",
      "execution_count": 49,
      "id": "11f8e012",
      "metadata": {},
      "outputs": [],
      "source": [
        "# Hier Code eingeben"
      ]
    },
    {
      "cell_type": "code",
      "execution_count": 50,
      "id": "ae99b8c7",
      "metadata": {},
      "outputs": [],
      "source": [
        "# Hier Code eingeben"
      ]
    },
    {
      "cell_type": "code",
      "execution_count": 51,
      "id": "8453fbed",
      "metadata": {},
      "outputs": [],
      "source": [
        "# Hier Code eingeben"
      ]
    },
    {
      "cell_type": "code",
      "execution_count": 52,
      "id": "004d8100",
      "metadata": {},
      "outputs": [],
      "source": [
        "# Hier Code eingeben"
      ]
    },
    {
      "cell_type": "code",
      "execution_count": 53,
      "id": "0e72e64f",
      "metadata": {},
      "outputs": [],
      "source": [
        "# Hier Code eingeben"
      ]
    },
    {
      "cell_type": "code",
      "execution_count": 54,
      "id": "e75c8378",
      "metadata": {},
      "outputs": [],
      "source": [
        "# Hier Code eingeben"
      ]
    },
    {
      "cell_type": "code",
      "execution_count": 55,
      "id": "b115524e",
      "metadata": {},
      "outputs": [],
      "source": [
        "# Hier Code eingeben"
      ]
    },
    {
      "cell_type": "code",
      "execution_count": 56,
      "id": "c4d650a3",
      "metadata": {},
      "outputs": [],
      "source": [
        "# Hier Code eingeben"
      ]
    },
    {
      "cell_type": "code",
      "execution_count": 57,
      "id": "32e70f1f",
      "metadata": {},
      "outputs": [],
      "source": [
        "# Hier Code eingeben"
      ]
    },
    {
      "cell_type": "markdown",
      "id": "1b2d2dc9",
      "metadata": {},
      "source": [
        "# Anhang\n"
      ]
    },
    {
      "cell_type": "markdown",
      "id": "7bc89ad5",
      "metadata": {},
      "source": [
        "## Schlüsselwort-Argumente\n",
        "\n",
        "In Python werden Befehle meist mit sogenannten **positionalen Argumenten** aufgerufen. Dabei muss die Reihenfolge der Argumente mit derjenigen der Parameter in der Befehlsdefinition übereinstimmen."
      ]
    },
    {
      "cell_type": "code",
      "execution_count": 58,
      "id": "65178023",
      "metadata": {},
      "outputs": [
        {
          "name": "stdout",
          "output_type": "stream",
          "text": [
            "Dein BMI ist 22.86\n",
            "Dein BMI ist 0.0\n"
          ]
        }
      ],
      "source": [
        "def berechne_bmi(weight, height):\n",
        "    bmi = weight / (height ** 2)\n",
        "    print(\"Dein BMI ist \" + str(round(bmi, 2)))\n",
        "\n",
        "# Aufruf mit positionalen Argumenten\n",
        "berechne_bmi(70, 1.75)  # Richtig: Gewicht zuerst, dann Grösse\n",
        "berechne_bmi(1.75, 70)  # Falsch: Grösse zuerst, dann Gewicht"
      ]
    },
    {
      "cell_type": "markdown",
      "id": "c692be6a",
      "metadata": {},
      "source": [
        "Befehle lassen sich in Python aber auch mit sogenannten **Schlüsselwort-Argumenten** aufrufen. Dies hat den Vorteil, dass man die Argumente in einer beliebigen Reihenfolge übergeben kann. Besonders bei Befehlen mit vielen Parametern kann man so die vermeiden, dass man Argumente an die falschen Parameter zuweist.\n"
      ]
    },
    {
      "cell_type": "code",
      "execution_count": 59,
      "id": "00937960",
      "metadata": {},
      "outputs": [
        {
          "name": "stdout",
          "output_type": "stream",
          "text": [
            "Dein BMI ist 22.86\n",
            "Dein BMI ist 22.86\n"
          ]
        }
      ],
      "source": [
        "# Aufruf mit Schlüsselwort-Argumenten\n",
        "berechne_bmi(height=1.75, weight=70)  # Richtig: so spielt die Reihenfolge keine Rolle\n",
        "berechne_bmi(weight=70, height=1.75)  # Auch Richtig: so spielt die Reihenfolge keine Rolle"
      ]
    },
    {
      "cell_type": "code",
      "execution_count": null,
      "id": "fd2dde68",
      "metadata": {},
      "outputs": [],
      "source": []
    }
  ],
  "metadata": {
    "kernelspec": {
      "display_name": "Python 3",
      "language": "python",
      "name": "python3"
    },
    "language_info": {
      "codemirror_mode": {
        "name": "ipython",
        "version": 3
      },
      "file_extension": ".py",
      "mimetype": "text/x-python",
      "name": "python",
      "nbconvert_exporter": "python",
      "pygments_lexer": "ipython3",
      "version": "3.11.4"
    }
  },
  "nbformat": 4,
  "nbformat_minor": 5
}
