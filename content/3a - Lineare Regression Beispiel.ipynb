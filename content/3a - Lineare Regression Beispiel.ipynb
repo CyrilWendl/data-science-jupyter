{
 "cells": [
  {
   "cell_type": "markdown",
   "id": "ccfa2a64",
   "metadata": {},
   "source": [
    "# Zahlen Voraussagen\n",
    "\n",
    "In vielen Bereichen des Lebens sind wir mit der Vorhersage von Werten konfrontiert. Zum Beispiel: Wie viel Geld werde ich in einem Jahr gespart haben? Wie viele Stunden werde ich in diesem Jahr für die Schule lernen? Wie viele Punkte werde ich in der nächsten Klausur erreichen?\n",
    "\n",
    "In der Schule sind wir häufig mit der Vorhersage von Noten konfrontiert. Zum Beispiel: Wie viele Punkte werde ich in der nächsten Prüfung erreichen, wenn ich X Stunden schlafe?\n",
    "\n",
    "Dafür werden wir insbesondere die **lineare Regression** verwenden. Diese ist eine der einfachsten und am häufigsten verwendeten Methoden zur Vorhersage von Werten. Sie wird häufig in der Statistik und im maschinellen Lernen eingesetzt.\n",
    "\n",
    "## Künstliche Intelligenz\n",
    "*Intelligenz* (von lateinisch *intelligere*=erkennen, verstehen) kann auf unterschiedliche Weise definiert werden. Häufig wird Intelligenz definiert als die kognitive Fähigkeit, Probleme zu lösen. Dazu gehört auch die Vorhersage gewisser Werte (z.B.: Welches Video möchtest Du Dir als nächstes anschauen? Welche Route führt am schnellsten zum Ziel?).\n",
    "\n",
    "Eine klassische Aufgabe der **künstlichen Intelligenz** besteht darin, für unbekannte Datenpunkte voraussagen zu treffen. Häufig beginnen Datenanalysen beim vergleich zweier Variablen, wie der folgenden:\n",
    "\n",
    "<div style=\"display: flex; flex-direction: column; width:50%; margin-left: 25%; margin-right: 25%;\">\n",
    "\n",
    "![Beispielbild](Images/schlafdauer_vs_notenschnitt.jpg)\n",
    "</div>\n",
    "\n",
    "Basierend auf diesen Daten könnte man eine Voraussage zu folgender Frage zu treffen versuchen: \n",
    "\n",
    "**Welche Note werde ich erreichen, wenn ich im Schnitt X Stunden schlafe?**\n",
    "\n",
    "Damit eine Voraussage getroffen werden, müssen die Variablen in einem ungefähr linearen Zusammenhang stehen.\n",
    "\n",
    "Die unabhängige Variable hier ist die Schlafdauer, die abhängige Variable die Note. Im Allgemeinen ist die abhängige Variable diejenige, die wir vorhersagen wollen. Die unabhängige Variable ist diejenige, die wir zur Vorhersage verwenden. In diesem Fall ist die Schlafdauer die unabhängige Variable und die Note die abhängige Variable.\n",
    "\n",
    "## Lineare Regression\n",
    "Die lineare Regression ist ein Verfahren zur Vorhersage einer abhängigen Variablen (z.B. Note) auf Basis einer unabhängigen Variablen (z.B. Schlafdauer). Dabei wird eine Gerade (lineare Funktion) durch die Datenpunkte gelegt, die den besten Fit (die beste \"Passung\") zu den Datenpunkten hat. Diese Gerade wird als Regressionsgerade bezeichnet.\n",
    "\n",
    "## Aufbau dieser Aufgabe\n",
    "Dieses Arbeitsblatt enthält einige fast schon fertige Python-Programme, die Sie ausführen können. Sie müssen nur kleine zusätzliche Teile hinzufügen, um die Programme zum Laufen zu bringen. Nachdem Sie die Programme ausgeführt haben, können Sie auf das Blatt `3b - Lineare Regression Übungen.ipynb` wechseln. Dort finden Sie einige Aufgaben, die Sie lösen können, um das Konzept der linearen Regression zu vertiefen."
   ]
  },
  {
   "cell_type": "markdown",
   "id": "9d9f3025",
   "metadata": {},
   "source": [
    "<div class=\"alert alert-block alert-success\">\n",
    "\n",
    "# Aufgabe 1\n",
    "Welches sind im obigen Beispiel:\n",
    "\n",
    "- *Unabhängige* Variable?\n",
    "- *Abhängige* Variable?\n",
    "</div>"
   ]
  },
  {
   "cell_type": "markdown",
   "id": "49477c9c",
   "metadata": {},
   "source": [
    "**Antwort**:\n",
    "- *Unabhängige Variable*: ...\n",
    "- *Abhängige Variable*: ..."
   ]
  },
  {
   "cell_type": "markdown",
   "id": "06ad83d8",
   "metadata": {
    "vscode": {
     "languageId": "markdown"
    }
   },
   "source": [
    "## Erste Schätzung"
   ]
  },
  {
   "cell_type": "markdown",
   "id": "69f4e4d0",
   "metadata": {},
   "source": [
    "Um die Frage zu beantworten, welche Note man bei X Stunden Schlaf erreichen wird, könnte man versuchen, eine Linie auf der Grafik oben einzuzeichnen, welche möglichst genau den gemessenen Daten folgt."
   ]
  },
  {
   "cell_type": "code",
   "execution_count": 2,
   "id": "0fce080b",
   "metadata": {},
   "outputs": [],
   "source": [
    "# library pandas importieren (einmal pro Datei reicht)\n",
    "import pandas as pd\n",
    "import matplotlib.pyplot as plt"
   ]
  },
  {
   "cell_type": "code",
   "execution_count": 3,
   "id": "6ccbb0b3",
   "metadata": {},
   "outputs": [
    {
     "data": {
      "application/vnd.microsoft.datawrangler.viewer.v0+json": {
       "columns": [
        {
         "name": "index",
         "rawType": "int64",
         "type": "integer"
        },
        {
         "name": "Schlafdauer",
         "rawType": "float64",
         "type": "float"
        },
        {
         "name": "Notenschnitt",
         "rawType": "float64",
         "type": "float"
        }
       ],
       "conversionMethod": "pd.DataFrame",
       "ref": "7af9680d-29f0-45ca-886d-5095dcde386c",
       "rows": [
        [
         "0",
         "9.436518045494864",
         "6.0"
        ],
        [
         "1",
         "6.082365379524887",
         "5.004315622106849"
        ],
        [
         "2",
         "6.207742371604816",
         "4.8231403555246875"
        ],
        [
         "3",
         "5.390547066765745",
         "4.614907109495068"
        ],
        [
         "4",
         "8.298111443987018",
         "6.0"
        ]
       ],
       "shape": {
        "columns": 2,
        "rows": 5
       }
      },
      "text/html": [
       "<div>\n",
       "<style scoped>\n",
       "    .dataframe tbody tr th:only-of-type {\n",
       "        vertical-align: middle;\n",
       "    }\n",
       "\n",
       "    .dataframe tbody tr th {\n",
       "        vertical-align: top;\n",
       "    }\n",
       "\n",
       "    .dataframe thead th {\n",
       "        text-align: right;\n",
       "    }\n",
       "</style>\n",
       "<table border=\"1\" class=\"dataframe\">\n",
       "  <thead>\n",
       "    <tr style=\"text-align: right;\">\n",
       "      <th></th>\n",
       "      <th>Schlafdauer</th>\n",
       "      <th>Notenschnitt</th>\n",
       "    </tr>\n",
       "  </thead>\n",
       "  <tbody>\n",
       "    <tr>\n",
       "      <th>0</th>\n",
       "      <td>9.436518</td>\n",
       "      <td>6.000000</td>\n",
       "    </tr>\n",
       "    <tr>\n",
       "      <th>1</th>\n",
       "      <td>6.082365</td>\n",
       "      <td>5.004316</td>\n",
       "    </tr>\n",
       "    <tr>\n",
       "      <th>2</th>\n",
       "      <td>6.207742</td>\n",
       "      <td>4.823140</td>\n",
       "    </tr>\n",
       "    <tr>\n",
       "      <th>3</th>\n",
       "      <td>5.390547</td>\n",
       "      <td>4.614907</td>\n",
       "    </tr>\n",
       "    <tr>\n",
       "      <th>4</th>\n",
       "      <td>8.298111</td>\n",
       "      <td>6.000000</td>\n",
       "    </tr>\n",
       "  </tbody>\n",
       "</table>\n",
       "</div>"
      ],
      "text/plain": [
       "   Schlafdauer  Notenschnitt\n",
       "0     9.436518      6.000000\n",
       "1     6.082365      5.004316\n",
       "2     6.207742      4.823140\n",
       "3     5.390547      4.614907\n",
       "4     8.298111      6.000000"
      ]
     },
     "execution_count": 3,
     "metadata": {},
     "output_type": "execute_result"
    }
   ],
   "source": [
    "# Datei einlesen und erste 5 Zeilen anzeigen\n",
    "df = pd.read_csv(\"Data/schlafdauer_vs_notenschnitt.csv\")\n",
    "df.head()"
   ]
  },
  {
   "cell_type": "markdown",
   "id": "cc148e04",
   "metadata": {},
   "source": [
    "Sie möchten wissen, wie viele Stunden Sie schlafen müssen, um einen Notenschnitt von 5.5 zu erreichen. Eine erste Idee könnte sein, den kleinsten mit dem grössten Datenpunkt zu verbinden, um mit einer Geraden eine Vorhersage für eine Note von 5.5 zu machen:"
   ]
  },
  {
   "cell_type": "code",
   "execution_count": 4,
   "id": "86beb7d1",
   "metadata": {},
   "outputs": [
    {
     "data": {
      "application/vnd.microsoft.datawrangler.viewer.v0+json": {
       "columns": [
        {
         "name": "index",
         "rawType": "int64",
         "type": "integer"
        },
        {
         "name": "Schlafdauer",
         "rawType": "float64",
         "type": "float"
        },
        {
         "name": "Notenschnitt",
         "rawType": "float64",
         "type": "float"
        }
       ],
       "conversionMethod": "pd.DataFrame",
       "ref": "68873517-2847-4c56-9a9b-c05521a794e4",
       "rows": [
        [
         "5",
         "3.547691954679576",
         "3.566347751822195"
        ],
        [
         "6",
         "9.61721764632472",
         "6.0"
        ]
       ],
       "shape": {
        "columns": 2,
        "rows": 2
       }
      },
      "text/html": [
       "<div>\n",
       "<style scoped>\n",
       "    .dataframe tbody tr th:only-of-type {\n",
       "        vertical-align: middle;\n",
       "    }\n",
       "\n",
       "    .dataframe tbody tr th {\n",
       "        vertical-align: top;\n",
       "    }\n",
       "\n",
       "    .dataframe thead th {\n",
       "        text-align: right;\n",
       "    }\n",
       "</style>\n",
       "<table border=\"1\" class=\"dataframe\">\n",
       "  <thead>\n",
       "    <tr style=\"text-align: right;\">\n",
       "      <th></th>\n",
       "      <th>Schlafdauer</th>\n",
       "      <th>Notenschnitt</th>\n",
       "    </tr>\n",
       "  </thead>\n",
       "  <tbody>\n",
       "    <tr>\n",
       "      <th>5</th>\n",
       "      <td>3.547692</td>\n",
       "      <td>3.566348</td>\n",
       "    </tr>\n",
       "    <tr>\n",
       "      <th>6</th>\n",
       "      <td>9.617218</td>\n",
       "      <td>6.000000</td>\n",
       "    </tr>\n",
       "  </tbody>\n",
       "</table>\n",
       "</div>"
      ],
      "text/plain": [
       "   Schlafdauer  Notenschnitt\n",
       "5     3.547692      3.566348\n",
       "6     9.617218      6.000000"
      ]
     },
     "execution_count": 4,
     "metadata": {},
     "output_type": "execute_result"
    }
   ],
   "source": [
    "# Werte für die kürzeste und längste Schlafdauer auslesen\n",
    "df[(df['Schlafdauer']==df['Schlafdauer'].min()) | (df['Schlafdauer']==df['Schlafdauer'].max())]"
   ]
  },
  {
   "cell_type": "markdown",
   "id": "3f4e169b",
   "metadata": {},
   "source": [
    "Wir erhalten also folgende Werte:\n",
    "\n",
    "\n",
    "| Schlafdauer (h) | Notenschnitt |\n",
    "|-----------------|--------------|\n",
    "| 3.54            | 3.57         |\n",
    "| 9.617            | 6.0         |"
   ]
  },
  {
   "cell_type": "markdown",
   "id": "07bdbc0a",
   "metadata": {},
   "source": [
    "<div class=\"alert alert-block alert-success\">\n",
    "\n",
    "# Aufgabe 1\n",
    "\n",
    "a) Leiten Sie für die Schlafdauer (x-Achse) und den Notenschnitt (y-Achse) eine lineare Funktion her, welche die beiden Datenpunkte verbindet.\n",
    "\n",
    "*Tipp*: Tipp: Die Formel zur Berechnung der Steigung einer linearen Funktion, welche die Punkte $(x_1, y_1)$ und $(x_2, y_2)$ verbindet, lautet $m = \\frac{y_2 - y_1}{x_2 - x_1}$. Die Formel zur Berechnung des y-Achsenabschnitts lautet $q = y_1 - m \\cdot x_1$.\n",
    "</div>"
   ]
  },
  {
   "cell_type": "code",
   "execution_count": null,
   "id": "c1dc2f0b",
   "metadata": {},
   "outputs": [],
   "source": [
    "# a) \n",
    "# IHR CODE ZUR BERECHNUNG DER VARIABLEN m UND q HIER\n",
    "\n",
    "# DIESE ZEILE NICHT ÄNDERN\n",
    "print(f\"y = {m:.2f}x + {q:.2f}\")"
   ]
  },
  {
   "cell_type": "markdown",
   "id": "52f6fcfb",
   "metadata": {},
   "source": [
    "b) Welche Note können Sie bei durchschnittlich 8 Stunden Schlaf erwarten? speichern Sie Ihr Resultat in `y_pred` (Bedeutung: \"y predicted\")"
   ]
  },
  {
   "cell_type": "markdown",
   "id": "d18fca7c",
   "metadata": {},
   "source": []
  },
  {
   "cell_type": "code",
   "execution_count": null,
   "id": "db59dfc4",
   "metadata": {},
   "outputs": [],
   "source": [
    "# b)"
   ]
  },
  {
   "cell_type": "markdown",
   "id": "754bceed",
   "metadata": {},
   "source": [
    "Folgende Grafik zeichnet die Punkte und ihre Regressionslinie mit den Variablen `m` und `q` ein, welche Sie berechnet haben. Zudem ist ihre Schätzung `y_pred` mit einem speziellen Marker eingezeichnet."
   ]
  },
  {
   "cell_type": "code",
   "execution_count": null,
   "id": "27408606",
   "metadata": {},
   "outputs": [],
   "source": [
    "# Punkt bei x=8, y=y_pred einzeichnen\n",
    "plt.scatter(8, y_pred, color=\"green\", label=\"Vorhersage (8h Schlaf)\", zorder=5)\n",
    "\n",
    "# Horizontale Linie von Marker zur y-Achse\n",
    "plt.hlines(y=y_pred, xmin=df[\"Schlafdauer\"].min(), xmax=8, colors=\"green\", linestyles=\"dashed\")\n",
    "plt.vlines(x=8, ymax=y_pred, ymin=df[\"Notenschnitt\"].min(), colors=\"green\", linestyles=\"dashed\")\n",
    "\n",
    "\n",
    "# Scatter plot zeichnen und Regressionslinie basierend auf m und q einzeichnen\n",
    "plt.scatter(df[\"Schlafdauer\"], df[\"Notenschnitt\"], label=\"Datenpunkte\")\n",
    "\n",
    "# Linie zeichnen basierend auf m und q\n",
    "x_values = [df[\"Schlafdauer\"].min(), df[\"Schlafdauer\"].max()]\n",
    "y_values = [m * x + q for x in x_values]\n",
    "plt.plot(x_values, y_values, color=\"red\", label=\"Regressionslinie\")\n",
    "\n",
    "# Achsenbeschriftungen und Legende hinzufügen\n",
    "plt.xlabel(\"Schlafdauer (Stunden)\")\n",
    "plt.ylabel(\"Notenschnitt\")\n",
    "plt.legend()"
   ]
  },
  {
   "cell_type": "markdown",
   "id": "b4c177f4",
   "metadata": {},
   "source": [
    "Wie wir sehen, folgt die Linie nicht allzu schlecht den Daten."
   ]
  },
  {
   "cell_type": "markdown",
   "id": "91541890",
   "metadata": {
    "vscode": {
     "languageId": "markdown"
    }
   },
   "source": [
    "<div class=\"alert alert-block alert-success\">\n",
    "\n",
    "# Aufgabe 2\n",
    "Sie verwenden diese Linie, um vorherzusagen, was ihre Note sein wird, wenn sie x Stunden schlafen. Sie stellen jedoch fest, dass sie immer etwas danebenliegen. Ist ihre Note in echt besser oder schlechter als Ihre Vorhersage?\n",
    "</div>"
   ]
  },
  {
   "cell_type": "markdown",
   "id": "da9d4e2c",
   "metadata": {},
   "source": [
    "**Antwort**: ..."
   ]
  },
  {
   "cell_type": "markdown",
   "id": "ce14095a",
   "metadata": {},
   "source": [
    " ## Genauigkeit und Fehler einer linearen Vorhersage\n",
    " Im folgenden Abschnitt wollen wir uns anschauen, wie man die Qualität einer linearen Vorhersage (wie wir sie soeben gemacht haben) messen kann. \n",
    "\n",
    "Dafür wählen wir als erstes drei beliebige Datenpunkte aus. \n",
    "Mit dem Befehl `df.iloc[...]` können die Daten mit einer Liste von Index-Werten ausgewählt werden.\n",
    "\n",
    "Danach zeichnen wir eine Linie vom kleinsten Schlafwert zum grössten Schlafwert (rot) sowie die Abweichung von der Linie (grün).\n",
    "\n",
    "Den untenstehenden Code müssen Sie nicht im Detail verstehen.\n",
    "\n",
    "</div>"
   ]
  },
  {
   "cell_type": "code",
   "execution_count": null,
   "id": "a6b5eebe",
   "metadata": {},
   "outputs": [
    {
     "data": {
      "text/plain": [
       "Text(0.5, 1.0, 'Streudiagramm mit Regressionslinie und Unterschied')"
      ]
     },
     "execution_count": 7,
     "metadata": {},
     "output_type": "execute_result"
    },
    {
     "data": {
      "image/png": "[encoded data removed]",
      "text/plain": [
       "<Figure size 640x480 with 1 Axes>"
      ]
     },
     "metadata": {},
     "output_type": "display_data"
    }
   ],
   "source": [
    "# Drei beliebige Zeilen auswählen und in einem neuen DataFrame speichern\n",
    "df_sample = df.iloc[[3, 18, 19]]\n",
    "\n",
    "# Streudiagramm für df_sample erstellen\n",
    "df_sample.plot.scatter(x=\"Schlafdauer\", y=\"Notenschnitt\",\n",
    "                       color=\"blue\", label=\"Datenpunkte\")\n",
    "\n",
    "# Regressionslinie zwischen minimaler und maximaler Schlafdauer zeichnen\n",
    "x_min_max = [df_sample[\"Schlafdauer\"].iloc[0], df_sample[\"Schlafdauer\"].iloc[-1]]\n",
    "y_min_max = [df_sample[\"Notenschnitt\"].iloc[0], df_sample[\"Notenschnitt\"].iloc[-1]]\n",
    "\n",
    "# berechne Regressionsparameter m und q\n",
    "m = (y_min_max[1] - y_min_max[0]) / (x_min_max[1] - x_min_max[0])\n",
    "q = y_min_max[0] - m * x_min_max[0]\n",
    "\n",
    "# Linie zeichnen basierend auf m und q\n",
    "x_values = [x_min_max[0], x_min_max[1]]\n",
    "y_values = [m * x + q for x in x_values]\n",
    "plt.plot(x_values, y_values, color=\"red\", label=\"Regressionslinie\")\n",
    "\n",
    "# Punkte beschriften\n",
    "for i, (x, y) in enumerate(zip(df_sample[\"Schlafdauer\"], df_sample[\"Notenschnitt\"])):\n",
    "    plt.annotate(f\"Punkt {i+1}\", (x, y), textcoords=\"offset points\", xytext=(5, 5), ha=\"center\")\n",
    "\n",
    "# Mittlerer Punkt\n",
    "middle_point = df_sample.iloc[1]\n",
    "middle_x = middle_point[\"Schlafdauer\"]\n",
    "middle_y = middle_point[\"Notenschnitt\"]\n",
    "\n",
    "# Vorhergesagter y-Wert auf der Regressionslinie für den mittleren Punkt\n",
    "predicted_y = y_min_max[0] + (y_min_max[1] - y_min_max[0]) * \\\n",
    "    ((middle_x - x_min_max[0]) / (x_min_max[1] - x_min_max[0]))\n",
    "\n",
    "# Vertikale Linie, die den Unterschied zeigt\n",
    "plt.vlines(middle_x, ymin=predicted_y, ymax=middle_y,\n",
    "           color=\"green\", linestyle=\"dashed\", label=\"Unterschied\")\n",
    "\n",
    "# Achsenbeschriftungen und Legende hinzufügen\n",
    "plt.xlabel(\"Schlafdauer (Stunden)\")\n",
    "plt.ylabel(\"Notenschnitt\")\n",
    "plt.legend()\n",
    "plt.title(\"Streudiagramm mit Regressionslinie und Unterschied\")"
   ]
  },
  {
   "cell_type": "code",
   "execution_count": null,
   "id": "ddcbb341",
   "metadata": {},
   "outputs": [
    {
     "data": {
      "application/vnd.microsoft.datawrangler.viewer.v0+json": {
       "columns": [
        {
         "name": "index",
         "rawType": "int64",
         "type": "integer"
        },
        {
         "name": "Schlafdauer",
         "rawType": "float64",
         "type": "float"
        },
        {
         "name": "Notenschnitt",
         "rawType": "float64",
         "type": "float"
        }
       ],
       "conversionMethod": "pd.DataFrame",
       "ref": "8cb9ca8e-44f9-4870-ae2e-7b750970a547",
       "rows": [
        [
         "3",
         "5.390547066765745",
         "4.614907109495068"
        ],
        [
         "18",
         "7.063320620073389",
         "6.0"
        ],
        [
         "19",
         "7.874222820573733",
         "5.952353736719675"
        ]
       ],
       "shape": {
        "columns": 2,
        "rows": 3
       }
      },
      "text/html": [
       "<div>\n",
       "<style scoped>\n",
       "    .dataframe tbody tr th:only-of-type {\n",
       "        vertical-align: middle;\n",
       "    }\n",
       "\n",
       "    .dataframe tbody tr th {\n",
       "        vertical-align: top;\n",
       "    }\n",
       "\n",
       "    .dataframe thead th {\n",
       "        text-align: right;\n",
       "    }\n",
       "</style>\n",
       "<table border=\"1\" class=\"dataframe\">\n",
       "  <thead>\n",
       "    <tr style=\"text-align: right;\">\n",
       "      <th></th>\n",
       "      <th>Schlafdauer</th>\n",
       "      <th>Notenschnitt</th>\n",
       "    </tr>\n",
       "  </thead>\n",
       "  <tbody>\n",
       "    <tr>\n",
       "      <th>3</th>\n",
       "      <td>5.390547</td>\n",
       "      <td>4.614907</td>\n",
       "    </tr>\n",
       "    <tr>\n",
       "      <th>18</th>\n",
       "      <td>7.063321</td>\n",
       "      <td>6.000000</td>\n",
       "    </tr>\n",
       "    <tr>\n",
       "      <th>19</th>\n",
       "      <td>7.874223</td>\n",
       "      <td>5.952354</td>\n",
       "    </tr>\n",
       "  </tbody>\n",
       "</table>\n",
       "</div>"
      ],
      "text/plain": [
       "    Schlafdauer  Notenschnitt\n",
       "3      5.390547      4.614907\n",
       "18     7.063321      6.000000\n",
       "19     7.874223      5.952354"
      ]
     },
     "execution_count": 8,
     "metadata": {},
     "output_type": "execute_result"
    }
   ],
   "source": [
    "# die drei ausgewählten Punkte anzeigen\n",
    "df_sample"
   ]
  },
  {
   "cell_type": "code",
   "execution_count": null,
   "id": "6ab2c5ea",
   "metadata": {},
   "outputs": [],
   "source": [
    "# berechne die vorhergesagten Notenschnitte für die drei Punkte\n",
    "df_sample[\"Vorhersage\"] = m * df_sample[\"Schlafdauer\"] + q\n",
    "# berechne den Unterschied zwischen den tatsächlichen und vorhergesagten Notenschnitten\n",
    "df_sample[\"Unterschied\"] = df_sample[\"Notenschnitt\"] - df_sample[\"Vorhersage\"]\n"
   ]
  },
  {
   "cell_type": "code",
   "execution_count": null,
   "id": "2ac33bff",
   "metadata": {},
   "outputs": [],
   "source": []
  },
  {
   "cell_type": "markdown",
   "id": "aea82e5f",
   "metadata": {},
   "source": [
    "Wie ändert sich der Fehler, "
   ]
  },
  {
   "cell_type": "markdown",
   "id": "e86e597d",
   "metadata": {},
   "source": [
    "## Die Qualität der Regressionslinie messen\n",
    "\n",
    "Die Qualität der Regressionslinie wird gemessen als die Summe der quadrierten Abweichungen von der Linie. Im obigen Beispiel weichen die Punkte 1 und 3 nicht von der Linie ab, ihre Abweichung ist also 0. Punkt 3 weicht jedoch um -0.484 ab. Die Summe der quadrierten Abweichungen ist also:\n",
    "\n",
    "$$0^2+(-0.484)^2+0^2= 0.235$$"
   ]
  },
  {
   "cell_type": "markdown",
   "id": "f7a1ab16",
   "metadata": {},
   "source": [
    "Diesen Wert gilt es zu minimieren, um eine bestmöglich passende Regressionslinie zu finden, also eine, die alle Punkte möglichst realitätsgetreu abbildet."
   ]
  },
  {
   "cell_type": "markdown",
   "id": "324982d9",
   "metadata": {},
   "source": [
    "Die lineare Regression ist ein Verfahren, um eine Regressionslinie für zwei Variablen zu finden, so dass die Summe der quadrierten Abweichungen zwischen den tatsächlichen y-Werten und den vorhergesagten y-Werten minimiert wird. Die Formeln zur Berechnung der Regressionskoeffizienten m und q sind:\n",
    "\n",
    "$$m = \\frac{n\\sum x_iy_i - \\sum x_i \\sum y_i}{n\\sum x_i^2 - (\\sum x_i)^2}$$\n",
    "\n",
    "$$q = \\frac{\\sum y_i - m\\sum x_i}{n} \\quad \\text{(wobei die obige Formel für m eingefügt wird)}$$\n",
    "\n",
    "Eine vollständige Herleitung dieser Formeln finden Sie im Anhang dieses Aufgabenblatts.\n",
    "\n",
    "Damit Sie diese Formeln nicht in Python umsetzen müssen, können Sie das Statistik-Paket `statsmodels` verwenden.m"
   ]
  },
  {
   "cell_type": "markdown",
   "id": "d9134005",
   "metadata": {},
   "source": [
    "<div class=\"alert alert-block alert-info\">\n",
    "<img align=\"right\" src=\"Images/statsmodels.svg\" alt=\"statsmodels\" width=\"200\" />\n",
    "<strong>Neues Paket: statsmodels</strong>\n",
    "\n",
    "Statsmodels ist eine leistungsstarke Python-Bibliothek, die eine breite Palette an statistischen Modellen und Testverfahren für die Datenanalyse bietet. Sie ermöglicht es Benutzern, statistische Modelle zu schätzen, statistische Tests durchzuführen und Datenexploration zu betreiben.\n",
    "</div>"
   ]
  },
  {
   "cell_type": "code",
   "execution_count": null,
   "id": "2d6b31c5",
   "metadata": {},
   "outputs": [],
   "source": [
    "import statsmodels.formula.api as smf # statsmodels als smf importieren"
   ]
  },
  {
   "cell_type": "markdown",
   "id": "a5ac90d7",
   "metadata": {},
   "source": [
    "Um aus den gegebenen Daten die Steigung $m$ sowie den Abchsenabschnitt $q$ zu berechnen, verwenden wir die Methode der kleinsten Quadrate (englisch *OLS*=**O**rdinary **L**east **S**quares).\n",
    "\n",
    "Diese Methode minimiert die Summe der quadrierten Abweichungen zwischen den beobachteten Werten und den durch die Regressionsgerade vorhergesagten Werten und verwendet dazu die obige formel.\n",
    "\n",
    "Wir können die OLS-Methode in Python mit der Bibliothek `statsmodels` und dem Befehl `smf.ols()` verwenden. Diese Methode erfordert eine Formel, die die abhängige und unabhängige Variable beschreibt, sowie die Daten, auf denen die Regression durchgeführt werden soll. Dabei wird das Gleichheitszeichen `~` verwendet, um die abhängige Variable von der unabhängigen Variable zu trennen. In diesem Fall ist die abhängige Variable `Notenschnitt` und die unabhängige Variable `Schlafdauer`. Die Formel lautet also `Notenschnitt ~ Schlafdauer`.\n",
    "\n",
    "Mit dem Befehl `.fit()` (Modell an die Daten anpassen, d.h. Modell trainieren) wird die Regression durchgeführt und das Ergebnis in der Variablen `model` gespeichert. Schließlich können wir die Regressionsparameter mit `model.params` abrufen. Diese Methode gibt uns die Werte für den Achsenabschnitt (*Intercept*) und die Steigung (*Slope*) zurück."
   ]
  },
  {
   "cell_type": "code",
   "execution_count": null,
   "id": "255ffdce",
   "metadata": {},
   "outputs": [
    {
     "data": {
      "text/plain": [
       "Intercept      2.276667\n",
       "Schlafdauer    0.434090\n",
       "dtype: float64"
      ]
     },
     "execution_count": 12,
     "metadata": {},
     "output_type": "execute_result"
    }
   ],
   "source": [
    "lm = smf.ols(formula=\"Notenschnitt ~ Schlafdauer\", data=df).fit() # Regressionsmodell erstellen\n",
    "lm.params # gefundene Regressionsparameter ausgeben"
   ]
  },
  {
   "cell_type": "markdown",
   "id": "e7744b9e",
   "metadata": {},
   "source": [
    "<div class=\"alert alert-block alert-success\">\n",
    "\n",
    "### Aufgabe\n",
    "Welche Variable oben entspricht dem Achsenabschnitt q und welche der Steigung m?\n",
    "</div>"
   ]
  },
  {
   "cell_type": "markdown",
   "id": "55da0238",
   "metadata": {},
   "source": [
    "**Antwort**:\n",
    "- *m*: ...\n",
    "- *q*: ..."
   ]
  },
  {
   "cell_type": "markdown",
   "id": "ffc6fa0d",
   "metadata": {},
   "source": [
    "Um die Steigung und den Achsenabschnitt in zwei Variablen separat zu speichern, können Sie Folgendes tun:"
   ]
  },
  {
   "cell_type": "code",
   "execution_count": null,
   "id": "658ed3de",
   "metadata": {},
   "outputs": [
    {
     "name": "stdout",
     "output_type": "stream",
     "text": [
      "0.4340898794034307 2.2766665874126915\n"
     ]
    }
   ],
   "source": [
    "# Steigung und Achsenabschnitt extrahieren\n",
    "steigung = lm.params[\"Schlafdauer\"]\n",
    "achsenabschnitt = lm.params[\"Intercept\"]\n",
    "\n",
    "print(steigung, achsenabschnitt)"
   ]
  },
  {
   "cell_type": "markdown",
   "id": "128925d5",
   "metadata": {},
   "source": [
    "<div class=\"alert alert-block alert-success\">\n",
    "\n",
    "### Aufgabe\n",
    "Verwenden Sie die Funktion `lm.predict()` um den Notenschnitt für eine Schlafdauer von 7.5 Stunden vorherzusagen.\n",
    "</div>"
   ]
  },
  {
   "cell_type": "code",
   "execution_count": null,
   "id": "67182506",
   "metadata": {},
   "outputs": [
    {
     "data": {
      "text/plain": [
       "0    5.532341\n",
       "dtype: float64"
      ]
     },
     "execution_count": 71,
     "metadata": {},
     "output_type": "execute_result"
    }
   ],
   "source": [
    "s = pd.Series([7.5], name=\"Schlafdauer\") # Vorhersage für 7.5 Stunden Schlaf \n",
    "lm.predict(s) # Vorhersage durchführen"
   ]
  },
  {
   "cell_type": "markdown",
   "id": "da3b0878",
   "metadata": {},
   "source": [
    "**Antwort**: ..."
   ]
  },
  {
   "cell_type": "markdown",
   "id": "824a0bb0",
   "metadata": {},
   "source": [
    "<div class=\"alert alert-block alert-success\">\n",
    "\n",
    "### Aufgabe\n",
    "Führen Sie die Zelle unten aus, um mit `matplotlib` die Datenpunkte und die Regressionsgerade zu zeichnen.\n",
    "</div>"
   ]
  },
  {
   "cell_type": "code",
   "execution_count": null,
   "id": "a94bcf96",
   "metadata": {},
   "outputs": [
    {
     "data": {
      "image/png": "[encoded data removed]",
      "text/plain": [
       "<Figure size 640x480 with 1 Axes>"
      ]
     },
     "metadata": {},
     "output_type": "display_data"
    }
   ],
   "source": [
    "# Datenpunkte zeichnen\n",
    "plt.scatter(df[\"Schlafdauer\"], df[\"Notenschnitt\"], label=\"Datenpunkte\", color=\"blue\")\n",
    "\n",
    "# Regressionsgerade berechnen und zeichnen\n",
    "x_values = [df[\"Schlafdauer\"].min(), df[\"Schlafdauer\"].max()]\n",
    "y_values = [steigung * x + achsenabschnitt for x in x_values]\n",
    "plt.plot(x_values, y_values, color=\"red\", label=\"Regressionsgerade\")\n",
    "\n",
    "# Achsenbeschriftungen und Legende hinzufügen\n",
    "plt.xlabel(\"Schlafdauer (Stunden)\")\n",
    "plt.ylabel(\"Notenschnitt\")\n",
    "plt.legend()\n",
    "plt.title(\"Datenpunkte und Regressionsgerade\")\n",
    "plt.show()"
   ]
  },
  {
   "cell_type": "markdown",
   "id": "fed8e2b4",
   "metadata": {},
   "source": [
    "# Ablauf Naoki\n",
    "- Unabhängige vs. abhängige Variable\n",
    "- Regression mit zwei Datenpunkten (**Nikos** Funktion mit drei Punkten, Abweichung schön gezeigt, Linie ausprobieren mit geogebra-Blatt)\n",
    "- Vorgegebene Funktion, Differenz berechnen (**Nikos**: Plot schön eingezeichnet orange / rot)\n",
    "- Scatter plot erstellen\n",
    "- Formel erklären (aber ohne Anwendung)\n",
    "- ols fitten mit smf.ols()\n",
    "- Parameter von OLS auslesen, neue Daten vorhersagen\n",
    "- Regressionsgerade einzeichnen\n",
    "- Multiple Lineare Regression\n",
    "- **Nikos**: Errors als Histogram anzeigen, überprüfen, wie gut einzelne NBA-Spieler vorhergesagt wurden"
   ]
  },
  {
   "cell_type": "markdown",
   "id": "53543b33",
   "metadata": {},
   "source": [
    "# Ablauf\n",
    "\n",
    "- Einführung mit Beispiel Korrelation vs Kausalität: ist es sinnvoll, Daten vorherzusagen?\n",
    "- Unabhängige vs. abhängige Variable: Begriffe kennen\n",
    "- Zwei Punkte nehmen, um Vorhersage zu machen\n",
    "- Fehler verstehen mit drei Punkten sowie allen Punkten, \n",
    "- Bessere Funktion suchen mit geogebra\n",
    "- Lineare Regression einführen\n",
    "- Lineare Regression mit smf.ols() anwenden\n",
    "- Regressionsgerade und scatter plot zeichnen\n",
    "- Error für bestehende Datentypen auslesen"
   ]
  },
  {
   "cell_type": "markdown",
   "id": "6e59dc84",
   "metadata": {},
   "source": [
    "\n",
    "\n",
    "## Challenge\n",
    "- multiple lineare Regression: Lernzeit, Schlaf und Wasserkonsum vs. Schulnote\n",
    "- Korrelation vs Kausalität mit Skript\n"
   ]
  },
  {
   "cell_type": "markdown",
   "id": "7bf0c583",
   "metadata": {},
   "source": []
  },
  {
   "cell_type": "markdown",
   "id": "cec2fba3",
   "metadata": {},
   "source": [
    "## Appendix: Herleitung der Formeln für die einfache lineare Regression\n",
    "\n",
    "### Definition der Zielfunktion\n",
    "Das Ziel der linearen Regression besteht darin, die bestmögliche Gerade $y = mx + q$ zu finden, die die Summe der quadrierten Residuen zwischen den vorhergesagten Werten und den tatsächlichen Datenpunkten minimiert. Die Summe der quadrierten Abstände zwischen den Datenpunkten und der Geraden wird definiert als:\n",
    "$$\n",
    "S = \\sum_{i=1}^n (y_i - (mx_i + q))^2\n",
    "$$\n",
    "\n",
    "### Partielle Ableitungen\n",
    "Um $S$ zu minimieren, nehmen wir die partiellen Ableitungen bezüglich $m$ und $q$ und setzen diese gleich Null.\n",
    "\n",
    "#### Partielle Ableitung nach $m$\n",
    "$$\n",
    "\\frac{\\partial S}{\\partial m} = \\frac{\\partial}{\\partial m} \\sum_{i=1}^n (y_i - mx_i - q)^2\n",
    "$$\n",
    "$$\n",
    "= \\sum_{i=1}^n 2(y_i - mx_i - q)(-x_i)\n",
    "$$\n",
    "$$\n",
    "= -2 \\sum_{i=1}^n x_i(y_i - mx_i - q)\n",
    "$$\n",
    "Auf Null setzen für die Minimierung:\n",
    "$$\n",
    "\\sum x_iy_i - m\\sum x_i^2 - q\\sum x_i = 0\n",
    "$$\n",
    "$$\n",
    "\\sum x_iy_i = m\\sum x_i^2 + q\\sum x_i \\quad \\text{(Gleichung 1)}\n",
    "$$\n",
    "\n",
    "#### Partielle Ableitung nach $q$\n",
    "$$\n",
    "\\frac{\\partial S}{\\partial q} = \\frac{\\partial}{\\partial q} \\sum_{i=1}^n (y_i - mx_i - q)^2\n",
    "$$\n",
    "$$\n",
    "= \\sum_{i=1}^n 2(y_i - mx_i - q)(-1)\n",
    "$$\n",
    "$$\n",
    "= -2 \\sum_{i=1}^n (y_i - mx_i - q)\n",
    "$$\n",
    "Auf Null setzen für die Minimierung:\n",
    "$$\n",
    "\\sum y_i - m\\sum x_i - nq = 0\n",
    "$$\n",
    "$$\n",
    "\\sum y_i = m\\sum x_i + nq \\quad \\text{(Gleichung 2)}\n",
    "$$\n",
    "\n",
    "### Lösung der Gleichungen\n",
    "Aus Gleichung 2:\n",
    "$$\n",
    "q = \\frac{\\sum y_i - m\\sum x_i}{n} \\quad \\text{(Gleichung 3)}\n",
    "$$\n",
    "Einsetzen der Gleichung 3 in Gleichung 1:\n",
    "$$\n",
    "\\sum x_iy_i = m\\sum x_i^2 + \\left(\\frac{\\sum y_i - m\\sum x_i}{n}\\right)\\sum x_i\n",
    "$$\n",
    "$$\n",
    "\\sum x_iy_i = m\\sum x_i^2 + \\frac{(\\sum y_i)\\sum x_i}{n} - \\frac{m(\\sum x_i)^2}{n}\n",
    "$$\n",
    "Auflösen nach $m$:\n",
    "$$\n",
    "m = \\frac{n\\sum x_iy_i - \\sum x_i \\sum y_i}{n\\sum x_i^2 - (\\sum x_i)^2}\n",
    "$$\n",
    "Bestimmen von $q$ über Einsetzen von $m$ in Gleichung 3:\n",
    "$$\n",
    "q = \\frac{\\sum y_i - m\\sum x_i}{n}\n",
    "$$"
   ]
  },
  {
   "cell_type": "markdown",
   "id": "cd5bf086",
   "metadata": {},
   "source": []
  }
 ],
 "metadata": {
  "kernelspec": {
   "display_name": "Python 3",
   "language": "python",
   "name": "python3"
  },
  "language_info": {
   "codemirror_mode": {
    "name": "ipython",
    "version": 3
   },
   "file_extension": ".py",
   "mimetype": "text/x-python",
   "name": "python",
   "nbconvert_exporter": "python",
   "pygments_lexer": "ipython3",
   "version": "3.11.4"
  }
 },
 "nbformat": 4,
 "nbformat_minor": 5
}
