{
 "cells": [
  {
   "cell_type": "markdown",
   "id": "86f2352a",
   "metadata": {
    "vscode": {
     "languageId": "plaintext"
    }
   },
   "source": [
    "# 📘 Einführung in Markov-Ketten\n",
    "\n",
    "In dieser Übung lernen Sie, wie man Markov-Ketten in Python umsetzen und Vorhersagen für zukünftige Zustände machen kann.\n"
   ]
  },
  {
   "cell_type": "markdown",
   "id": "77a2d1a7",
   "metadata": {},
   "source": [
    "## Beispiel: Wettermodell\n",
    "\n",
    "Angenommen, das Wetter kann **sonnig** oder **regnerisch** sein. Die Übergangswahrscheinlichkeiten lauten:\n",
    "\n",
    "- Wenn es heute sonnig ist, ist es morgen mit 80 % wieder sonnig, zu 20 % regnet es.\n",
    "- Wenn es heute regnet, ist es morgen mit 60 % wieder regnerisch, zu 40 % sonnig."
   ]
  },
  {
   "cell_type": "markdown",
   "id": "e5d46e53",
   "metadata": {},
   "source": [
    "## Übergangsmatrix erstellen\n",
    "\n",
    "Die Übergangsmatrix kann in Python mit dem Package `numpy` (kurz `np`) erstellt werden."
   ]
  },
  {
   "cell_type": "code",
   "execution_count": null,
   "id": "f92da6a7",
   "metadata": {},
   "outputs": [],
   "source": [
    "# Library numpy importieren (einmal ausführen reicht)\n",
    "import numpy as np"
   ]
  },
  {
   "cell_type": "code",
   "execution_count": null,
   "id": "daac8220",
   "metadata": {},
   "outputs": [],
   "source": [
    "# Zustände: 0 = Sonne, 1 = Regen\n",
    "P = np.array([\n",
    "    [0.8, 0.2],\n",
    "    [0.4, 0.6]\n",
    "])\n",
    "\n",
    "P"
   ]
  },
  {
   "cell_type": "markdown",
   "id": "598976ef",
   "metadata": {},
   "source": [
    "<div class=\"alert alert-success\">\n",
    "\n",
    "## Aufgabe: Übergangsmatrix erstellen\n",
    "Ein Schüler nutzt auf seinem Smartphone entweder Instagram (I) oder TikTok (T). Wenn er zuerst Instagram nutzt, so nutzt er mit einer Wahrscheinlichkeit von $0.6$ wieder Instagram und mit $0.4$ TikTok. Nach einer TikTok-Nutzung entscheidet er sich mit $0.1$ für Instagram und mit $0.9$ für TikTok. Erstellen Sie die Übergangsmatrix `Q`.\n",
    "</div>"
   ]
  },
  {
   "cell_type": "code",
   "execution_count": null,
   "id": "387ea35a",
   "metadata": {},
   "outputs": [],
   "source": [
    "Q = np.array([\n",
    "    # IHR CODE HIER\n",
    "])\n",
    "\n",
    "Q"
   ]
  },
  {
   "cell_type": "markdown",
   "id": "a0ae8aae",
   "metadata": {},
   "source": [
    "## Entwicklung der Zustände berechnen\n",
    "\n",
    "Gegeben ist, dass es heute regnerisch ist. Wir können die Wahrscheinlichkeit, dass es in einem oder zwei Tagen sonnig ist, berechnen, indem wir wiederholt den Zustandsvektor (`pi0`, danach `pi1` etc.)  mit der Matrix `P` multiplizieren. Matrixmultiplikationen können in Python einfach mit dem `@`-Operator durchgeführt werden."
   ]
  },
  {
   "cell_type": "code",
   "execution_count": null,
   "id": "c97b2732",
   "metadata": {},
   "outputs": [],
   "source": [
    "# Zustandsvektor am Anfang: keine Sonne (0%), Regen (100%)\n",
    "pi0 = np.array([0, 1])\n",
    "\n",
    "# Zustandsvektor nach einem Tag (Wahrscheinlichkeiten, dass es sonnig ist oder regnet)\n",
    "pi1 = pi0 @ P\n",
    "print(\"Nach 1 Tag:\", pi1)\n",
    "\n",
    "# Nach zwei Tagen\n",
    "pi2 = pi1 @ P\n",
    "print(\"Nach 2 Tagen:\", pi2)\n",
    "\n",
    "print(\"Wahrscheinlichkeit, dass es nach 2 Tagen sonnig wird:\", pi2[0]) # das erste Element mit Index 0 ist die Wahrscheinlichkeit für Sonne"
   ]
  },
  {
   "cell_type": "markdown",
   "id": "081fb8ff",
   "metadata": {},
   "source": [
    "<div class=\"alert alert-success\">\n",
    "\n",
    "## Aufgabe: Entwicklung der Zustände berechnen\n",
    "\n",
    "Wie gross ist die Wahrscheinlichkeit, dass es nach 3 Tagen immer noch regnet? Sie können die oben berechneten Variablen `pi2`, `P` etc. auch hier weiterverwenden.\n",
    "\n",
    "**Schreiben Sie Ihr Resultat als Zahl auf das Tablet**.\n",
    "</div>"
   ]
  },
  {
   "cell_type": "code",
   "execution_count": null,
   "id": "eaf165ea",
   "metadata": {},
   "outputs": [],
   "source": [
    "# IHR CODE HIER"
   ]
  },
  {
   "cell_type": "markdown",
   "id": "0d1c954a",
   "metadata": {},
   "source": [
    "## Zufallssimulation einer Markov-Kette\n",
    "\n",
    "Mit `random.choices` kann eine Abfolge von Zuständen basierend auf einer Übergangsmatrix simuliert werden. Die Funktion `random.choices` kann mit den Wahrscheinlichkeiten der Übergänge gefüttert werden, um den nächsten Zustand zu bestimmen. Dabei wird eine Zufallszahl generiert, die den nächsten Zustand bestimmt. Die Übergangswahrscheinlichkeiten sind in der Matrix `P` definiert, und die Simulation läuft für eine bestimmte Anzahl von Schritten.\n",
    "\n",
    "Im untenstehenden Beispiel wird eine Markov-Kette simuliert, die zwischen zwei Zuständen wechselt. Der Startzustand ist Sonne (0), und die Übergangswahrscheinlichkeiten sind in der Matrix `P` definiert. Die Simulation läuft für 20 Schritte, und der aktuelle Zustand wird in jedem Schritt ausgegeben.\n",
    "\n",
    "**Simulation** bedeutet, dass man mit dem Computer nachahmt, wie sich ein System in der Wirklichkeit verhalten würde. Dabei werden Zufallszahlen genutzt, um verschiedene Abläufe oder Entscheidungen nachzustellen. So kann man beobachten, wie sich etwas über viele Schritte entwickelt, ohne es in echt ausprobieren zu müssen."
   ]
  },
  {
   "cell_type": "code",
   "execution_count": null,
   "id": "ce17a81f",
   "metadata": {},
   "outputs": [],
   "source": [
    "# importiere Bibliothek, um Zufallszahlen zu generieren\n",
    "import random"
   ]
  },
  {
   "cell_type": "code",
   "execution_count": null,
   "id": "ba17e46f",
   "metadata": {},
   "outputs": [],
   "source": [
    "### CODEBLOCK A\n",
    "# # Wir definieren die Übergangsmatrix P nochmals, um die Werte später einfach verändern zu können\n",
    "# Zustände: 0 = Sonne, 1 = Regen\n",
    "P = np.array([\n",
    "    [0.8, 0.2],\n",
    "    [0.4, 0.6]\n",
    "])\n",
    "\n",
    "P"
   ]
  },
  {
   "cell_type": "code",
   "execution_count": null,
   "id": "83518ad0",
   "metadata": {},
   "outputs": [],
   "source": [
    "### CODEBLOCK B\n",
    "\n",
    "# Anfangszustand\n",
    "zustand = \"Sonne\"\n",
    "\n",
    "# Liste der simulierten Zustände (wird in der Schleife fortlaufend erweitert)\n",
    "history = [zustand]\n",
    "\n",
    "# Anzahl Simulationsschritte\n",
    "schritte = 20\n",
    "\n",
    "for i in range(schritte):\n",
    "    # Zufällig nächsten Zustand bestimmen (mit Übergangswahrscheinlichkeiten)\n",
    "    if zustand == \"Sonne\":\n",
    "        # Übergangswahrscheinlichkeiten vom Zustand \"Sonne\"\n",
    "        wahrscheinlichkeit = P[0]\n",
    "    else:\n",
    "        # Übergangswahrscheinlichkeiten vom Zustand \"Regen\"\n",
    "        wahrscheinlichkeit = P[1]\n",
    "    \n",
    "    # generiere nächsten simulierten Zustand mit Übergangswahrscheinlichkeiten\n",
    "    zustand = random.choices([\"Sonne\", \"Regen\"], weights=wahrscheinlichkeit).pop()\n",
    "    \n",
    "    # Füge simulierten Zustand zur Liste hinzu\n",
    "    history.append(zustand)\n",
    "\n",
    "print(history)"
   ]
  },
  {
   "cell_type": "markdown",
   "id": "0f731c2c",
   "metadata": {},
   "source": [
    "Folgende Funktion zeigt auf, wie sich die Verteilung der Zustände im Verlauf der Simulationsschritte ändert. Sie müssen nichts an der Funktion ändern, führen Sie diesen Code lediglich aus."
   ]
  },
  {
   "cell_type": "code",
   "execution_count": null,
   "id": "68994297",
   "metadata": {},
   "outputs": [],
   "source": [
    "### CODEBLOCK C\n",
    "import pandas as pd\n",
    "import matplotlib.pyplot as plt\n",
    "\n",
    "def plot_state_percentages(history):\n",
    "    \"\"\"\n",
    "    Plottet den prozentualen Verlauf beliebig vieler Zustände aus einer History-Liste.\n",
    "    \"\"\"\n",
    "    unique_states = list(dict.fromkeys(history))  # Reihenfolge beibehalten\n",
    "    counts = {state: 0 for state in unique_states}\n",
    "    percentages = {state: [] for state in unique_states}\n",
    "\n",
    "    for i, zustand in enumerate(history, 1):\n",
    "        counts[zustand] += 1\n",
    "        for state in unique_states:\n",
    "            percentages[state].append(counts[state] / i)\n",
    "\n",
    "    df = pd.DataFrame(percentages)\n",
    "    df.index = np.arange(1, len(history)+1)\n",
    "    df.index.name = \"Anzahl Zustände\"\n",
    "    df.plot()\n",
    "    plt.xlabel(\"Anzahl Zustände\")\n",
    "    plt.ylabel(\"Anteil\")\n",
    "    plt.yticks(np.arange(0, 1.05, 0.1))\n",
    "    plt.grid()\n",
    "    plt.title(\"Entwicklung der Zustandsverteilung\")\n",
    "    plt.legend(title=\"Zustände\")\n",
    "    plt.show()\n",
    "\n",
    "plot_state_percentages(history)"
   ]
  },
  {
   "cell_type": "markdown",
   "id": "7807106f",
   "metadata": {},
   "source": [
    "<div class=\"alert alert-success\">\n",
    "\n",
    "# Aufgabe: Zufallssimulation einer Markov-Kette\n",
    "Führen Sie die zwei obigen Code-Blöcke (B und C) zwei weitere Male aus. Ändert sich die Grafik? Weshalb?\n",
    "</div>"
   ]
  },
  {
   "cell_type": "markdown",
   "id": "530bbf1f",
   "metadata": {},
   "source": [
    "**Antwort**:..."
   ]
  },
  {
   "cell_type": "markdown",
   "id": "5be9308d",
   "metadata": {},
   "source": [
    "<div class=\"alert alert-success\">\n",
    "\n",
    "Führen Sie die zwei obigen Code-Blöcke (A und B) statt für 20 Schritte für **2000 Schritte** einige Male aus. Wie verändert sich die Verteilung der Zustände? Wie sind sind die Zustände langfristig verteilt? Überprüfen Sie Ihre Antwort mithilfe der Moodle-Lernkontrolle!\n",
    "</div>"
   ]
  },
  {
   "cell_type": "markdown",
   "id": "65de5578",
   "metadata": {},
   "source": [
    "**Antwort**:..."
   ]
  },
  {
   "cell_type": "markdown",
   "id": "ea423f77",
   "metadata": {},
   "source": [
    "**Antwort**:..."
   ]
  },
  {
   "cell_type": "markdown",
   "id": "9dc6dee4",
   "metadata": {},
   "source": [
    "# Zusatzaufgaben"
   ]
  },
  {
   "cell_type": "markdown",
   "id": "dab14bc5",
   "metadata": {},
   "source": [
    "<div class=\"alert alert-warning\">\n",
    "\n",
    "Führen Sie Codeblöcke A-C noch 3 weitere Male aus und verändern Sie jedes Mal die Übergangsmatrix P. Bevor Sie den Code ausführen, überlegen Sie sich jeweils, wie die Grafik für jede Übergangsmatrix aussehen sollte.\n",
    "\n",
    "Matrix A: \n",
    "$$ \\begin{pmatrix} 0.6 & 0.4 \\\\ 0.4 & 0.6 \\end{pmatrix}$$\n",
    "\n",
    "Matrix B:\n",
    "$$ \\begin{pmatrix} 0.7 & 0.3 \\\\ 0.1 & 0.9 \\end{pmatrix} $$\n",
    "\n",
    "Matrix C:\n",
    "$$ \\begin{pmatrix} 0.5 & 0.5 \\\\ 0 & 1 \\end{pmatrix} $$\n",
    "</div>"
   ]
  },
  {
   "cell_type": "markdown",
   "id": "1d918f7d",
   "metadata": {},
   "source": [
    "<div class=\"alert alert-warning\">\n",
    "Wie gross ist die Wahrscheinlichkeit, dass der Schüler nach drei Nutzungen bei Instagram landet, wenn er mit Tiktok startet?\n",
    "</div>"
   ]
  },
  {
   "cell_type": "code",
   "execution_count": null,
   "id": "e7b02a04",
   "metadata": {},
   "outputs": [],
   "source": [
    "# IHR CODE HIER"
   ]
  },
  {
   "cell_type": "markdown",
   "id": "14dc501e",
   "metadata": {},
   "source": [
    "<div class=\"alert alert-warning\">\n",
    "Führen Sie eine Zufallssimulation für die Zustände \"Instagram\" und \"TikTok\" durch. Visualisieren Sie das Resultat der Simulationen.\n",
    "</div>"
   ]
  },
  {
   "cell_type": "code",
   "execution_count": null,
   "id": "105a7b6d",
   "metadata": {},
   "outputs": [],
   "source": [
    "# IHR CODE HIER"
   ]
  }
 ],
 "metadata": {
  "kernelspec": {
   "display_name": "Python 3",
   "language": "python",
   "name": "python3"
  },
  "language_info": {
   "codemirror_mode": {
    "name": "ipython",
    "version": 3
   },
   "file_extension": ".py",
   "mimetype": "text/x-python",
   "name": "python",
   "nbconvert_exporter": "python",
   "pygments_lexer": "ipython3",
   "version": "3.11.12"
  }
 },
 "nbformat": 4,
 "nbformat_minor": 5
}
