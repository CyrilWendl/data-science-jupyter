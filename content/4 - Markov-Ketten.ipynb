{
 "cells": [
  {
   "cell_type": "markdown",
   "id": "86f2352a",
   "metadata": {
    "vscode": {
     "languageId": "plaintext"
    }
   },
   "source": [
    "# 📘 Einführung in Markov-Ketten\n",
    "\n",
    "In dieser Übung lernen Sie, wie man Markov-Ketten in Python umsetzen und Vorhersagen für zukünftige Zustände machen kann.\n"
   ]
  },
  {
   "cell_type": "markdown",
   "id": "77a2d1a7",
   "metadata": {},
   "source": [
    "## Beispiel: Wettermodell\n",
    "\n",
    "Angenommen, das Wetter kann **sonnig** oder **regnerisch** sein. Die Übergangswahrscheinlichkeiten lauten:\n",
    "\n",
    "- Wenn es heute sonnig ist, ist es morgen mit 90 % wieder sonnig, mit 10 % regnet es.\n",
    "- Wenn es heute regnet, ist es morgen mit 80 % wieder regnerisch, mit 20 % sonnig.\n",
    "\n",
    "Die Übergangsmatrix kann mit dem Package `numpy` (kurz `np`) erstellt werden:\n"
   ]
  },
  {
   "cell_type": "code",
   "execution_count": 28,
   "id": "f92da6a7",
   "metadata": {},
   "outputs": [],
   "source": [
    "# Library numpy importieren (einmal ausführen reicht)\n",
    "import numpy as np"
   ]
  },
  {
   "cell_type": "code",
   "execution_count": 29,
   "id": "daac8220",
   "metadata": {},
   "outputs": [
    {
     "data": {
      "text/plain": [
       "array([[0.9, 0.1],\n",
       "       [0.2, 0.8]])"
      ]
     },
     "execution_count": 29,
     "metadata": {},
     "output_type": "execute_result"
    }
   ],
   "source": [
    "# Zustände: 0 = Sonne, 1 = Regen\n",
    "P = np.array([\n",
    "    [0.9, 0.1],\n",
    "    [0.2, 0.8]\n",
    "])\n",
    "\n",
    "P"
   ]
  },
  {
   "cell_type": "markdown",
   "id": "598976ef",
   "metadata": {},
   "source": [
    "<div class=\"alert alert-success\">\n",
    "\n",
    "Ein Schüler nutzt auf seinem Smartphone entweder WhatsApp oder Instagram. Nach jeder Nutzung entscheidet er sich mit einer Wahrscheinlichkeit von $0{,}7$ wieder für dieselbe App und mit $0{,}3$ für die andere. Erstellen Sie die Übergangsmatrix `Q`.\n",
    "</div>"
   ]
  },
  {
   "cell_type": "code",
   "execution_count": 30,
   "id": "387ea35a",
   "metadata": {},
   "outputs": [],
   "source": [
    "# IHR CODE HIER"
   ]
  },
  {
   "cell_type": "code",
   "execution_count": 5,
   "id": "d1eab250",
   "metadata": {},
   "outputs": [
    {
     "data": {
      "text/plain": [
       "array([[0.7, 0.3],\n",
       "       [0.3, 0.7]])"
      ]
     },
     "execution_count": 5,
     "metadata": {},
     "output_type": "execute_result"
    }
   ],
   "source": [
    "# Zustände: 0 = WhatsApp (W), 1 = Instagram (I)\n",
    "Q = np.array([\n",
    "    [0.7, 0.3],  # Nach WhatsApp: 70% wieder WhatsApp, 30% Instagram\n",
    "    [0.3, 0.7]   # Nach Instagram: 30% WhatsApp, 70% wieder Instagram\n",
    "])\n",
    "\n",
    "Q\n"
   ]
  },
  {
   "cell_type": "markdown",
   "id": "a0ae8aae",
   "metadata": {},
   "source": [
    "## Aufgabe 1: Entwicklung der Zustände berechnen\n",
    "\n",
    "Gegeben ist, dass es heute sonnig ist. Wir können die Wahrscheinlichkeit, dass es in einem oder zwei Tagen regnet, berechnen, indem wir die Matrix `P` wiederholt mit dem Zustandsvektor `pi0`, `pi1` etc. multipliziern. Dies kann in Python mit dem `@`-Operator durchgeführt werden, der für Matrizenmultiplikation steht.\n"
   ]
  },
  {
   "cell_type": "code",
   "execution_count": 34,
   "id": "c97b2732",
   "metadata": {},
   "outputs": [
    {
     "name": "stdout",
     "output_type": "stream",
     "text": [
      "Nach 1 Tag: [0.9 0.1]\n",
      "Nach 2 Tagen: [0.83 0.17]\n",
      "Wahrscheinlichkeit, dass es nach 2 Tagen regnet: 0.17\n"
     ]
    }
   ],
   "source": [
    "# Startzustand: 100% Sonne\n",
    "pi0 = np.array([1, 0])\n",
    "\n",
    "# Nach einem Tag\n",
    "pi1 = pi0 @ P\n",
    "print(\"Nach 1 Tag:\", pi1)\n",
    "\n",
    "# Nach zwei Tagen\n",
    "pi2 = pi1 @ P\n",
    "print(\"Nach 2 Tagen:\", pi2)\n",
    "\n",
    "print(\"Wahrscheinlichkeit, dass es nach 2 Tagen regnet:\", pi2[1])\n"
   ]
  },
  {
   "cell_type": "markdown",
   "id": "53027fbd",
   "metadata": {},
   "source": [
    "<div class=\"alert alert-success\">\n",
    "Wie gross ist die Wahrscheinlichkeit, dass der Schüler nach zwei Nutzungen bei Instagram landet, wenn er mit WhatsApp startet?\n",
    "</div>"
   ]
  },
  {
   "cell_type": "code",
   "execution_count": 35,
   "id": "31335680",
   "metadata": {},
   "outputs": [],
   "source": [
    "# IHR CODE HIER"
   ]
  },
  {
   "cell_type": "code",
   "execution_count": 36,
   "id": "3ac4c9be",
   "metadata": {},
   "outputs": [
    {
     "name": "stdout",
     "output_type": "stream",
     "text": [
      "Wahrscheinlichkeit, nach zwei Nutzungen bei Instagram zu landen: 0.42\n"
     ]
    }
   ],
   "source": [
    "# Startzustand: 100% WhatsApp\n",
    "pi0 = np.array([1, 0])\n",
    "\n",
    "# Nach einer Nutzung\n",
    "pi1 = pi0 @ Q\n",
    "\n",
    "# Nach zwei Nutzungen\n",
    "pi2 = pi1 @ Q\n",
    "\n",
    "# Wahrscheinlichkeit für Instagram nach zwei Nutzungen (Index 1)\n",
    "wahrscheinlichkeit_instagram = pi2[1]\n",
    "print(\"Wahrscheinlichkeit, nach zwei Nutzungen bei Instagram zu landen:\", wahrscheinlichkeit_instagram)"
   ]
  },
  {
   "cell_type": "markdown",
   "id": "9f378623",
   "metadata": {},
   "source": [
    "# Aufgabe 2: Stationäre Verteilung\n",
    "Im folgenden Abschnitt berechnen wir die sogenannte stationäre Verteilung einer Markov-Kette. Damit können wir die langfristige Verteilung der Zustände bestimmen, unabhängig von der Anfangsverteilung. \n",
    ". Sie können dies tun, indem Sie die Übergangsmatrix P mit sich selbst multiplizieren, bis sich die Verteilung nicht mehr ändert."
   ]
  },
  {
   "cell_type": "markdown",
   "id": "38b40dd4",
   "metadata": {},
   "source": [
    "<div class=\"alert alert-success\">\n",
    "Was geschieht, wenn Sie Vorhersagen wie in Aufgabe 1 für drei weitere Tage machen?\n",
    "</div>"
   ]
  },
  {
   "cell_type": "code",
   "execution_count": 37,
   "id": "cfef85c5",
   "metadata": {},
   "outputs": [
    {
     "name": "stdout",
     "output_type": "stream",
     "text": [
      "Nach 1 Tag: [0.9 0.1]\n",
      "Nach 2 Tagen: [0.83 0.17]\n"
     ]
    }
   ],
   "source": [
    "# Startzustand: 100% Sonne\n",
    "pi0 = np.array([1, 0])\n",
    "\n",
    "# Nach einem Tag\n",
    "pi1 = pi0 @ P\n",
    "print(\"Nach 1 Tag:\", pi1)\n",
    "\n",
    "# Nach zwei Tagen\n",
    "pi2 = pi1 @ P\n",
    "print(\"Nach 2 Tagen:\", pi2)\n",
    "\n",
    "# Nach drei Tagen\n",
    "# IHR CODE HIER:..."
   ]
  },
  {
   "cell_type": "code",
   "execution_count": 38,
   "id": "0e1213c7",
   "metadata": {},
   "outputs": [
    {
     "name": "stdout",
     "output_type": "stream",
     "text": [
      "Nach 3 Tagen: [0.781 0.219]\n",
      "Nach 4 Tagen: [0.7467 0.2533]\n",
      "Nach 5 Tagen: [0.72269 0.27731]\n"
     ]
    }
   ],
   "source": [
    "pi3 = pi2 @ P\n",
    "print(\"Nach 3 Tagen:\", pi3)\n",
    "\n",
    "# Nach 4 Tagen\n",
    "pi4 = pi3 @ P\n",
    "print(\"Nach 4 Tagen:\", pi4)\n",
    "\n",
    "# Nach 5 Tagen\n",
    "pi5 = pi4 @ P\n",
    "print(\"Nach 5 Tagen:\", pi5)"
   ]
  },
  {
   "cell_type": "markdown",
   "id": "a887a4b7",
   "metadata": {},
   "source": [
    "**Antwort**: Die Zahl verändert sich immer weniger und konvertgiert zu ca. 70%/30% hin."
   ]
  },
  {
   "cell_type": "code",
   "execution_count": 39,
   "id": "44ff9f0b",
   "metadata": {},
   "outputs": [
    {
     "name": "stdout",
     "output_type": "stream",
     "text": [
      "Stationäre Verteilung (approximativ): [0.8 0.2]\n"
     ]
    }
   ],
   "source": [
    "pi = np.array([1, 0])  # Start in Sonne\n",
    "for _ in range(50):\n",
    "    pi = pi @ P\n",
    "\n",
    "print(\"Stationäre Verteilung (approximativ):\", v)\n"
   ]
  },
  {
   "cell_type": "markdown",
   "id": "d6b158ac",
   "metadata": {},
   "source": [
    "<div class=\"alert alert-success\">\n",
    "Wie sieht die stationäre Verteilung (approximativ) aus?\n",
    "</div>"
   ]
  },
  {
   "cell_type": "markdown",
   "id": "f27bff83",
   "metadata": {},
   "source": [
    "**Antwort**: ..."
   ]
  },
  {
   "cell_type": "markdown",
   "id": "027c5704",
   "metadata": {},
   "source": [
    "**Antwort**: 2/3 Sonne, 1/3 Regen"
   ]
  },
  {
   "cell_type": "markdown",
   "id": "3421dbb3",
   "metadata": {},
   "source": [
    "Berechnen Sie die stationäre Verteilung der Markov-Kette für die PendlerInnen-Verteilung aus Aufgabe 1.2:\n",
    "Die Übergangswahrscheinlichkeiten sind:\n",
    "- Nach einer Fahrt mit dem Fahrrad nimmt sie am nächsten Tag mit Wahrscheinlichkeit $0{,}9$ wieder das Fahrrad und mit $0{,}1$ den Bus.\n",
    "- Nach einer Busfahrt nimmt sie am nächsten Tag mit Wahrscheinlichkeit $0{,}6$ wieder den Bus und mit $0{,}4$ das Fahrrad.\n",
    "\n",
    "Erstellen Sie zuerst die Übergangsmatrix in Python und berechnen Sie danach die ungefähre statiionäre Verteilung, indem Sie Vorhersagen für die nächsten 50 Tage machen."
   ]
  },
  {
   "cell_type": "code",
   "execution_count": 40,
   "id": "ad19f440",
   "metadata": {},
   "outputs": [],
   "source": [
    "# Übergangsmatrix für Fahrrad (F) und Bus (B) \n",
    "# IHR CODE HIER"
   ]
  },
  {
   "cell_type": "code",
   "execution_count": 41,
   "id": "b2111116",
   "metadata": {},
   "outputs": [],
   "source": [
    "# Startvektor (im Zustand Fahrrad)\n",
    "# IHR CODE HIER"
   ]
  },
  {
   "cell_type": "code",
   "execution_count": 42,
   "id": "d061f24e",
   "metadata": {},
   "outputs": [],
   "source": [
    "# Iterative Berechnung der stationären Verteilung\n",
    "# IHR CODE HIER"
   ]
  },
  {
   "cell_type": "code",
   "execution_count": 43,
   "id": "e352db98",
   "metadata": {},
   "outputs": [
    {
     "name": "stdout",
     "output_type": "stream",
     "text": [
      "Stationäre Verteilung (näherungsweise): [0.8 0.2]\n"
     ]
    }
   ],
   "source": [
    "# Übergangsmatrix für Fahrrad (F) und Bus (B)\n",
    "B = np.array([\n",
    "    [0.9, 0.1],  # Nach Fahrrad: 90% wieder Fahrrad, 10% Bus\n",
    "    [0.4, 0.6]   # Nach Bus: 40% Fahrrad, 60% wieder Bus\n",
    "])\n",
    "\n",
    "# Start im Zustand Fahrrad\n",
    "v = np.array([1, 0])\n",
    "\n",
    "# Iterative Berechnung der stationären Verteilung\n",
    "for _ in range(50):\n",
    "    v = v @ B\n",
    "\n",
    "print(\"Stationäre Verteilung (näherungsweise):\", v)"
   ]
  },
  {
   "cell_type": "markdown",
   "id": "0d1c954a",
   "metadata": {},
   "source": [
    "<div class=\"alert alert-warning\">\n",
    "\n",
    "## Aufgabe 3 (Challenge): Zufallssimulation einer Markov-Kette\n",
    "\n",
    "Mit `random.choices` kann eine Markov-Kette simuliert werden. Die Funktion `random.choices` kann mit den Wahrscheinlichkeiten der Übergänge gefüttert werden, um den nächsten Zustand zu bestimmen. Dabei wird eine Zufallszahl generiert, die den nächsten Zustand bestimmt. Die Übergangswahrscheinlichkeiten sind in der Matrix `P_dict` definiert, und die Simulation läuft für eine bestimmte Anzahl von Schritten.\n",
    "\n",
    "Im untenstehenden Beispiel wird eine Markov-Kette simuliert, die zwischen zwei Zuständen wechselt. Der Startzustand ist Sonne (0), und die Übergangswahrscheinlichkeiten sind in der Matrix `P` definiert. Die Simulation läuft für 10 Schritte, und der aktuelle Zustand wird in jedem Schritt ausgegeben.\n",
    "\n",
    "</div>"
   ]
  },
  {
   "cell_type": "code",
   "execution_count": null,
   "id": "2fa03369",
   "metadata": {},
   "outputs": [
    {
     "name": "stdout",
     "output_type": "stream",
     "text": [
      "['Sonne', 'Sonne', 'Sonne', 'Sonne', 'Sonne', 'Regen', 'Regen', 'Regen', 'Regen', 'Regen', 'Regen', 'Sonne', 'Sonne', 'Regen', 'Regen', 'Sonne', 'Regen', 'Sonne', 'Sonne', 'Sonne', 'Sonne']\n"
     ]
    }
   ],
   "source": [
    "import random\n",
    "\n",
    "states = [\"Sonne\", \"Regen\"]\n",
    "P_dict = {\n",
    "    \"Sonne\": [0.8, 0.2],\n",
    "    \"Regen\": [0.4, 0.6]\n",
    "}\n",
    "\n",
    "current_state = \"Sonne\"\n",
    "history = [current_state]\n",
    "\n",
    "for _ in range(20):\n",
    "    next_state = random.choices(states, weights=P_dict[current_state])[0]\n",
    "    history.append(next_state)\n",
    "    current_state = next_state\n",
    "\n",
    "print(history)\n"
   ]
  },
  {
   "cell_type": "markdown",
   "id": "14dc501e",
   "metadata": {},
   "source": [
    "Führen Sie eine Zufallssimulation für die Zustände \"Fahrrad\" und \"Bus\" durch."
   ]
  },
  {
   "cell_type": "code",
   "execution_count": 26,
   "id": "edc76cc1",
   "metadata": {},
   "outputs": [],
   "source": [
    "# IHR CODE HIER"
   ]
  },
  {
   "cell_type": "code",
   "execution_count": null,
   "id": "9dc6dee4",
   "metadata": {},
   "outputs": [],
   "source": []
  }
 ],
 "metadata": {
  "kernelspec": {
   "display_name": "Python 3",
   "language": "python",
   "name": "python3"
  },
  "language_info": {
   "codemirror_mode": {
    "name": "ipython",
    "version": 3
   },
   "file_extension": ".py",
   "mimetype": "text/x-python",
   "name": "python",
   "nbconvert_exporter": "python",
   "pygments_lexer": "ipython3",
   "version": "3.11.4"
  }
 },
 "nbformat": 4,
 "nbformat_minor": 5
}
