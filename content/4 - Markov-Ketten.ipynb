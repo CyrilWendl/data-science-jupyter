{
 "cells": [
  {
   "cell_type": "markdown",
   "id": "86f2352a",
   "metadata": {
    "vscode": {
     "languageId": "plaintext"
    }
   },
   "source": [
    "# 📘 Einführung in Markov-Ketten\n",
    "\n",
    "In dieser Übung lernen Sie, wie man Markov-Ketten in Python umsetzen und Vorhersagen für zukünftige Zustände machen kann.\n"
   ]
  },
  {
   "cell_type": "markdown",
   "id": "77a2d1a7",
   "metadata": {},
   "source": [
    "## Beispiel: Wettermodell\n",
    "\n",
    "Angenommen, das Wetter kann **sonnig** oder **regnerisch** sein. Die Übergangswahrscheinlichkeiten lauten:\n",
    "\n",
    "- Wenn es heute sonnig ist, ist es morgen mit 80 % wieder sonnig, zu 20 % regnet es.\n",
    "- Wenn es heute regnet, ist es morgen mit 60 % wieder regnerisch, zu 40 % sonnig.\n",
    "\n",
    "Die Übergangsmatrix kann mit dem Package `numpy` (kurz `np`) erstellt werden:\n"
   ]
  },
  {
   "cell_type": "code",
   "execution_count": 1,
   "id": "f92da6a7",
   "metadata": {},
   "outputs": [],
   "source": [
    "# Library numpy importieren (einmal ausführen reicht)\n",
    "import numpy as np"
   ]
  },
  {
   "cell_type": "code",
   "execution_count": 2,
   "id": "daac8220",
   "metadata": {},
   "outputs": [
    {
     "data": {
      "text/plain": [
       "array([[0.8, 0.2],\n",
       "       [0.4, 0.6]])"
      ]
     },
     "execution_count": 2,
     "metadata": {},
     "output_type": "execute_result"
    }
   ],
   "source": [
    "# Zustände: 0 = Sonne, 1 = Regen\n",
    "P = np.array([\n",
    "    [0.8, 0.2],\n",
    "    [0.4, 0.6]\n",
    "])\n",
    "\n",
    "P"
   ]
  },
  {
   "cell_type": "markdown",
   "id": "598976ef",
   "metadata": {},
   "source": [
    "<div class=\"alert alert-success\">\n",
    "\n",
    "Ein Schüler nutzt auf seinem Smartphone entweder WhatsApp oder Instagram. Nach jeder Nutzung entscheidet er sich mit einer Wahrscheinlichkeit von $0{,}7$ wieder für dieselbe App und mit $0{,}3$ für die andere. Erstellen Sie die Übergangsmatrix `Q`.\n",
    "</div>"
   ]
  },
  {
   "cell_type": "code",
   "execution_count": 3,
   "id": "387ea35a",
   "metadata": {},
   "outputs": [
    {
     "data": {
      "text/plain": [
       "array([], dtype=float64)"
      ]
     },
     "execution_count": 3,
     "metadata": {},
     "output_type": "execute_result"
    }
   ],
   "source": [
    "Q = np.array([\n",
    "    # IHR CODE HIER\n",
    "])\n",
    "\n",
    "Q"
   ]
  },
  {
   "cell_type": "code",
   "execution_count": 4,
   "id": "d1eab250",
   "metadata": {},
   "outputs": [
    {
     "data": {
      "text/plain": [
       "array([[0.7, 0.3],\n",
       "       [0.3, 0.7]])"
      ]
     },
     "execution_count": 4,
     "metadata": {},
     "output_type": "execute_result"
    }
   ],
   "source": [
    "# Zustände: 0 = WhatsApp (W), 1 = Instagram (I)\n",
    "Q = np.array([\n",
    "    [0.7, 0.3],  # Nach WhatsApp: 70% wieder WhatsApp, 30% Instagram\n",
    "    [0.3, 0.7]   # Nach Instagram: 30% WhatsApp, 70% wieder Instagram\n",
    "])\n",
    "\n",
    "Q\n"
   ]
  },
  {
   "cell_type": "markdown",
   "id": "a0ae8aae",
   "metadata": {},
   "source": [
    "## Aufgabe 1: Entwicklung der Zustände berechnen\n",
    "\n",
    "Gegeben ist, dass es heute regnerisch ist. Wir können die Wahrscheinlichkeit, dass es in einem oder zwei Tagen sonnig ist, berechnen, indem wir wiederholt den aktuellen Zustandsvektor `pi0`, `pi1` etc. mit der Matrix `P` multiplizieren. Matrixmultiplikationen können in Python mit dem `@`-Operator durchgeführt werden.\n"
   ]
  },
  {
   "cell_type": "code",
   "execution_count": 5,
   "id": "c97b2732",
   "metadata": {},
   "outputs": [
    {
     "name": "stdout",
     "output_type": "stream",
     "text": [
      "Nach 1 Tag: [0.4 0.6]\n",
      "Nach 2 Tagen: [0.56 0.44]\n",
      "Wahrscheinlichkeit, dass es nach 2 Tagen sonnig wird: 0.56\n"
     ]
    }
   ],
   "source": [
    "# Zustandsvektor am Anfang: keine Sonne (0%), Regen (100%)\n",
    "pi0 = np.array([0, 1])\n",
    "\n",
    "# Zustandsvektor nach einem Tag (Wahrscheinlichkeiten, dass es sonnig ist oder regnet)\n",
    "pi1 = pi0 @ P\n",
    "print(\"Nach 1 Tag:\", pi1)\n",
    "\n",
    "# Nach zwei Tagen\n",
    "pi2 = pi1 @ P\n",
    "print(\"Nach 2 Tagen:\", pi2)\n",
    "\n",
    "print(\"Wahrscheinlichkeit, dass es nach 2 Tagen sonnig wird:\", pi2[0])"
   ]
  },
  {
   "cell_type": "markdown",
   "id": "081fb8ff",
   "metadata": {},
   "source": [
    "<div class=\"alert alert-success\">\n",
    "\n",
    "Wie gross ist die Wahrscheinlichkeit, dass es nach 3 Tagen immer noch regnet? Sie könnne die oben berechneten Variablen `pi2`, `P` etc. weiterverwenden.\n",
    "\n",
    "**Schreiben Sie Ihr Resultat als Zahl auf das Tablet**.\n",
    "</div>"
   ]
  },
  {
   "cell_type": "code",
   "execution_count": 6,
   "id": "eaf165ea",
   "metadata": {},
   "outputs": [],
   "source": [
    "# IHR CODE HIER"
   ]
  },
  {
   "cell_type": "code",
   "execution_count": 7,
   "id": "ca3e6b2e",
   "metadata": {},
   "outputs": [
    {
     "name": "stdout",
     "output_type": "stream",
     "text": [
      "Wahrscheinlichkeit, dass es nach 3 Tagen immer noch regnet: 0.376\n"
     ]
    }
   ],
   "source": [
    "# Nach drei Tagen\n",
    "pi3 = pi2 @ P\n",
    "print(\"Wahrscheinlichkeit, dass es nach 3 Tagen immer noch regnet:\", pi3[1])"
   ]
  },
  {
   "cell_type": "markdown",
   "id": "0d1c954a",
   "metadata": {},
   "source": [
    "## Zufallssimulation einer Markov-Kette\n",
    "\n",
    "Mit `random.choices` kann eine Abfolge von Zuständen basierend auf einer Übergangsmatrix simuliert werden. Die Funktion `random.choices` kann mit den Wahrscheinlichkeiten der Übergänge gefüttert werden, um den nächsten Zustand zu bestimmen. Dabei wird eine Zufallszahl generiert, die den nächsten Zustand bestimmt. Die Übergangswahrscheinlichkeiten sind in der Matrix `P` definiert, und die Simulation läuft für eine bestimmte Anzahl von Schritten.\n",
    "\n",
    "Im untenstehenden Beispiel wird eine Markov-Kette simuliert, die zwischen zwei Zuständen wechselt. Der Startzustand ist Sonne (0), und die Übergangswahrscheinlichkeiten sind in der Matrix `P` definiert. Die Simulation läuft für 20 Schritte, und der aktuelle Zustand wird in jedem Schritt ausgegeben.\n",
    "\n",
    "**Simulation** bedeutet, dass man mit dem Computer nachahmt, wie sich ein System in der Wirklichkeit verhalten würde. Dabei werden Zufallszahlen genutzt, um verschiedene Abläufe oder Entscheidungen nachzustellen. So kann man beobachten, wie sich etwas über viele Schritte entwickelt, ohne es in echt ausprobieren zu müssen."
   ]
  },
  {
   "cell_type": "code",
   "execution_count": 8,
   "id": "ce17a81f",
   "metadata": {},
   "outputs": [],
   "source": [
    "# importiere Bibliothek, um Zufallszahlen zu generieren\n",
    "import random"
   ]
  },
  {
   "cell_type": "code",
   "execution_count": 9,
   "id": "83518ad0",
   "metadata": {},
   "outputs": [
    {
     "name": "stdout",
     "output_type": "stream",
     "text": [
      "['Sonne', 'Sonne', 'Sonne', 'Sonne', 'Sonne', 'Regen', 'Regen', 'Regen', 'Regen', 'Sonne', 'Regen', 'Sonne', 'Sonne', 'Sonne', 'Sonne', 'Sonne', 'Sonne', 'Sonne', 'Sonne', 'Regen', 'Regen']\n"
     ]
    }
   ],
   "source": [
    "### CODEBLOCK A\n",
    "\n",
    "# Anfangszustand\n",
    "zustand = \"Sonne\"\n",
    "\n",
    "# Liste der simulierten Zustände (wird in der Schleife fortlaufend erweitert)\n",
    "history = [zustand]\n",
    "\n",
    "# Anzahl Simulationsschritte\n",
    "schritte = 20\n",
    "\n",
    "for i in range(schritte):\n",
    "    # Zufällig nächsten Zustand bestimmen (mit Übergangswahrscheinlichkeiten)\n",
    "    if zustand == \"Sonne\":\n",
    "        # Übergangswahrscheinlichkeiten vom Zustand \"Sonne\"\n",
    "        wahrscheinlichkeit = P[0]\n",
    "    else:\n",
    "        # Übergangswahrscheinlichkeiten vom Zustand \"Regen\"\n",
    "        wahrscheinlichkeit = P[1]\n",
    "    \n",
    "    # generiere nächsten simulierten Zustand mit Übergangswahrscheinlichkeiten\n",
    "    zustand = random.choices([\"Sonne\", \"Regen\"], weights=wahrscheinlichkeit).pop()\n",
    "    \n",
    "    # Füge simulierten Zustand zur Liste hinzu\n",
    "    history.append(zustand)\n",
    "\n",
    "print(history)"
   ]
  },
  {
   "cell_type": "markdown",
   "id": "0f731c2c",
   "metadata": {},
   "source": [
    "Folgende Funktion zeigt auf, wie sich die Verteilung der Zustände im Verlauf der Simulationsschritte ändert. Sie müssen nichts an der Funktion ändern, führen Sie diesen Code lediglich aus."
   ]
  },
  {
   "cell_type": "code",
   "execution_count": 10,
   "id": "68994297",
   "metadata": {},
   "outputs": [
    {
     "data": {
      "image/png": "[encoded data removed]",
      "text/plain": [
       "<Figure size 640x480 with 1 Axes>"
      ]
     },
     "metadata": {},
     "output_type": "display_data"
    }
   ],
   "source": [
    "### CODEBLOCK B\n",
    "import pandas as pd\n",
    "import matplotlib.pyplot as plt\n",
    "\n",
    "def plot_state_percentages(history):\n",
    "    \"\"\"\n",
    "    Plottet den prozentualen Verlauf beliebig vieler Zustände aus einer History-Liste.\n",
    "    \"\"\"\n",
    "    unique_states = list(dict.fromkeys(history))  # Reihenfolge beibehalten\n",
    "    counts = {state: 0 for state in unique_states}\n",
    "    percentages = {state: [] for state in unique_states}\n",
    "\n",
    "    for i, zustand in enumerate(history, 1):\n",
    "        counts[zustand] += 1\n",
    "        for state in unique_states:\n",
    "            percentages[state].append(counts[state] / i)\n",
    "\n",
    "    df = pd.DataFrame(percentages)\n",
    "    df.index = np.arange(1, len(history)+1)\n",
    "    df.index.name = \"Anzahl Zustände\"\n",
    "    df.plot()\n",
    "    plt.xlabel(\"Anzahl Zustände\")\n",
    "    plt.ylabel(\"Anteil\")\n",
    "    plt.title(\"Entwicklung der Zustandsverteilung\")\n",
    "    plt.legend(title=\"Zustände\")\n",
    "    plt.show()\n",
    "\n",
    "plot_state_percentages(history)"
   ]
  },
  {
   "cell_type": "markdown",
   "id": "7807106f",
   "metadata": {},
   "source": [
    "<div class=\"alert alert-success\">\n",
    "Führen Sie die zwei obigen Code-Blöcke (A und B) zwei weitere Male aus. Ändert sich die Grafik? Weshalb?\n",
    "</div>"
   ]
  },
  {
   "cell_type": "markdown",
   "id": "530bbf1f",
   "metadata": {},
   "source": [
    "**Antwort**:..."
   ]
  },
  {
   "cell_type": "markdown",
   "id": "5be9308d",
   "metadata": {},
   "source": [
    "<div class=\"alert alert-success\">\n",
    "\n",
    "Führen Sie die zwei obigen Code-Blöcke (A und B) statt für 20 Schritte für **2000 Schritte** einige Male aus. Wie verändert sich die Verteilung der Zustände?\n",
    "</div>"
   ]
  },
  {
   "cell_type": "markdown",
   "id": "65de5578",
   "metadata": {},
   "source": [
    "**Antwort**:..."
   ]
  },
  {
   "cell_type": "markdown",
   "id": "9dc6dee4",
   "metadata": {},
   "source": [
    "# Zusatzaufgaben"
   ]
  },
  {
   "cell_type": "markdown",
   "id": "1d918f7d",
   "metadata": {},
   "source": [
    "<div class=\"alert alert-success\">\n",
    "Wie gross ist die Wahrscheinlichkeit, dass der Schüler nach drei Nutzungen bei Instagram landet, wenn er mit Tiktok startet?\n",
    "</div>"
   ]
  },
  {
   "cell_type": "code",
   "execution_count": 11,
   "id": "e7b02a04",
   "metadata": {},
   "outputs": [],
   "source": [
    "# IHR CODE HIER"
   ]
  },
  {
   "cell_type": "code",
   "execution_count": 12,
   "id": "d9df9ab1",
   "metadata": {},
   "outputs": [
    {
     "name": "stdout",
     "output_type": "stream",
     "text": [
      "Wahrscheinlichkeit, nach zwei Nutzungen bei Instagram zu landen: 0.46799999999999997\n"
     ]
    }
   ],
   "source": [
    "# Startzustand: 100% WhatsApp\n",
    "pi0 = np.array([1, 0])\n",
    "\n",
    "# Nach einer Nutzung\n",
    "pi1 = pi0 @ Q\n",
    "\n",
    "# Nach zwei Nutzungen\n",
    "pi2 = pi1 @ Q\n",
    "\n",
    "# Nach drei Nutzungen\n",
    "pi3 = pi2 @ Q\n",
    "\n",
    "# Wahrscheinlichkeit für Instagram nach zwei Nutzungen (Index 1)\n",
    "print(\"Wahrscheinlichkeit, nach zwei Nutzungen bei Instagram zu landen:\", pi3[1])"
   ]
  },
  {
   "cell_type": "markdown",
   "id": "14dc501e",
   "metadata": {},
   "source": [
    "<div class=\"alert alert-success\">\n",
    "Führen Sie eine Zufallssimulation für die Zustände \"Instagram\" und \"TikTok\" durch. Visualisieren Sie das Resultat der Simulationen.\n",
    "</div>"
   ]
  },
  {
   "cell_type": "code",
   "execution_count": null,
   "id": "105a7b6d",
   "metadata": {},
   "outputs": [],
   "source": [
    "# IHR CODE HIER"
   ]
  }
 ],
 "metadata": {
  "kernelspec": {
   "display_name": "Python 3",
   "language": "python",
   "name": "python3"
  },
  "language_info": {
   "codemirror_mode": {
    "name": "ipython",
    "version": 3
   },
   "file_extension": ".py",
   "mimetype": "text/x-python",
   "name": "python",
   "nbconvert_exporter": "python",
   "pygments_lexer": "ipython3",
   "version": "3.11.4"
  }
 },
 "nbformat": 4,
 "nbformat_minor": 5
}
