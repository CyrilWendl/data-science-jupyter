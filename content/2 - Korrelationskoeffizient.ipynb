{
 "cells": [
  {
   "cell_type": "markdown",
   "id": "4f33a34f",
   "metadata": {},
   "source": [
    "# Korrelationskoeffizient berechnen\n",
    "\n",
    "In folgendem Arbeitsblatt schauen wir uns an, wie der Korrelationskoeffizient in Python berechnet werden kann.\n",
    "\n",
    "Zuerst lesen wir die Daten ein, wie wir das letzte Woche gemacht haben:"
   ]
  },
  {
   "cell_type": "code",
   "execution_count": 1,
   "id": "6fda1c89",
   "metadata": {},
   "outputs": [],
   "source": [
    "import pandas as pd"
   ]
  },
  {
   "cell_type": "code",
   "execution_count": 2,
   "id": "fbba0a01",
   "metadata": {},
   "outputs": [
    {
     "data": {
      "application/vnd.microsoft.datawrangler.viewer.v0+json": {
       "columns": [
        {
         "name": "index",
         "rawType": "int64",
         "type": "integer"
        },
        {
         "name": "Polizeistreifen",
         "rawType": "int64",
         "type": "integer"
        },
        {
         "name": "Straftaten",
         "rawType": "float64",
         "type": "float"
        }
       ],
       "conversionMethod": "pd.DataFrame",
       "ref": "683d05c2-7865-407f-825e-e06b6b841638",
       "rows": [
        [
         "0",
         "5",
         "5.915402117702074"
        ],
        [
         "1",
         "4",
         "4.3287511096596845"
        ],
        [
         "2",
         "4",
         "3.470239796232961"
        ],
        [
         "3",
         "5",
         "5.513267433113356"
        ],
        [
         "4",
         "5",
         "5.0970775493480405"
        ]
       ],
       "shape": {
        "columns": 2,
        "rows": 5
       }
      },
      "text/html": [
       "<div>\n",
       "<style scoped>\n",
       "    .dataframe tbody tr th:only-of-type {\n",
       "        vertical-align: middle;\n",
       "    }\n",
       "\n",
       "    .dataframe tbody tr th {\n",
       "        vertical-align: top;\n",
       "    }\n",
       "\n",
       "    .dataframe thead th {\n",
       "        text-align: right;\n",
       "    }\n",
       "</style>\n",
       "<table border=\"1\" class=\"dataframe\">\n",
       "  <thead>\n",
       "    <tr style=\"text-align: right;\">\n",
       "      <th></th>\n",
       "      <th>Polizeistreifen</th>\n",
       "      <th>Straftaten</th>\n",
       "    </tr>\n",
       "  </thead>\n",
       "  <tbody>\n",
       "    <tr>\n",
       "      <th>0</th>\n",
       "      <td>5</td>\n",
       "      <td>5.915402</td>\n",
       "    </tr>\n",
       "    <tr>\n",
       "      <th>1</th>\n",
       "      <td>4</td>\n",
       "      <td>4.328751</td>\n",
       "    </tr>\n",
       "    <tr>\n",
       "      <th>2</th>\n",
       "      <td>4</td>\n",
       "      <td>3.470240</td>\n",
       "    </tr>\n",
       "    <tr>\n",
       "      <th>3</th>\n",
       "      <td>5</td>\n",
       "      <td>5.513267</td>\n",
       "    </tr>\n",
       "    <tr>\n",
       "      <th>4</th>\n",
       "      <td>5</td>\n",
       "      <td>5.097078</td>\n",
       "    </tr>\n",
       "  </tbody>\n",
       "</table>\n",
       "</div>"
      ],
      "text/plain": [
       "   Polizeistreifen  Straftaten\n",
       "0                5    5.915402\n",
       "1                4    4.328751\n",
       "2                4    3.470240\n",
       "3                5    5.513267\n",
       "4                5    5.097078"
      ]
     },
     "execution_count": 2,
     "metadata": {},
     "output_type": "execute_result"
    }
   ],
   "source": [
    "# Datensatz 1: Polizei vs. Kriminalität\n",
    "df_pol = pd.read_csv(\"Data/police_crime.csv\")\n",
    "df_pol.head() # erste 5 Zeilen anzeigen"
   ]
  },
  {
   "cell_type": "code",
   "execution_count": 3,
   "id": "fb5fca51",
   "metadata": {},
   "outputs": [
    {
     "name": "stdout",
     "output_type": "stream",
     "text": [
      "Polizeistreifen    4.600000\n",
      "Straftaten         4.449875\n",
      "dtype: float64\n"
     ]
    }
   ],
   "source": [
    "# berechne Mittelwerte der Variablen\n",
    "means = df_pol.mean()\n",
    "print(means)"
   ]
  },
  {
   "cell_type": "code",
   "execution_count": 4,
   "id": "1eb8edd7",
   "metadata": {},
   "outputs": [],
   "source": [
    "# berechne verschobene x-Werte\n",
    "df_pol[\"Polizeistreifen\"] = df_pol[\"Polizeistreifen\"] - means[\"Polizeistreifen\"]\n",
    "df_pol[\"Straftaten\"] = df_pol[\"Straftaten\"] - means[\"Straftaten\"]"
   ]
  },
  {
   "cell_type": "code",
   "execution_count": 5,
   "id": "fead223b",
   "metadata": {},
   "outputs": [
    {
     "name": "stdout",
     "output_type": "stream",
     "text": [
      "Z ist: 46.07\n"
     ]
    }
   ],
   "source": [
    "# multipliziere x' mit y'\n",
    "df_pol[\"x'*y'\"] = df_pol[\"Polizeistreifen\"] * df_pol[\"Straftaten\"]\n",
    "Z = df_pol[\"x'*y'\"].sum()\n",
    "print(f\"Z ist: {Z:.2f}\") # Z ausgeben, auf 2 Nachkommastellen gerundet"
   ]
  },
  {
   "cell_type": "markdown",
   "id": "96077e07",
   "metadata": {},
   "source": [
    "<div class=\"alert alert-success\">\n",
    "\n",
    "### Aufgabe 1\n",
    "\n",
    "Berechnen Sie den Z-Wert für die Datei `socialmedia_vs_zufriedenheit.csv`.\n",
    "\n",
    "</div>"
   ]
  },
  {
   "cell_type": "markdown",
   "id": "e25049e7",
   "metadata": {},
   "source": []
  },
  {
   "cell_type": "code",
   "execution_count": 6,
   "id": "fa78ad79",
   "metadata": {},
   "outputs": [],
   "source": [
    "# Ihr Code hier..."
   ]
  },
  {
   "cell_type": "markdown",
   "id": "def5a471",
   "metadata": {},
   "source": [
    "<div class=\"alert alert-success\">\n",
    "\n",
    "### Aufgabe 2\n",
    "\n",
    "Berechnen Sie den Z-Wert für die Datei `berufserfahrung_vs_einladung.csv`.\n",
    "\n",
    "</div>"
   ]
  },
  {
   "cell_type": "code",
   "execution_count": 7,
   "id": "f2dfe747",
   "metadata": {},
   "outputs": [],
   "source": [
    "# Ihr Code hier..."
   ]
  },
  {
   "cell_type": "markdown",
   "id": "5f79188e",
   "metadata": {},
   "source": [
    "<div class=\"alert alert-success\">\n",
    "\n",
    "### Aufgabe 3\n",
    "\n",
    "Vergleichen Sie Ihre Z-Werte für Aufgaben 2 und 3. Was beobachten Sie?\n",
    "\n",
    "</div>"
   ]
  },
  {
   "cell_type": "markdown",
   "id": "d7096502",
   "metadata": {},
   "source": []
  },
  {
   "cell_type": "markdown",
   "id": "819dcfe4",
   "metadata": {},
   "source": [
    "<div class=\"alert alert-warning\">\n",
    "\n",
    "### Aufgabe 4 (Challenge)\n",
    "\n",
    "Berechnen Sie nun für beide Aufgaben den Korrelationskoeffizienten $r$ (s. Skript für Erklärungen). Was beobachten Sie?\n",
    "\n",
    "</div>"
   ]
  },
  {
   "cell_type": "markdown",
   "id": "8a9dc324",
   "metadata": {},
   "source": []
  },
  {
   "cell_type": "markdown",
   "id": "26e2fa98",
   "metadata": {},
   "source": []
  }
 ],
 "metadata": {
  "kernelspec": {
   "display_name": "Python 3",
   "language": "python",
   "name": "python3"
  },
  "language_info": {
   "codemirror_mode": {
    "name": "ipython",
    "version": 3
   },
   "file_extension": ".py",
   "mimetype": "text/x-python",
   "name": "python",
   "nbconvert_exporter": "python",
   "pygments_lexer": "ipython3",
   "version": "3.11.4"
  }
 },
 "nbformat": 4,
 "nbformat_minor": 5
}
