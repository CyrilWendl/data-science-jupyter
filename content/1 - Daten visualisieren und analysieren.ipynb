{
  "cells": [
    {
      "cell_type": "markdown",
      "id": "6b53a206-0d8c-4844-b71d-0f3a345c58c1",
      "metadata": {
        "tags": []
      },
      "source": [
        "# Data Science\n",
        "\n",
        "**Autor**: [Cyril Wendl](cyril.wendl@edu.zh.ch), Kantonsschule im Lee, Winterthur\n",
        "\n",
        "**Praktikums-Betreuung**: [Naoki Peter](naoki.peter@edu.zh.ch), Kantonsschule Zürich-Nord"
      ]
    },
    {
      "cell_type": "markdown",
      "id": "06822772",
      "metadata": {},
      "source": [
        "## Einführung\n",
        "\n",
        "Jeden Tag werden wir durch Algorithmen beeinflusst: Jedes Mal wenn wir uns auf Social Media einloggen, ein Video anschauen oder uns über ein Produkt informieren, werden Daten über uns gesammelt. Aufgrund unserer Interessen (Follows, Likes etc.) kann eine Firma beispielsweise herausfinden, welchen Influencern wir als nächstes folgen oder welchen Song wir als nächstes hören wollen. \n",
        "\n",
        "**Data Science** ist ein interdisziplinäres Gebiet, das sich mit der Extraktion von Wissen und Erkenntnissen aus Daten beschäftigt. Es verbindet Methoden aus der Statistik und Informatik mit eigenem Fachwissen, um Muster in Daten zu erkennen, Vorhersagen zu treffen und datengetriebene Entscheidungen zu ermöglichen.\n",
        " \n",
        "Im Rahmen dieser Unterrichtseinheiten werden wir uns mit den Grundlagen von Data Science beschäftigen. In der ersten Doppelstunde werden wir lernen, wie man Daten in Python einliest, analysiert und visualisiert (s. Lernziele untenan). "
      ]
    },
    {
      "cell_type": "markdown",
      "id": "ac5f2fa8",
      "metadata": {},
      "source": [
        "## Lernziele\n",
        "- [ ] Ich kann Daten aus gängigen Datenformaten (insbesondere `.csv`) in Python einlesen und analysieren.\n",
        "- [ ] Ich kann Datentypen ausgeben und verstehe die Unterschiede zwischen den Datentypen `int64`, `float64`, `object`und `bool`.\n",
        "- [ ] Ich kann einzelne Spalten mittels Befehlen der Library `pandas` auswählen und anzeigen.\n",
        "- [ ] Ich kann grundlegende Aggregationsfunktionen der Library `pandas` auf Tabellen und Spalten anwenden.\n",
        "- [ ] Ich kann mit `pandas` Daten filtern und spezifische Informationen extrahieren.\n",
        "- [ ] Ich kann mit `pandas` Ergebnisse auf unterschiedliche Weise visualisieren (Kuchen-, Balken-, Streudiagramm, Histogramme) und interpretieren."
      ]
    },
    {
      "cell_type": "markdown",
      "id": "e82578e3",
      "metadata": {},
      "source": [
        "## Datensätze\n",
        "\n",
        "<img src=\"https://balloon.tam.ch/share/afef44def727eebe2f47f6059473ab6d\" align=\"right\" alt=\"pandas\" width=\"200\" />\n",
        "\n",
        "**Pandas** ist ein Python-Paket für die Analyse und Bearbeitung von tabellarischen Daten. Der Name leitet sich von dem englischen Begriff *panel data* (Paneldaten) ab.\n",
        "\n",
        "In dieser Lernaufgabe lesen wir mit Hilfe von pandas zwei (bis optional drei) Datensätze ein. Laden Sie diese CSV-Dateien ebenfalls von Moodle herunter und speichern Sie diese in einem Unterordner `Data/`, im gleichen Verzeichnis wie diese Jupyter-Notebook-Datei.\n",
        "\n",
        "<div style=\"display: flex\">\n",
        "<div class=\"alert alert-box alert-info\" style=\"flex: 1; width: 33%\">\n",
        "    \n",
        "### Spotify (Datensatz für Beispiele)\n",
        "`spotify.csv` ist ein umfassender Datensatz der bekanntesten Songs des Jahres 2023, wie sie auf Spotify gelistet sind. Er liefert Einblicke in die Attribute, Popularität und Präsenz jedes Songs auf verschiedenen Musikplattformen. Der Datensatz enthält Informationen wie den Titel des Songs, den/die Künstlernamen, das Veröffentlichungsdatum, Spotify-Playlists und -Charts, Streaming-Statistiken, die Präsenz auf Apple Music, Deezer und Shazam-Charts sowie verschiedene Audioeigenschaften.\n",
        "\n",
        "![Spotify](https://upload.wikimedia.org/wikipedia/commons/2/26/Spotify_logo_with_text.svg)\n",
        "</div>\n",
        "<div class=\"alert alert-box alert-success\" style=\"flex: 1; width: 33%\">\n",
        "\n",
        "### Sleep Health (Datensatz für Aufgaben)\n",
        "\n",
        "`sleep.csv` ist ein Datensatz mit Informationen über Schlafgewohnheiten und Lebensstil. Der Datensatz umfasst 400 Zeilen und 13 Spalten und deckt eine Vielzahl von Variablen ab, die mit Schlaf und täglichen Gewohnheiten zusammenhängen. Er enthält Details wie Geschlecht, Alter, Beruf, Schlafdauer, Schlafqualität, körperliche Aktivität, Stresslevel, BMI-Kategorie, Blutdruck, Herzfrequenz, tägliche Schritte sowie das Vorhandensein oder Fehlen von Schlafstörungen.\n",
        "\n",
        "![Sleep](https://www.bchd.org/sites/default/files/Sleeping_1900x760.jpg)\n",
        "\n",
        "</div>\n",
        "<div class=\"alert alert-box alert-warning\" style=\"flex: 1; width: 33%\">\n",
        "\n",
        "### Gapminder (Datensatz für Zusatzaufgaben)\n",
        "`gapminder.csv` ist ein Datensatz, der Informationen über Länder und Kontinente im Zeitraum von 1998 bis 2018 enthält. Der Datensatz deckt eine Vielzahl von Variablen ab, die mit der menschlichen Entwicklung und der Umwelt zusammenhängen. Er enthält Details wie Land, Kontinent, Jahr, Lebenserwartung, HDI-Index, CO2-Verbrauch, BIP und den Anteil des Dienstleistungssektors.\n",
        "\n",
        "![Gapminder](https://upload.wikimedia.org/wikipedia/commons/thumb/4/4b/Gapminder-World-2015.pdf/page1-2479px-Gapminder-World-2015.pdf.jpg)\n",
        "</div>\n",
        "</div>"
      ]
    },
    {
      "cell_type": "markdown",
      "id": "114ae7b9-9bdd-4b48-b032-978d6fbc10c7",
      "metadata": {},
      "source": [
        "## Jupyter Notebook\n",
        "\n",
        "Dieses Aufgabenblatt ist ein *Jupyter Notebook*. Es besteht aus Zellen, die Python-Code enthalten, der mit der **Tastenkombination `Shift+Enter`** ausgeführt werden kann. \n",
        "\n",
        "Das Ergebnis der **letzten Zeile** einer Zelle wird immer unterhalb des Blocks angezeigt. Das Schreiben eines `print`-Befehls ist in Jupyter Notebook nicht nötig."
      ]
    },
    {
      "cell_type": "markdown",
      "id": "300a54d6-9900-4b60-ba13-7d040f510ecf",
      "metadata": {},
      "source": [
        "Führen Sie die folgende Zelle aus und beachten Sie, dass Python nur die Zahl '30' anzeigt."
      ]
    },
    {
      "cell_type": "code",
      "execution_count": null,
      "id": "87c5cf9b-3a0a-47c4-a34c-161252770bd1",
      "metadata": {
        "tags": [],
        "trusted": true
      },
      "outputs": [],
      "source": [
        "1+2\n",
        "10+20"
      ]
    },
    {
      "cell_type": "markdown",
      "id": "8ee75b09-5ce3-41b7-8e2d-d796c5bd1662",
      "metadata": {},
      "source": [
        "<div class=\"alert alert-box alert-success\">\n",
        "\n",
        "### Aufgabe 0\n",
        "\n",
        "Python kann multiplizieren, dividieren, und vieles Weiteres. Schreiben Sie in der nächsten Zelle eine **beliebige Division mit dem Ergebnis 5** und speichern Sie das Resultat in einer Variable x. Drucken Sie den Wert der Variable x mit `print`. Führen Sie die Zelle aus (`Shift + Enter`), um das Ergebnis zu sehen. \n",
        "\n",
        "</div>"
      ]
    },
    {
      "cell_type": "code",
      "execution_count": null,
      "id": "69f5ec2a-8be0-40d4-a7fb-01e7e5bd3b37",
      "metadata": {
        "tags": [],
        "trusted": true
      },
      "outputs": [],
      "source": [
        "# Hier Code eingeben"
      ]
    },
    {
      "cell_type": "markdown",
      "id": "888319c3-3ea7-4876-922f-8fa1f3706505",
      "metadata": {},
      "source": [
        "# Daten importieren und analysieren"
      ]
    },
    {
      "cell_type": "markdown",
      "id": "0fa2b1b0-dd9c-41bb-b36e-1e556be13d35",
      "metadata": {},
      "source": [
        "Als erstes importieren wir die Python-Bibliothek `pandas` und geben ihr zwecks kürzerer Schreibweise die Abkürzung `pd`. Führen Sie die nächste Zeile aus (ein einziges Mal Ausführen reicht, auch wenn wir 2 Datensätze damit analysieren werden)."
      ]
    },
    {
      "cell_type": "code",
      "execution_count": null,
      "id": "a6d18d94-a938-4ba1-9b49-d4ebe507d44a",
      "metadata": {
        "tags": [],
        "trusted": true
      },
      "outputs": [],
      "source": [
        "import pandas as pd"
      ]
    },
    {
      "cell_type": "markdown",
      "id": "e853f45f-1f38-4766-85f3-548dedd96b8a",
      "metadata": {},
      "source": [
        "## Daten einlesen\n",
        "\n",
        "Als nächstes lesen wir die Daten ein. Dazu lesen wir mit `pandas` die Inhalte von `spotify.csv` aus und weisen sie der Variablen `spotify` zu. Mit `head()` geben wir danach die ersten fünf Zeilen der Tabelle aus. "
      ]
    },
    {
      "cell_type": "code",
      "execution_count": null,
      "id": "16161fea-d806-457e-aa87-acda060b9ed6",
      "metadata": {
        "tags": []
      },
      "outputs": [],
      "source": [
        "spotify = pd.read_csv('Data/spotify.csv')\n",
        "spotify.head()"
      ]
    },
    {
      "cell_type": "markdown",
      "id": "6445bba4-8254-4559-8e0b-8246430a72fe",
      "metadata": {},
      "source": [
        "Der Rückgabewert von `read_csv` ist ein sogenanntes `DataFrame`-Objekt, was in pandas einer Tabelle entspricht. Dies lässt sich mit dem Python-Befehl `type()` ermitteln."
      ]
    },
    {
      "cell_type": "code",
      "execution_count": null,
      "id": "ae46444a-d7af-4620-b643-a84138c29a53",
      "metadata": {
        "tags": []
      },
      "outputs": [],
      "source": [
        "print(type(1))       # Ganze Zahlen haben den Typ int (für integer)\n",
        "print(type(\"Hello\")) # Texte haben den Typ str (für string)\n",
        "print(type(spotify))    # Tabellen haben in pandas den Typ DataFrame"
      ]
    },
    {
      "cell_type": "markdown",
      "id": "557ee695-307a-4ecf-a71e-09afd75375d4",
      "metadata": {},
      "source": [
        "<div class=\"alert alert-box alert-success\">\n",
        "\n",
        "### Aufgabe 1\n",
        "\n",
        "Lies die Datei `sleep.csv` ein und erstelle ein Dataframe mit dem Namen `sleep`. Zeige die ersten paar Zeilen dieses Datensatzes aus.    \n",
        "</div>"
      ]
    },
    {
      "cell_type": "code",
      "execution_count": null,
      "id": "4bd443fc-00ea-4992-a7fa-3d3fff8f40cd",
      "metadata": {
        "tags": [],
        "trusted": true
      },
      "outputs": [],
      "source": [
        "# Hier Code eingeben\n",
        "sleep = pd.read_csv(\"Data/sleep.csv\")\n",
        "sleep.head()"
      ]
    },
    {
      "cell_type": "markdown",
      "id": "4ced3418-e385-4efe-bfca-4f1ed9ea91e9",
      "metadata": {},
      "source": [
        "## Datentypen der Spalten herausfinden\n",
        "\n",
        "In Datensätzen für Data Science enthalten die Spalten in der Regel Werte desselben Datentyps (also z.B. nur ganze Zahlen oder nur Texte). Es kann aber vorkommen, dass eine Spalte verschiedene Datentypen enthält (z.B. Zahlen und Texte). Bevor man mit der Analyse der Daten loslegt, sollte man deshlab die Datentypen der Spalten überprüfen.\n",
        "\n",
        "<div class=\"alert alert-box alert-info\">\n",
        "    \n",
        "Was für **Datentypen** sind in `spotify` enthalten? Das kann man mit dem `dtypes` herausfinden. Dabei gilt:\n",
        "* `int64` = Ganze Zahlen mit 64 Bit\n",
        "* `float64` = Kommazahlen mit 64 Bit\n",
        "* `bool` = Wahrheitswerte (`True` und `False`)\n",
        "* `object` = alles andere, hier Zeichenketten (=Texte)\n",
        "  \n",
        "</div>"
      ]
    },
    {
      "cell_type": "code",
      "execution_count": null,
      "id": "bd76b234-ff7b-400c-86b6-9c88793f95c5",
      "metadata": {
        "tags": []
      },
      "outputs": [],
      "source": [
        "spotify.dtypes"
      ]
    },
    {
      "cell_type": "markdown",
      "id": "ad794128-a999-4b99-896f-4514a5ecb371",
      "metadata": {},
      "source": [
        "<div class=\"alert alert-box alert-success\">\n",
        "\n",
        "### Aufgabe 2\n",
        "**a)** Finden Sie heraus, was die Datentypen im  Datensatz `sleep` sind.\n",
        "</div>"
      ]
    },
    {
      "cell_type": "code",
      "execution_count": null,
      "id": "049e65de-6ddb-4179-a825-036b226cd40f",
      "metadata": {
        "tags": []
      },
      "outputs": [],
      "source": [
        "# Hier Code eingeben"
      ]
    },
    {
      "cell_type": "markdown",
      "id": "f1e933c5-18d0-464a-9c5b-33c43f7513b0",
      "metadata": {},
      "source": [
        "<div class=\"alert alert-box alert-success\">\n",
        "    \n",
        "**b)** Erklären Sie, weshalb  `Age` den gezeigten Datentyp hat. Wie ist diese Zahl zu interpretieren? Schreiben Sie Ihre Antwort in der nächsten Zelle.\n",
        "\n",
        "</div>"
      ]
    },
    {
      "cell_type": "markdown",
      "id": "4776106d-0a2b-487d-803c-fead768d7cda",
      "metadata": {},
      "source": [
        "   \n",
        "**Antwort**: ..."
      ]
    },
    {
      "cell_type": "markdown",
      "id": "ff59b5f2-d976-462d-a7d2-a608e69de9f2",
      "metadata": {},
      "source": [
        "## Einzelne Spalten auswählen\n",
        "\n",
        "`DataFrame`s sind ein spezielles Python-Objekt, welches sich in mehreren Hinsichten von Listen unterscheidet. Eine wichtige Eigenschaft von `DataFrame`s sind die eckigen Klammern `[]`, womit (unter anderem) einzelne oder mehrere Spalten selektiert werden können.\n",
        "\n",
        "<div class=\"alert alert-box alert-info\">\n",
        "\n",
        "**Spalten selektieren in `pandas`**\n",
        "    \n",
        "Mit dem Suffix `df[\"Spaltennamen\"]` kann man eine bestimmte Spalte eines `Dataframe`s `df` auswählen und mit `=` einer Variable zuweisen.\n",
        "</div>"
      ]
    },
    {
      "cell_type": "code",
      "execution_count": null,
      "id": "0c502c98-42b7-4f3c-b5ca-262f06cae765",
      "metadata": {
        "tags": []
      },
      "outputs": [],
      "source": [
        "# Beispiel\n",
        "mode = spotify[\"mode\"]\n",
        "mode"
      ]
    },
    {
      "cell_type": "markdown",
      "id": "de3fc568-b9e9-46ec-a27b-05fb587f0f5c",
      "metadata": {},
      "source": [
        "Tabellenspalten werden in pandas `Series` genannt. Dies lässt sich mit Hilfe `type()`-Befehls einsehen."
      ]
    },
    {
      "cell_type": "code",
      "execution_count": null,
      "id": "9b6cd0be-eb2a-41af-bf57-967e94e5ebd5",
      "metadata": {
        "tags": []
      },
      "outputs": [],
      "source": [
        "type(mode)"
      ]
    },
    {
      "cell_type": "markdown",
      "id": "6c150f07-939c-467e-882b-04c880318902",
      "metadata": {},
      "source": [
        "<div class=\"alert alert-box alert-success\">\n",
        "\n",
        "### Aufgabe 3\n",
        "    \n",
        "Lesen Sie im `sleep`-Datensatz die Spalte `Heart Rate` aus und weisen Sie diese der Variable `hr` zu. Überprüfen Sie anschliessend den Datentyp der Variable.\n",
        "</div>"
      ]
    },
    {
      "cell_type": "code",
      "execution_count": null,
      "id": "db3496f0-72b4-49ee-a04d-0fd6fcacd836",
      "metadata": {
        "tags": []
      },
      "outputs": [],
      "source": [
        "# Hier Code eingeben"
      ]
    },
    {
      "cell_type": "markdown",
      "id": "cac6a01d-cfd0-4dc5-9d17-ab174ed5e70c",
      "metadata": {},
      "source": [
        "## Aggregationsfunktionen\n",
        "\n",
        "In pandas lassen sich auf `Series`-Objekte diverse Aggregationsfunktionen aufrufen. Diese werden über einen Punkt direkt an die Variable angehägt.\n",
        "\n",
        "* `.sum()`: Summe der Werte in der Spalte\n",
        "* `.count()`: Anzahl Werte in der Spalte\n",
        "* `.max()`: Grösster Wert in der Spalte\n",
        "* `.min()`: Kleinster Wert in der Spalte\n",
        "* `.mean()`: Mittelwert (Durchschnitt) der Werte in der Spalte\n",
        "* `.std()`: Standardabweichung der Werte in der Spalte\n",
        "* `.unique()`: Alle verschiedenen Werte in der Spalte (ohne Duplikate)\n",
        "* `.value_counts()`: Alle verschiedenen Werte in der Spalte und ihre Anzahl. Der Rückgabewert ist wiederum ein `Series`-Objekt.\n",
        "\n",
        "Mit `weekdays.unique()` lassen sich z.B. die verschiedenen Werte im `Series`-Objekt `weekdays` auslesen (ohne Duplikate).\n",
        "\n",
        "Solche Funktionen, welche *nach* einem Objekt (z.B. `DataFrame`-Objekt) stehen, werden in Python **Methoden** genannt. Der erste Parameter der Methode ist dabei jeweils das vorausgehende Python-Objekt."
      ]
    },
    {
      "cell_type": "code",
      "execution_count": null,
      "id": "07fd7272-3799-46d4-8828-662c657ce115",
      "metadata": {
        "tags": []
      },
      "outputs": [],
      "source": [
        "mode.unique()"
      ]
    },
    {
      "cell_type": "markdown",
      "id": "f9df392a-df74-4d0e-9c53-e7cb8a03a65d",
      "metadata": {},
      "source": [
        "Welcher der beiden Werte \"Major\" (Dur) oder \"Minor\" (Moll) kommt häufiger vor? Dies können wir mit der funktion `.value_counts()` herausfinden:"
      ]
    },
    {
      "cell_type": "code",
      "execution_count": null,
      "id": "5af445f2-4a59-418d-b442-852f33aeb4d4",
      "metadata": {
        "tags": []
      },
      "outputs": [],
      "source": [
        "mode.value_counts()"
      ]
    },
    {
      "cell_type": "markdown",
      "id": "6f97d575",
      "metadata": {},
      "source": [
        "Wir sehen im Resultat auch, dass \"Major\" (Dur) der häufigere Wert ist, mit 549 Vorkommnissen."
      ]
    },
    {
      "cell_type": "markdown",
      "id": "4513a7b6-b036-4f54-a3d8-34b7b820a4c4",
      "metadata": {},
      "source": [
        "Man muss nicht jedes Mal die ausgewählte Serie in eine Variable speichern. Die Erstellung einer Variable gibt in erster Linie dann Sinn, wenn man die Absicht hat, später mit dieser Serie weiterzuarbeiten. Ist dies nicht der Fall, kann der Wert direkt ausgegeben werden, ohne ihn vorher abzuspeichern."
      ]
    },
    {
      "cell_type": "code",
      "execution_count": null,
      "id": "e74cca6c-c5c6-4267-8de8-0de37cbb7a3b",
      "metadata": {
        "tags": []
      },
      "outputs": [],
      "source": [
        "# meistgestreamter Song in Millionen\n",
        "spotify[\"streams\"].max() / 1e6"
      ]
    },
    {
      "cell_type": "markdown",
      "id": "41b6970d-260c-4c21-a814-dba7f3460083",
      "metadata": {},
      "source": [
        "<div class=\"alert alert-box alert-success\">\n",
        "\n",
        "### Aufgabe 4\n",
        "\n",
        "Verwenden Sie für jede Teilaufgabe eine eigene Zelle.\n",
        "    \n",
        "**a)** Wählen Sie alle Berufe (`Occupation`) aus und speichern Sie diese Serie in einer neuen Variable `occ`. Vergewissern Sie sich, dass der Datentyp eine pandas-Series ist.\n",
        "\n",
        "**b)** Finden Sie heraus, was die unterschiedlichen Werte sind. (Hinweis: `NaN` bedeutet \"kein Wert\")\n",
        "    \n",
        "**c)** Finden Sie heraus, welcher Beruf am häufigsten vorkommt.\n",
        "\n",
        "</div>"
      ]
    },
    {
      "cell_type": "code",
      "execution_count": null,
      "id": "31684b17",
      "metadata": {},
      "outputs": [],
      "source": [
        "# Hier Code eingeben"
      ]
    },
    {
      "cell_type": "code",
      "execution_count": null,
      "id": "dceafe7e-642c-4477-bac9-6e6b4c419887",
      "metadata": {},
      "outputs": [],
      "source": [
        "# Hier Code eingeben"
      ]
    },
    {
      "cell_type": "code",
      "execution_count": null,
      "id": "8cc02bb0",
      "metadata": {},
      "outputs": [],
      "source": [
        "# Hier Code eingeben"
      ]
    },
    {
      "cell_type": "markdown",
      "id": "2346462a-fc7e-4125-b76a-350ea0d16ffd",
      "metadata": {},
      "source": [
        "<div class=\"alert alert-box alert-success\">\n",
        "\n",
        "### Aufgabe 5\n",
        "\n",
        "Verwende für jede Teilaufgabe eine eigene Zelle.\n",
        "    \n",
        "**a)** Wie kurz war die kürzeste Schlafdauer aller Personen?\n",
        "    \n",
        "**b)** Wurden mehr Männer oder Frauen befragt?\n",
        "    \n",
        "**c)** Wie lange schlafen LehrerInnen im Schnitt?\n",
        "    \n",
        "**d)** Wie lange haben alle Personen im Datensatz insgesamt geschlafen? Teilen Sie Ihr Resultat durch `24`, um das Resultat in Tagen zu erhalten.\n",
        "\n",
        "</div>"
      ]
    },
    {
      "cell_type": "code",
      "execution_count": null,
      "id": "f3fef1c6-2a83-4352-a218-e846d534e925",
      "metadata": {
        "tags": []
      },
      "outputs": [],
      "source": [
        "# Hier Code eingeben"
      ]
    },
    {
      "cell_type": "code",
      "execution_count": null,
      "id": "48c24b65-7107-4b95-a05e-b4227eb49758",
      "metadata": {},
      "outputs": [],
      "source": [
        "# Hier Code eingeben"
      ]
    },
    {
      "cell_type": "code",
      "execution_count": null,
      "id": "9e564315-3038-46a4-a159-f8d0ca9d49c5",
      "metadata": {},
      "outputs": [],
      "source": [
        "# Hier Code eingeben"
      ]
    },
    {
      "cell_type": "code",
      "execution_count": null,
      "id": "935d2687-923a-43b2-a156-cef6b4decddc",
      "metadata": {
        "trusted": true
      },
      "outputs": [],
      "source": [
        "# Hier Code eingeben"
      ]
    },
    {
      "cell_type": "markdown",
      "id": "4c2046ad-7791-4420-872c-0d51bebfc6d5",
      "metadata": {},
      "source": [
        "## Daten filtern\n",
        "\n",
        "Auch mit Hilfe von `pandas` lassen sich Datensätze *filtern*. Im Folgenden filtern wir nach allen Zeilen, welche in der Spalte `sex` den Wert `Female` stehen haben. Das geht in zwei Schritten:"
      ]
    },
    {
      "cell_type": "markdown",
      "id": "10534853-0604-46d7-adb2-a2e71d352a56",
      "metadata": {},
      "source": [
        "<div class=\"alert alert-box alert-info\">\n",
        "    \n",
        "**Schritt 1:** Wenn man für eine ausgewählte Spalte eine *Bedingung* angibt, wird diese *für jede Zeile* ausgewertet. Das Ergebnis ist ein `Series`-Objekt mit den Werten `True` (Bedingung ist wahr) oder `False` (Bedingung ist falsch).\n",
        "</div>"
      ]
    },
    {
      "cell_type": "code",
      "execution_count": null,
      "id": "4d39cfaa-6c20-49b5-809a-c13b28efede9",
      "metadata": {
        "tags": []
      },
      "outputs": [],
      "source": [
        "# filter, um alle im März veröffentlichten Songs zu finden\n",
        "spotify[\"released_month\"] == 3"
      ]
    },
    {
      "cell_type": "markdown",
      "id": "19198a7f-22f4-4cad-a32a-1f2465a5dc36",
      "metadata": {},
      "source": [
        "<div class=\"alert alert-box alert-info\">\n",
        "\n",
        "**Schritt 2**: Den Ausdruck aus Schritt 1 kann man nun innerhalb von `DataFrame`-Selektionsklammern `[]` verwenden, um pandas mitzuteilen, welche Zeilen wir dabei haben wollen und welche nicht: nur Zeilen mit einem `True` bleiben erhalten.\n",
        "</div>"
      ]
    },
    {
      "cell_type": "code",
      "execution_count": null,
      "id": "e0d6f1da-478c-4088-b2f3-e97783e5a027",
      "metadata": {
        "tags": []
      },
      "outputs": [],
      "source": [
        "spotify[spotify[\"released_month\"] == 3]"
      ]
    },
    {
      "cell_type": "markdown",
      "id": "d6c296f9-15ae-4f69-9eaa-b0d8662c6393",
      "metadata": {},
      "source": [
        "Das Ergebnis ist wiederum ein neues Dataframe, mit dem man wie üblich arbeiten kann. Man kann z.B. herausfinden, wieviele Streams der beliebteste Song von Taylor Swift erzielt hat (in Millionen)."
      ]
    },
    {
      "cell_type": "code",
      "execution_count": null,
      "id": "a5db4bb5",
      "metadata": {},
      "outputs": [],
      "source": [
        "taylor = spotify[spotify[\"artist(s)_name\"]==\"Taylor Swift\"]\n",
        "taylor[\"streams\"].max() / 1e6"
      ]
    },
    {
      "cell_type": "markdown",
      "id": "8037e272-0205-4a44-808b-d622d5d149d5",
      "metadata": {},
      "source": [
        "<div class=\"alert alert-box alert-success\">\n",
        "\n",
        "### Aufgabe 6\n",
        "**a)** Zeige die gesamte(n) Zeile(n) an, für die Person(en), die in Aufgabe 5.a) am wenigsten geschlafen hat / haben.\n",
        "\n",
        "**b)** Wieviele normalgewichtige Personen (d.h. `BMI Category` hat den Wert `Normal`) haben die Umfrage ausgefüllt? Mit dem Befehl `.shape[0]` kann die Anzahl Zeilen in einer Tabelle ermittelt werden.\n",
        "    \n",
        "**c)** Was ist die durchschnittliche Herzfrequenz aller TeilnehmerInnen, die weniger als 6 Stunden geschlafen haben?\n",
        "    \n",
        "**d)** Wie viele weibliche Anwältinnen (`Occupation` hat den Wert `Lawyer`) gibt es?\n",
        "\n",
        "</div>"
      ]
    },
    {
      "cell_type": "code",
      "execution_count": null,
      "id": "2bc5265d-587a-4d7d-8ffd-0043f57b0bb1",
      "metadata": {
        "tags": [],
        "trusted": true
      },
      "outputs": [],
      "source": [
        "# Hier Code eingeben"
      ]
    },
    {
      "cell_type": "code",
      "execution_count": null,
      "id": "b6865939-2a48-4582-88ca-c2a28be40b6f",
      "metadata": {
        "tags": [],
        "trusted": true
      },
      "outputs": [],
      "source": [
        "# Hier Code eingeben"
      ]
    },
    {
      "cell_type": "code",
      "execution_count": null,
      "id": "e89b32aa",
      "metadata": {},
      "outputs": [],
      "source": [
        "# Hier Code eingeben"
      ]
    },
    {
      "cell_type": "code",
      "execution_count": null,
      "id": "266a7d91-411f-444c-991d-9a01c8c9e4ae",
      "metadata": {
        "tags": [],
        "trusted": true
      },
      "outputs": [],
      "source": [
        "# Hier Code eingeben"
      ]
    },
    {
      "cell_type": "markdown",
      "id": "b316d5dd-b8eb-4bbf-87d4-0b508a43a376",
      "metadata": {},
      "source": [
        "# Daten visualisieren\n",
        "\n",
        "Als nächstes lernen wir, wie man mit Hilfe von Python Diagramme erstellt. Dazu müssen wir zusätzlich die Library `matplotlib` laden, um Diagramme zu erstellen."
      ]
    },
    {
      "cell_type": "code",
      "execution_count": null,
      "id": "fad80844-3888-4c63-8b62-953598836654",
      "metadata": {
        "tags": []
      },
      "outputs": [],
      "source": [
        "import matplotlib.pyplot as plt"
      ]
    },
    {
      "cell_type": "markdown",
      "id": "3ad7947e",
      "metadata": {},
      "source": [
        "Falls Sie hier einen Fehler haben, tippen Sie `pip install matplotlib` in das Terminal-Fenster untenan."
      ]
    },
    {
      "cell_type": "markdown",
      "id": "6f79f85b-8ede-4629-bee9-bed6b45d3257",
      "metadata": {},
      "source": [
        "## Diagramme erstellen\n",
        "\n",
        "Nun sind wir soweit, dass wir mit Hilfe von pandas Diagramme (engl. *plots*) erstellen können.\n",
        "\n",
        "Als erstes wollen wir schauen, welche Tonart im Datensatz `spotify` am häufigsten vorkommt. Graphisch lässt sich das beispielsweise mit einem Kuchendiagramm (en. *pie chart*) gut veranschaulichen.\n",
        "\n",
        "In der Zelle unten entnehmen wir zunächst dem `spotify`-Datensatz die Spalte `Key` und rufen darauf `.value_counts()` auf. So bekommen wir Häufigkeit aller Tonarten in dieser Spalte."
      ]
    },
    {
      "cell_type": "code",
      "execution_count": null,
      "id": "9ef0413e-8a32-4f3b-995a-c8bacf9c3846",
      "metadata": {
        "tags": []
      },
      "outputs": [],
      "source": [
        "keys = spotify[\"key\"].value_counts()\n",
        "keys # keys in die Ausgabe schreiben"
      ]
    },
    {
      "cell_type": "markdown",
      "id": "a7de7b85-05c0-4a67-8ceb-cd20adb993e3",
      "metadata": {},
      "source": [
        "Anschliessend visualisieren wir dieses `DataFrame` mit `.plot.pie()`."
      ]
    },
    {
      "cell_type": "code",
      "execution_count": null,
      "id": "9d8bebff-033e-49e1-ae00-ce490968bc8c",
      "metadata": {
        "tags": []
      },
      "outputs": [],
      "source": [
        "keys.plot.pie()"
      ]
    },
    {
      "cell_type": "markdown",
      "id": "416bb125-9601-449c-bbf1-53817384b896",
      "metadata": {},
      "source": [
        "<div class=\"alert alert-box alert-success\">\n",
        "\n",
        "### Aufgabe 7\n",
        "\n",
        "**a)** Erstelle ein Kuchendiagramm für die BMI-Kategorien\n",
        "    \n",
        "**b)** Probiere aus, was passiert, wenn Du statt `.pie()` den Befehl `.bar()` verwendest.\n",
        "</div>"
      ]
    },
    {
      "cell_type": "code",
      "execution_count": null,
      "id": "23c509a5-cd27-4629-897f-644bbc478638",
      "metadata": {},
      "outputs": [],
      "source": [
        "# Hier Code eingeben"
      ]
    },
    {
      "cell_type": "code",
      "execution_count": null,
      "id": "6a08e2f5-b72f-4c2c-9515-6d241d35feef",
      "metadata": {
        "tags": []
      },
      "outputs": [],
      "source": [
        "# Hier Code eingeben"
      ]
    },
    {
      "cell_type": "markdown",
      "id": "4bf8461d-eecb-41f0-8532-65ac43ae3b63",
      "metadata": {},
      "source": [
        "<div class=\"alert alert-box alert-info\">\n",
        "\n",
        "Durch Visualisierungen kann man oft sehr einfach Tendenzen in den Daten feststellen. Zum Beispiel liegt die Vermutung nahe, dass extrem schnelle oder extrem langsame Songs weniger häufig gestreamt werden als mittel-schnelle Songs. Stimmt das aber wirklich?\n",
        "\n",
        "Um diese Frage zu beantworten, zeichnen wir jede Reihe in unserem Datensatz als einen Punkt in ein zweidimensionalen Koordinatensystem ein. Die $x$-Achse enstpricht dem Veröffentlichungsjahr (`released_year`) und die $y$-Achse der Anzahl Stremas (`streams`). Ein solches Diagramm nennt man **Streudiagramm** (engl. *scatter plot*).\n",
        "</div>"
      ]
    },
    {
      "cell_type": "code",
      "execution_count": null,
      "id": "3cfe283e",
      "metadata": {},
      "outputs": [],
      "source": [
        "spotify.plot.scatter(x=\"bpm\", y=\"streams\")"
      ]
    },
    {
      "cell_type": "markdown",
      "id": "e062fe59-c023-43e8-8041-5f7eb89bfd16",
      "metadata": {},
      "source": [
        "Das Streudiagramm bestätigt die Vermutung, dass sehr schnelle oder sehr langsame Songs ewniger häufig gestreamt werden. Allerdings scheint es auch eine zweite Anhäufung von Streams bei ca. 180 bpm zu geben."
      ]
    },
    {
      "cell_type": "markdown",
      "id": "283fa922-011a-4977-940e-8cd203b96d93",
      "metadata": {},
      "source": [
        "<div class=\"alert alert-box alert-success\">\n",
        "\n",
        "### Aufgabe 8\n",
        "    \n",
        "Schlafen Menschen, die jeden Tag viele Schritte gehen, länger als solche, die weniger Schritte machen? Lässt sich ein Trend feststellen?\n",
        "\n",
        "</div>"
      ]
    },
    {
      "cell_type": "code",
      "execution_count": null,
      "id": "e27976d3",
      "metadata": {},
      "outputs": [],
      "source": [
        "# Hier Code eingeben"
      ]
    },
    {
      "cell_type": "markdown",
      "id": "8b6cb902-0885-4ae3-8474-b25a02f511a2",
      "metadata": {},
      "source": [
        "**Antwort**: Mehr Schritte scheinen zu längerem Schlaf beizutragen-"
      ]
    },
    {
      "cell_type": "markdown",
      "id": "c31aad6b-5f40-4600-abde-d7fd5aab9f85",
      "metadata": {},
      "source": [
        "<div class=\"alert alert-box alert-info\">\n",
        "\n",
        "Unter den Attributen mit Textwerten gibt es einige, die nur wenige, vordefinierte Werte annehmen können. Ein Beispiel dafür ist das Attribut `Major` im Dataframe `spotify`, das nur die Werte `Major` (Dur, eher fröhlich) und `Minor` (Moll, eher melancholisch) annehmen kann. Solche Daten werden **kategoriale Daten** genannt.\n",
        "\n",
        "Pandas kann die Punkte in einem Streudiagramm anhand der Werte von kategorialen Daten unterschiedlich einfärben. Dazu muss man dem Dataframe zuerst eine neue hinzufügen mit dem datentyp `category`. Anschliessend kann man diese neue Spalte beim erstellen des scatter plots für den Parameter `c` (für `category`) angeben.\n",
        "\n",
        "Wir benutzen diese Technik um herauszufinden, ob Dur- oder Moll-Songs beliebter sind.\n",
        "</div>"
      ]
    },
    {
      "cell_type": "code",
      "execution_count": null,
      "id": "4fa04b87-d693-4558-b6bf-bfae73c40f1e",
      "metadata": {
        "tags": []
      },
      "outputs": [],
      "source": [
        "spotify[\"mode\"] = spotify[\"mode\"].astype(\"category\")\n",
        "spotify.plot.scatter(x=\"bpm\", y=\"streams\", c=\"mode\", colormap=\"viridis\")"
      ]
    },
    {
      "cell_type": "markdown",
      "id": "99e229bc-38ac-4b6e-a961-9db6a8f59a08",
      "metadata": {},
      "source": [
        "Durch die Färbung der Punkte kann man erkennen, dass es keine Tendenz gibt, ob Dur- oder Moll-Songs mehr gestreamt werden."
      ]
    },
    {
      "cell_type": "markdown",
      "id": "7730fae6-a499-4f2c-a1c8-f6b4a2fda5f8",
      "metadata": {},
      "source": [
        "<div class=\"alert alert-box alert-success\">\n",
        "\n",
        "### Aufgabe 9\n",
        "    \n",
        "**a)** Schlafen Personen mit einem höheren Stresslevel tendenziell weniger? Gibt es einen Unterschied zwischen Männern und Frauen? Erstelle ein Streudiagramm, bei dem die $x$-Achse den Stresslevel und die $y$-Achse die Schlafdauer darstellt, die Farbe stellt das Geschlecht dar.\n",
        "    \n",
        "**b)** Was passiert, wenn Du den Wert von `colormap` änderst? Probiere verschiedene Werte wie `viridis`, `plasma`, `coolwarm` oder `cividis` aus.\n",
        "\n",
        "</div>"
      ]
    },
    {
      "cell_type": "code",
      "execution_count": null,
      "id": "4f212af2",
      "metadata": {},
      "outputs": [],
      "source": [
        "# Hier Code eingeben"
      ]
    },
    {
      "cell_type": "markdown",
      "id": "aa05dfd0",
      "metadata": {},
      "source": [
        "**Antwort**: ..."
      ]
    },
    {
      "cell_type": "code",
      "execution_count": null,
      "id": "2cdcb357-5946-48ec-8999-3c53655fdce9",
      "metadata": {
        "tags": []
      },
      "outputs": [],
      "source": [
        "# Hier Code eingeben"
      ]
    },
    {
      "cell_type": "markdown",
      "id": "9eb9763c-48b7-4ad9-94d3-f5ae92e4927a",
      "metadata": {},
      "source": [
        "**Antwort**: ..."
      ]
    },
    {
      "cell_type": "markdown",
      "id": "55ee43a0-2cb4-4648-8218-21a5493742be",
      "metadata": {},
      "source": [
        "## Histogramme erstellen\n",
        "\n",
        "Für manche Analysen sind die *genauen* Werte nicht so relevant. Es genügt eine grobe Einteilung, z.B. `kleine` / `mittlere` / `grosse` Werte. Das lässt sich mit einem **Histogramm** veranschaulichen. Dabei muss man angeben, in wieviele Grössenordnungen wir die Werte einteilen wollen.\n",
        "\n",
        "Wir visualisieren eine Einteilung des Trinkgelds in **5 Grössenordnungen** mit einem Histogramm."
      ]
    },
    {
      "cell_type": "code",
      "execution_count": null,
      "id": "be3586e9-5d73-4ff0-9c5d-2dfe21b66d35",
      "metadata": {
        "tags": []
      },
      "outputs": [],
      "source": [
        "spotify[\"bpm\"].plot.hist(bins=5)"
      ]
    },
    {
      "cell_type": "markdown",
      "id": "5cd80360-98ab-4a9b-b8ce-62bf338f66ea",
      "metadata": {},
      "source": [
        "Dabei sehen wir, dass die meisten Songs eine Geschwindigkeit von ca. 100-140 Schläge pro Minuten haben.\n",
        "\n",
        "Will man das genauer wissen, kann man die Einteilung feiner machen, indem man **20 Grössenordnungen** zulässt."
      ]
    },
    {
      "cell_type": "code",
      "execution_count": null,
      "id": "8c1867f9-d4bb-4948-a9bd-4004d8a5ed92",
      "metadata": {
        "tags": []
      },
      "outputs": [],
      "source": [
        "spotify[\"bpm\"].plot.hist(bins=20)"
      ]
    },
    {
      "cell_type": "markdown",
      "id": "e15d941a-1e68-40ce-9d9c-9bf14986b0b2",
      "metadata": {},
      "source": [
        "In dieser feineren Einteilung sieht man, dass es viele Songs um ca. 90 bpm oder 120 bpm gibt, und wenig dazwischen (melancholisch vs fröhliche Songs?)!"
      ]
    },
    {
      "cell_type": "markdown",
      "id": "3e83cc43-4ceb-4f23-949a-4c1f4ca2f890",
      "metadata": {},
      "source": [
        "<div class=\"alert alert-box alert-success\">\n",
        "\n",
        "### Aufgabe 10\n",
        "    \n",
        "**a)** Wie lange schlafen Männer? Erstellen Sie ein Histogramm mit **5 Grössenordnungen**.\n",
        "\n",
        "**b)** Wiederholen Sie die Abfrage für Frauen, diesmal mit **20 Grössenordnungen**.\n",
        "</div>"
      ]
    },
    {
      "cell_type": "code",
      "execution_count": null,
      "id": "b7a514f7-2bdc-4db0-8c95-25979d3c6ed3",
      "metadata": {
        "trusted": true
      },
      "outputs": [],
      "source": [
        "# Hier Code eingeben"
      ]
    },
    {
      "cell_type": "code",
      "execution_count": null,
      "id": "084b52c5-586a-4073-bd77-19da7ea1bdd4",
      "metadata": {
        "trusted": true
      },
      "outputs": [],
      "source": [
        "# Hier Code eingeben"
      ]
    },
    {
      "cell_type": "markdown",
      "id": "dc9a16e3-e98e-4186-9b14-cb9210a19b79",
      "metadata": {},
      "source": [
        "<div class=\"alert alert-box alert-success\">\n",
        "\n",
        "### Aufgabe 11\n",
        "    \n",
        "Mit `spotify.groupby(\"released_year\")[\"track_name\"].count()` kann man, ähnlich wie bei SQL, die Daten nach einem Attribut gruppieren, und pro Gruppe die Einträge zählen.\n",
        "\n",
        "**a)** Erstellen Sie mit `.plot.line()` ein **Liniendiagramm** der Anzahl Songs, die pro Jahr publiziert wurden.\n",
        "\n",
        "**b)** Wiederholen Sie diese Visualisierung, aber eingeschränkt auf Songs, die **nach 2008** publiziert wurden. Wie erklären Sie sich den deutlichen \"Knick\" welcher in diesem Liniendiagramm zu erkennen ist?\n",
        "</div>"
      ]
    },
    {
      "cell_type": "code",
      "execution_count": null,
      "id": "da5a1b00-40e0-4dc1-a5b9-3cdccd279768",
      "metadata": {
        "tags": []
      },
      "outputs": [],
      "source": [
        "# Hier Code eingeben"
      ]
    },
    {
      "cell_type": "code",
      "execution_count": null,
      "id": "7bcbc533-443a-4fae-ba91-5f3c6228e688",
      "metadata": {
        "tags": []
      },
      "outputs": [],
      "source": [
        "# Hier Code eingeben"
      ]
    },
    {
      "cell_type": "markdown",
      "id": "d3ea07ee-cb17-42d2-b9e4-074d057b92ee",
      "metadata": {},
      "source": [
        "**Antwort**: Vermutlich wurden die Daten nicht bis zum Ende des Jahres 2023 gesammelt."
      ]
    },
    {
      "cell_type": "markdown",
      "id": "1a0c7e86",
      "metadata": {},
      "source": [
        "# Challenge-Aufgaben"
      ]
    },
    {
      "cell_type": "markdown",
      "id": "769054b3",
      "metadata": {},
      "source": [
        "In den Challenge-Aufgaben arbeiten wir mit dem Datensatz `gapminder.csv`, der Informationen über die Lebenserwartung und das Bruttoinlandsprodukt (BIP) von verschiedenen Ländern enthält.\n",
        "\n",
        "| Spalte         | Beschreibung                                                                                     |\n",
        "|-----------------|-------------------------------------------------------------------------------------------------|\n",
        "| `country`      | Name des Landes.                                                                                |\n",
        "| `continent`    | Kontinent, zu dem das Land gehört.                                                              |\n",
        "| `year`         | Jahr der Datenerhebung.                                                                         |\n",
        "| `life_exp`     | Lebenserwartung in Jahren.                                                                      |\n",
        "| `hdi_index`    | Index der menschlichen Entwicklung (HDI), ein Mass für den Entwicklungsstand eines Landes.       |\n",
        "| `co2_consump`  | CO2-Verbrauch pro Kopf in Tonnen.                                                               |\n",
        "| `gdp`          | Bruttoinlandsprodukt (BIP) pro Kopf in US-Dollar, ein Mass für die wirtschaftliche Leistung.     |\n",
        "| `services`     | Anteil des Dienstleistungssektors am BIP in Prozent.                                            |\n"
      ]
    },
    {
      "cell_type": "code",
      "execution_count": null,
      "id": "0c0c4354",
      "metadata": {},
      "outputs": [],
      "source": [
        "gapminder = pd.read_csv('Data/gapminder.csv')\n",
        "gapminder.head()"
      ]
    },
    {
      "cell_type": "markdown",
      "id": "feaa94f3",
      "metadata": {},
      "source": [
        "<div class=\"alert alert-block alert-warning\"> \n",
        " Challenge-Aufgaben:\n",
        "    \n",
        "**a)** Erstellen Sie ein Liniendiagramm, das die Entwicklung der Lebenserwartung (`life_exp`) eines bestimmten Landes über die Jahre zeigt. Wählen Sie ein Land Ihrer Wahl.\n",
        "\n",
        "**b)** Finden Sie heraus, welches Land im Jahr 2000 die höchste CO2-Emission (`co2_consump`) hatte. Zeigen Sie die entsprechende Zeile an.\n",
        "\n",
        "**c)** Erstellen Sie ein Histogramm der HDI-Werte (`hdi_index`) für alle Länder. Wählen Sie eine geeignete Anzahl von Bins.\n",
        "\n",
        "**d)** Untersuchen Sie, ob es einen Zusammenhang zwischen dem BIP (`gdp`) und der Lebenserwartung (`life_exp`) gibt. Erstellen Sie ein Streudiagramm, bei dem die x-Achse das BIP und die y-Achse die Lebenserwartung darstellt.\n",
        "\n",
        "**e)** Gruppieren Sie die Daten nach Kontinent (`continent`) und berechnen Sie die durchschnittliche Lebenserwartung pro Kontinent. Stellen Sie die Ergebnisse in einem Balkendiagramm dar.\n",
        "\n",
        "**f)** Finden Sie heraus, welches Land die höchste durchschnittliche Lebenserwartung über alle Jahre hat. Zeigen Sie die entsprechende Zeile an.\n",
        "\n",
        "**g)** Erstellen Sie ein Diagramm, das die Entwicklung des durchschnittlichen HDI-Wertes (`hdi_index`) pro Kontinent über die Jahre zeigt. Nutzen Sie ein Liniendiagramm.\n",
        "\n",
        "**h)** Finden Sie heraus, wie viele Länder in jedem Kontinent vertreten sind. Stellen Sie die Ergebnisse in einem Balkendiagramm dar.\n",
        "\n",
        "**i)** Untersuchen Sie, ob es einen Zusammenhang zwischen dem Anteil der Dienstleistungen (`services`) und dem BIP (`gdp`) gibt. Erstellen Sie ein Streudiagramm, bei dem die x-Achse den Anteil der Dienstleistungen und die y-Achse das BIP darstellt.\n",
        "\n",
        "**j)** Finden Sie heraus, welches Land im Jahr 2010 den höchsten HDI-Wert (`hdi_index`) hatte. Zeigen Sie die entsprechende Zeile an.\n",
        "\n",
        " </div>"
      ]
    },
    {
      "cell_type": "code",
      "execution_count": null,
      "id": "7988d3bc",
      "metadata": {},
      "outputs": [],
      "source": [
        "# Hier Code eingeben"
      ]
    },
    {
      "cell_type": "code",
      "execution_count": null,
      "id": "11f8e012",
      "metadata": {},
      "outputs": [],
      "source": [
        "# Hier Code eingeben"
      ]
    },
    {
      "cell_type": "code",
      "execution_count": null,
      "id": "ae99b8c7",
      "metadata": {},
      "outputs": [],
      "source": [
        "# Hier Code eingeben"
      ]
    },
    {
      "cell_type": "code",
      "execution_count": null,
      "id": "8453fbed",
      "metadata": {},
      "outputs": [],
      "source": [
        "# Hier Code eingeben"
      ]
    },
    {
      "cell_type": "code",
      "execution_count": null,
      "id": "004d8100",
      "metadata": {},
      "outputs": [],
      "source": [
        "# Hier Code eingeben"
      ]
    },
    {
      "cell_type": "code",
      "execution_count": null,
      "id": "0e72e64f",
      "metadata": {},
      "outputs": [],
      "source": [
        "# Hier Code eingeben"
      ]
    },
    {
      "cell_type": "code",
      "execution_count": null,
      "id": "e75c8378",
      "metadata": {},
      "outputs": [],
      "source": [
        "# Hier Code eingeben"
      ]
    },
    {
      "cell_type": "code",
      "execution_count": null,
      "id": "b115524e",
      "metadata": {},
      "outputs": [],
      "source": [
        "# Hier Code eingeben"
      ]
    },
    {
      "cell_type": "code",
      "execution_count": null,
      "id": "c4d650a3",
      "metadata": {},
      "outputs": [],
      "source": [
        "# Hier Code eingeben"
      ]
    },
    {
      "cell_type": "code",
      "execution_count": null,
      "id": "32e70f1f",
      "metadata": {},
      "outputs": [],
      "source": [
        "# Hier Code eingeben"
      ]
    },
    {
      "cell_type": "markdown",
      "id": "1b2d2dc9",
      "metadata": {},
      "source": [
        "# Anhang\n"
      ]
    },
    {
      "cell_type": "markdown",
      "id": "7bc89ad5",
      "metadata": {},
      "source": [
        "## Schlüsselwort-Argumente\n",
        "\n",
        "In Python werden Befehle meist mit sogenannten **positionalen Argumenten** aufgerufen. Dabei muss die Reihenfolge der Argumente mit derjenigen der Parameter in der Befehlsdefinition übereinstimmen."
      ]
    },
    {
      "cell_type": "code",
      "execution_count": null,
      "id": "65178023",
      "metadata": {},
      "outputs": [],
      "source": [
        "def berechne_bmi(weight, height):\n",
        "    bmi = weight / (height ** 2)\n",
        "    print(\"Dein BMI ist \" + str(round(bmi, 2)))\n",
        "\n",
        "# Aufruf mit positionalen Argumenten\n",
        "berechne_bmi(70, 1.75)  # Richtig: Gewicht zuerst, dann Grösse\n",
        "berechne_bmi(1.75, 70)  # Falsch: Grösse zuerst, dann Gewicht"
      ]
    },
    {
      "cell_type": "markdown",
      "id": "c692be6a",
      "metadata": {},
      "source": [
        "Befehle lassen sich in Python aber auch mit sogenannten **Schlüsselwort-Argumenten** aufrufen. Dies hat den Vorteil, dass man die Argumente in einer beliebigen Reihenfolge übergeben kann. Besonders bei Befehlen mit vielen Parametern kann man so die vermeiden, dass man Argumente an die falschen Parameter zuweist.\n"
      ]
    },
    {
      "cell_type": "code",
      "execution_count": null,
      "id": "00937960",
      "metadata": {},
      "outputs": [],
      "source": [
        "# Aufruf mit Schlüsselwort-Argumenten\n",
        "berechne_bmi(height=1.75, weight=70)  # Richtig: so spielt die Reihenfolge keine Rolle\n",
        "berechne_bmi(weight=70, height=1.75)  # Auch Richtig: so spielt die Reihenfolge keine Rolle"
      ]
    },
    {
      "cell_type": "code",
      "execution_count": null,
      "id": "fd2dde68",
      "metadata": {},
      "outputs": [],
      "source": []
    }
  ],
  "metadata": {
    "kernelspec": {
      "display_name": "Python 3",
      "language": "python",
      "name": "python3"
    },
    "language_info": {
      "codemirror_mode": {
        "name": "ipython",
        "version": 3
      },
      "file_extension": ".py",
      "mimetype": "text/x-python",
      "name": "python",
      "nbconvert_exporter": "python",
      "pygments_lexer": "ipython3",
      "version": "3.11.4"
    }
  },
  "nbformat": 4,
  "nbformat_minor": 5
}
