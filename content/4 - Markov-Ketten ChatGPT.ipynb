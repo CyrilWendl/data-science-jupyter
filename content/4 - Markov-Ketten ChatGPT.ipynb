{
 "cells": [
  {
   "cell_type": "markdown",
   "id": "86f2352a",
   "metadata": {
    "vscode": {
     "languageId": "plaintext"
    }
   },
   "source": [
    "# 📘 Text-Generierung in Markov-Ketten\n",
    "\n",
    "In dieser Übung lernen Sie, wie man Markov-Ketten in Python umsetzen und Vorhersagen für zukünftige Zustände machen kann.\n"
   ]
  },
  {
   "cell_type": "markdown",
   "id": "77a2d1a7",
   "metadata": {},
   "source": [
    "## Beispiel: Wettermodell\n",
    "\n",
    "Angenommen, das Wetter kann **sonnig** oder **regnerisch** sein. Die Übergangswahrscheinlichkeiten lauten:\n",
    "\n",
    "- Wenn es heute sonnig ist, ist es morgen mit 90 % wieder sonnig, mit 10 % regnet es.\n",
    "- Wenn es heute regnet, ist es morgen mit 80 % wieder regnerisch, mit 20 % sonnig.\n",
    "\n",
    "Die Übergangsmatrix kann mit dem Package `numpy` (kurz `np`) erstellt werden:\n"
   ]
  },
  {
   "cell_type": "code",
   "execution_count": 94,
   "id": "f92da6a7",
   "metadata": {},
   "outputs": [],
   "source": [
    "# Library numpy importieren (einmal ausführen reicht)\n",
    "import numpy as np"
   ]
  },
  {
   "cell_type": "markdown",
   "id": "5f9a6b51",
   "metadata": {},
   "source": [
    "Mit folgendem Befehl kann man einen Text aus einer .txt-Datei laden und in eine Variable speichern. Danach erstellen wir eine Liste aller Wörter:"
   ]
  },
  {
   "cell_type": "code",
   "execution_count": 95,
   "id": "9a3ed818",
   "metadata": {},
   "outputs": [],
   "source": [
    "text = \"Liebe Klasse, ich bin sicher, dass Sie die Aufgaben super lösen werden! Ich wünsche Ihnen viel Erfolg und ich freue mich auf Ihre Ergebnisse.\"\n",
    "\n",
    "words = text.split()"
   ]
  },
  {
   "cell_type": "markdown",
   "id": "ef774663",
   "metadata": {},
   "source": [
    "Nun können wir folgende Funktion definieren, um eine Übergangsmatrix zu erstellen, die die Wahrscheinlichkeiten der Übergänge zwischen den Wörtern darstellt:"
   ]
  },
  {
   "cell_type": "code",
   "execution_count": 96,
   "id": "2b923f18",
   "metadata": {},
   "outputs": [],
   "source": [
    "\n",
    "\n",
    "def build_transition_matrix(words):\n",
    "    # Erstelle eine Liste einzigartiger Wörter\n",
    "    unique_words = list(set(words))\n",
    "    unique_words.sort()  # für konsistente Reihenfolge\n",
    "\n",
    "    n = len(unique_words)\n",
    "    counts = np.zeros((n, n), dtype=int)\n",
    "    for i in range(len(words) - 1):\n",
    "        curr_idx = unique_words.index(words[i])\n",
    "        next_idx = unique_words.index(words[i + 1])\n",
    "        counts[curr_idx, next_idx] += 1\n",
    "    P = np.zeros_like(counts, dtype=float)\n",
    "    for i, row in enumerate(counts):\n",
    "        s = row.sum()\n",
    "        if s > 0:\n",
    "            P[i] = row / s\n",
    "    return P, unique_words\n",
    "\n",
    "P, unique_words = build_transition_matrix(words)"
   ]
  },
  {
   "cell_type": "code",
   "execution_count": 103,
   "id": "ec779b2c",
   "metadata": {},
   "outputs": [
    {
     "name": "stdout",
     "output_type": "stream",
     "text": [
      "glücklich mein Freund! Wenn's dann um mich her und freue mich\n"
     ]
    }
   ],
   "source": [
    "def generate_word_sequence(P, unique_words, start_word, length=100):\n",
    "    current_idx = unique_words.index(start_word) if start_word in unique_words else 0\n",
    "    generated = [start_word]\n",
    "    for _ in range(length):\n",
    "        probs = P[current_idx]\n",
    "        if probs.sum() == 0:\n",
    "            break\n",
    "        next_idx = np.random.choice(len(unique_words), p=probs)\n",
    "        next_word = unique_words[next_idx]\n",
    "        generated.append(next_word)\n",
    "        current_idx = next_idx\n",
    "    return \" \".join(generated)\n",
    "\n",
    "print(generate_word_sequence(P, unique_words, \"glücklich\", length=10))\n"
   ]
  },
  {
   "cell_type": "markdown",
   "id": "c4aba324",
   "metadata": {},
   "source": [
    "Wenn wir die Zelle oberhalb mehrmals laufen lassen, sehen wir, dass jedes Mal ein ähnlicher Text generiert wird. Dies liegt daran, dass der ursprünliche Text relativ kurz ist und die Übergangswahrscheinlichkeiten stark von den vorhandenen Wörtern abhängen. Wir können jedoch auch längere Texte verwenden, um vielfältigere Ergebnisse zu erzielen, z.B. indem wir folgenden Text aus Goethes \"Werther\" einlesen:"
   ]
  },
  {
   "cell_type": "code",
   "execution_count": 98,
   "id": "ee59c2c0",
   "metadata": {},
   "outputs": [
    {
     "name": "stdout",
     "output_type": "stream",
     "text": [
      "Eine wunderbare Heiterkeit hat meine ganze Seele eingenommen, gleich den süßen Frühlingsmorgen, die ich mit ganzem Herzen genieße. Ich bin allein und freue mich meines Lebens in dieser Gegend, die für solche Seelen geschaffen ist wie die meine. Ich bin so glücklich, mein Bester, so ganz in dem Gefühle von ruhigem Dasein versunken, daß meine Kunst darunter leidet. Ich könnte jetzt nicht zeichnen, nicht einen Strich, und bin nie ein größerer Maler gewesen als in diesen Augenblicken. Wenn das liebe\n"
     ]
    }
   ],
   "source": [
    "with open(\"Data/werther.txt\", \"r\", encoding=\"utf-8\") as f:\n",
    "    text = f.read()\n",
    "print(text[:500])  # Zeige die ersten 500 Zeichen als Vorschau\n",
    "\n",
    "# Text in eine Liste von Wörtern umwandeln\n",
    "words = text.split()"
   ]
  },
  {
   "cell_type": "markdown",
   "id": "59481141",
   "metadata": {},
   "source": [
    "# Aufgabe\n",
    "\n",
    "Führen Sie die Schritte von oben erneut für den längeren Text aus.words\n",
    "- Verwenden Sie die Funktionen `build_transition_matrix`, um die Übergangsmatrix zu erstellen\n",
    "- Verwenden Sie die Funktion `generate_word_sequence`, um eine Wortsequenz zu generieren\n",
    "\n",
    "Führen Sie Ihren Code mehrmals aus, um zu schauen, was dabei herauskommt, und verwenden Sie unterschiedliche Startwörter (diese müssen im Text vorkommen!)"
   ]
  },
  {
   "cell_type": "code",
   "execution_count": 107,
   "id": "8194ac90",
   "metadata": {},
   "outputs": [
    {
     "name": "stdout",
     "output_type": "stream",
     "text": [
      "glücklich aber ich dann um mich oft und fühle die Gegenwart\n"
     ]
    }
   ],
   "source": [
    "P, unique_words = build_transition_matrix(words)\n",
    "start_word = \"glücklich\"\n",
    "generated_text = generate_word_sequence(P, unique_words, start_word, length=10)\n",
    "print(generated_text)\n"
   ]
  },
  {
   "cell_type": "markdown",
   "id": "43ed092b",
   "metadata": {},
   "source": [
    "# Challenge\n",
    "Fügen Sie ihren eigenen Text in die Variable `text` ein und generieren Sie eine Wortfolge. Sie dürfen dafür auch die Date `Data/Werther.txt` überschreiben und den obigen Code verwenden."
   ]
  },
  {
   "cell_type": "markdown",
   "id": "faa57f7c",
   "metadata": {},
   "source": []
  }
 ],
 "metadata": {
  "kernelspec": {
   "display_name": "Python 3",
   "language": "python",
   "name": "python3"
  },
  "language_info": {
   "codemirror_mode": {
    "name": "ipython",
    "version": 3
   },
   "file_extension": ".py",
   "mimetype": "text/x-python",
   "name": "python",
   "nbconvert_exporter": "python",
   "pygments_lexer": "ipython3",
   "version": "3.11.4"
  }
 },
 "nbformat": 4,
 "nbformat_minor": 5
}
