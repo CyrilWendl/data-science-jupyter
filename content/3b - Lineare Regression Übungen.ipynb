{
 "cells": [
  {
   "cell_type": "markdown",
   "id": "c94d972b",
   "metadata": {},
   "source": [
    "<div class=\"alert alert-block alert-warning\">\n",
    "\n",
    "# Wichtige Hinweise\n",
    "**Bitte lesen Sie folgende Hinweise sorgfältig**\n",
    "\n",
    "- Dies ist das Übungsblatt. Lösen Sie dieses erst, wenn Sie das Beispiels-Blatt (3a) gelesen und gelöst haben!\n",
    "- Öffen Sie sowohl dieses Blatt wie auch das Beisipels-Blatt nebeneinander, damit Sie sich für die Aufgaben an den Beispielen orientieren können (falls Sie Hilfe benötigen, wenden Sie sich an Herrn Wendl).\n",
    "- Lesen Sie den gesamten Text aufmerksam und vervollständigen Sie jeden Code-Block in dieser Datei.\n",
    "</div>\n",
    "\n",
    "<div class=\"alert alert-block alert-success\">\n",
    "\n",
    "Viel Erfolg beim Lösen der Übungen! :)\n",
    "</div>"
   ]
  },
  {
   "cell_type": "code",
   "execution_count": 1,
   "id": "ea907742",
   "metadata": {},
   "outputs": [],
   "source": [
    "# benötigte Bibliotheken importieren\n",
    "import pandas as pd # pandas für Datenmanipulation\n",
    "import matplotlib.pyplot as plt  # matplotlib für Datenvisualisierung\n",
    "plt.style.use('ggplot')  # ggplot-Stil für Diagramme verwenden\n",
    "import statsmodels.formula.api as smf # statsmodels für statistische Modelle, insbesondere OLS"
   ]
  },
  {
   "cell_type": "markdown",
   "id": "fb7b32cb",
   "metadata": {},
   "source": [
    "# Einfache lineare Regression"
   ]
  },
  {
   "cell_type": "code",
   "execution_count": 28,
   "id": "ebe98dac",
   "metadata": {},
   "outputs": [
    {
     "data": {
      "application/vnd.microsoft.datawrangler.viewer.v0+json": {
       "columns": [
        {
         "name": "index",
         "rawType": "int64",
         "type": "integer"
        },
        {
         "name": "Polizeistreifen",
         "rawType": "int64",
         "type": "integer"
        },
        {
         "name": "Straftaten",
         "rawType": "float64",
         "type": "float"
        }
       ],
       "conversionMethod": "pd.DataFrame",
       "ref": "c6440621-bd85-421b-9b07-230ae463f659",
       "rows": [
        [
         "0",
         "5",
         "5.915402117702074"
        ],
        [
         "1",
         "4",
         "4.3287511096596845"
        ],
        [
         "2",
         "4",
         "3.470239796232961"
        ],
        [
         "3",
         "5",
         "5.513267433113356"
        ],
        [
         "4",
         "5",
         "5.0970775493480405"
        ]
       ],
       "shape": {
        "columns": 2,
        "rows": 5
       }
      },
      "text/html": [
       "<div>\n",
       "<style scoped>\n",
       "    .dataframe tbody tr th:only-of-type {\n",
       "        vertical-align: middle;\n",
       "    }\n",
       "\n",
       "    .dataframe tbody tr th {\n",
       "        vertical-align: top;\n",
       "    }\n",
       "\n",
       "    .dataframe thead th {\n",
       "        text-align: right;\n",
       "    }\n",
       "</style>\n",
       "<table border=\"1\" class=\"dataframe\">\n",
       "  <thead>\n",
       "    <tr style=\"text-align: right;\">\n",
       "      <th></th>\n",
       "      <th>Polizeistreifen</th>\n",
       "      <th>Straftaten</th>\n",
       "    </tr>\n",
       "  </thead>\n",
       "  <tbody>\n",
       "    <tr>\n",
       "      <th>0</th>\n",
       "      <td>5</td>\n",
       "      <td>5.915402</td>\n",
       "    </tr>\n",
       "    <tr>\n",
       "      <th>1</th>\n",
       "      <td>4</td>\n",
       "      <td>4.328751</td>\n",
       "    </tr>\n",
       "    <tr>\n",
       "      <th>2</th>\n",
       "      <td>4</td>\n",
       "      <td>3.470240</td>\n",
       "    </tr>\n",
       "    <tr>\n",
       "      <th>3</th>\n",
       "      <td>5</td>\n",
       "      <td>5.513267</td>\n",
       "    </tr>\n",
       "    <tr>\n",
       "      <th>4</th>\n",
       "      <td>5</td>\n",
       "      <td>5.097078</td>\n",
       "    </tr>\n",
       "  </tbody>\n",
       "</table>\n",
       "</div>"
      ],
      "text/plain": [
       "   Polizeistreifen  Straftaten\n",
       "0                5    5.915402\n",
       "1                4    4.328751\n",
       "2                4    3.470240\n",
       "3                5    5.513267\n",
       "4                5    5.097078"
      ]
     },
     "execution_count": 28,
     "metadata": {},
     "output_type": "execute_result"
    }
   ],
   "source": [
    "# Aufgabe 1: Daten einlesen\n",
    "# Lesen Sie die CSV-Datei \"Data/police_vs_crime.csv\" ein und speichern Sie sie in einem DataFrame. Zeigen Sie die ersten 5 Zeilen des DataFrames an.\n",
    "df = pd.read_csv(\"Data/police_crime.csv\")\n",
    "df.head()"
   ]
  },
  {
   "cell_type": "code",
   "execution_count": 29,
   "id": "62e661fe",
   "metadata": {},
   "outputs": [
    {
     "data": {
      "text/plain": [
       "Text(0.5, 1.0, 'Straftaten vs. Polizeistreifen')"
      ]
     },
     "execution_count": 29,
     "metadata": {},
     "output_type": "execute_result"
    },
    {
     "data": {
      "image/png": "[encoded data removed]",
      "text/plain": [
       "<Figure size 640x480 with 1 Axes>"
      ]
     },
     "metadata": {},
     "output_type": "display_data"
    }
   ],
   "source": [
    "# Aufgabe 2: Zeigen Sie die Polizeistreifen und die Straftaten in einem Streudiagramm an.\n",
    "plt.scatter(df[\"Polizeistreifen\"], df[\"Straftaten\"])\n",
    "plt.xlabel(\"Polizeistreifen (police)\")\n",
    "plt.ylabel(\"Straftaten (crime)\")\n",
    "plt.title(\"Straftaten vs. Polizeistreifen\")"
   ]
  },
  {
   "cell_type": "markdown",
   "id": "652e0861",
   "metadata": {},
   "source": [
    "Wir wollen hier die Anzahl Polizeistreifen nutzen, um die Anzahl Straftaten vorherzusagen. Welches sind die abhängige und unabhängige Variable in diesen Daten?"
   ]
  },
  {
   "cell_type": "markdown",
   "id": "3dd54f0f",
   "metadata": {},
   "source": [
    "**Antwort**:\n",
    "- ...\n",
    "- ..."
   ]
  },
  {
   "cell_type": "markdown",
   "id": "74b68029",
   "metadata": {},
   "source": [
    "Erkennen Sie einen linearen Trend (= eine lineare Tendenz) in diesen Daten?"
   ]
  },
  {
   "cell_type": "markdown",
   "id": "d7e7ece0",
   "metadata": {},
   "source": [
    "**Antwort**:"
   ]
  },
  {
   "cell_type": "code",
   "execution_count": 30,
   "id": "fbab4e49",
   "metadata": {},
   "outputs": [
    {
     "name": "stdout",
     "output_type": "stream",
     "text": [
      "Steigung: 0.9294160034911453 Achsenabschnitt: 0.46421478385596066\n"
     ]
    }
   ],
   "source": [
    "# Finden Sie eine optimale Regressionslinie für die Daten \n",
    "lm = smf.ols(formula=\"Polizeistreifen ~ Straftaten\", data=df).fit()\n",
    "\n",
    "steigung = lm.params[\"Straftaten\"]\n",
    "achsenabschnitt = lm.params[\"Intercept\"]\n",
    "\n",
    "print(\"Steigung:\", steigung, \"Achsenabschnitt:\", achsenabschnitt)"
   ]
  },
  {
   "cell_type": "code",
   "execution_count": 31,
   "id": "da883a5f",
   "metadata": {},
   "outputs": [
    {
     "data": {
      "text/plain": [
       "[<matplotlib.lines.Line2D at 0x304368ed0>]"
      ]
     },
     "execution_count": 31,
     "metadata": {},
     "output_type": "execute_result"
    },
    {
     "data": {
      "image/png": "[encoded data removed]",
      "text/plain": [
       "<Figure size 640x480 with 1 Axes>"
      ]
     },
     "metadata": {},
     "output_type": "display_data"
    }
   ],
   "source": [
    "# Zeichnen Sie die Regressionslinie in das Streudiagramm ein\n",
    "df.plot.scatter(x=\"Polizeistreifen\", y=\"Straftaten\")\n",
    "x = df[\"Straftaten\"]\n",
    "y = steigung * x + achsenabschnitt\n",
    "plt.plot(x, y, color=\"red\", label=\"Regressionslinie\")\n"
   ]
  },
  {
   "cell_type": "markdown",
   "id": "e25048da",
   "metadata": {},
   "source": [
    "Sagen Sie voraus, wie viele Strattaten entdeckt werden bei 6 Polizeikontrollen."
   ]
  },
  {
   "cell_type": "code",
   "execution_count": 32,
   "id": "385bf518",
   "metadata": {},
   "outputs": [
    {
     "name": "stdout",
     "output_type": "stream",
     "text": [
      "Vorhergesagte Straftaten bei 6 Polizeikontrollen: 6.040710804802832\n"
     ]
    }
   ],
   "source": [
    "# Vorhersage der Straftaten bei 6 Polizeikontrollen\n",
    "\n",
    "polizeikontrollen = 6\n",
    "vorhergesagte_straftaten = steigung * polizeikontrollen + achsenabschnitt\n",
    "print(f\"Vorhergesagte Straftaten bei {polizeikontrollen} Polizeikontrollen: {vorhergesagte_straftaten}\")\n"
   ]
  },
  {
   "cell_type": "markdown",
   "id": "12e64391",
   "metadata": {},
   "source": [
    "## Aufgabe 2: CO₂-Ausstoss von Autos vorhersagen\n",
    "\n",
    "Wenn man für die lineare Regression zwei oder mehr unabhängige Variablen verwendet, spricht man von **multipler linearer Regression**. Bei $n$ verschiedenen unabhängigen Varialben $x_1, x_2, \\ldots, x_n$ wird zur Modellierung eine lineare Funktion vom Typ $y = a_0 + a_1 x_1 + a_2 x_2 + \\ldots + a_n x_n$ verwendet. Statt einer Geraden repräsentiert sie eine *Ebene* in einem mehrdimensioanlen Raum (=Hyperebene).\n",
    "\n",
    "Der "
   ]
  },
  {
   "cell_type": "markdown",
   "id": "2d16001f",
   "metadata": {},
   "source": [
    "## Aufgabe 2: CO₂-Ausstoss von Autos vorhersagen\n",
    "\n",
    "Für diese Aufgabe analysieren wir den Datensatz über [Autos und CO₂-Ausstoss von W3Schools](https://www.w3schools.com/python/python_ml_multiple_regression.asp). Über die unabhängigen Variablen `Weight` (=Gewicht) und `Volume` (=Volume) soll der CO₂-Ausstoss `CO2` (abhängige Variable) vorhergesagt werden.\n",
    "\n",
    "Wenn man für die lineare Regression zwei oder mehr unabhängige Variablen verwendet, spricht man von **multipler linearer Regression**. Bei $n$ verschiedenen unabhängigen Varialben $x_1, x_2, \\ldots, x_n$ wird zur Modellierung eine lineare Funktion vom Typ $y = a_0 + a_1 x_1 + a_2 x_2 + \\ldots + a_n x_n$ verwendet. Statt einer Geraden repräsentiert sie eine *Ebene* in einem mehrdimensioanlen Raum (=Hyperebene).\n",
    "\n",
    "Der Datensatz `Data/cars-co2.csv` enthält Informationen über verschiedene Autos, darunter den CO₂-Ausstoss (in g/km) und verschiedene Merkmale wie Markennamen, Gewicht und Volumen. Ziel ist es, den CO₂-Ausstoss anhand dieser Merkmale vorherzusagen."
   ]
  },
  {
   "cell_type": "markdown",
   "id": "d1f88ee5",
   "metadata": {},
   "source": [
    "**a)** Laden Sie den Datensatz `Data/cars-co2.csv` in einen DataFrame und zeigen Sie die ersten 5 Zeilen an.`"
   ]
  },
  {
   "cell_type": "code",
   "execution_count": 33,
   "id": "05a4e305",
   "metadata": {},
   "outputs": [
    {
     "data": {
      "application/vnd.microsoft.datawrangler.viewer.v0+json": {
       "columns": [
        {
         "name": "index",
         "rawType": "int64",
         "type": "integer"
        },
        {
         "name": "Car",
         "rawType": "object",
         "type": "string"
        },
        {
         "name": "Model",
         "rawType": "object",
         "type": "string"
        },
        {
         "name": "Volume",
         "rawType": "int64",
         "type": "integer"
        },
        {
         "name": "Weight",
         "rawType": "int64",
         "type": "integer"
        },
        {
         "name": "CO2",
         "rawType": "int64",
         "type": "integer"
        }
       ],
       "conversionMethod": "pd.DataFrame",
       "ref": "6f7e9a6b-61b2-4caf-a1cd-ecd23533b93e",
       "rows": [
        [
         "0",
         "Toyoty",
         "Aygo",
         "1000",
         "790",
         "99"
        ],
        [
         "1",
         "Mitsubishi",
         "Space Star",
         "1200",
         "1160",
         "95"
        ],
        [
         "2",
         "Skoda",
         "Citigo",
         "1000",
         "929",
         "95"
        ],
        [
         "3",
         "Fiat",
         "500",
         "900",
         "865",
         "90"
        ],
        [
         "4",
         "Mini",
         "Cooper",
         "1500",
         "1140",
         "105"
        ]
       ],
       "shape": {
        "columns": 5,
        "rows": 5
       }
      },
      "text/html": [
       "<div>\n",
       "<style scoped>\n",
       "    .dataframe tbody tr th:only-of-type {\n",
       "        vertical-align: middle;\n",
       "    }\n",
       "\n",
       "    .dataframe tbody tr th {\n",
       "        vertical-align: top;\n",
       "    }\n",
       "\n",
       "    .dataframe thead th {\n",
       "        text-align: right;\n",
       "    }\n",
       "</style>\n",
       "<table border=\"1\" class=\"dataframe\">\n",
       "  <thead>\n",
       "    <tr style=\"text-align: right;\">\n",
       "      <th></th>\n",
       "      <th>Car</th>\n",
       "      <th>Model</th>\n",
       "      <th>Volume</th>\n",
       "      <th>Weight</th>\n",
       "      <th>CO2</th>\n",
       "    </tr>\n",
       "  </thead>\n",
       "  <tbody>\n",
       "    <tr>\n",
       "      <th>0</th>\n",
       "      <td>Toyoty</td>\n",
       "      <td>Aygo</td>\n",
       "      <td>1000</td>\n",
       "      <td>790</td>\n",
       "      <td>99</td>\n",
       "    </tr>\n",
       "    <tr>\n",
       "      <th>1</th>\n",
       "      <td>Mitsubishi</td>\n",
       "      <td>Space Star</td>\n",
       "      <td>1200</td>\n",
       "      <td>1160</td>\n",
       "      <td>95</td>\n",
       "    </tr>\n",
       "    <tr>\n",
       "      <th>2</th>\n",
       "      <td>Skoda</td>\n",
       "      <td>Citigo</td>\n",
       "      <td>1000</td>\n",
       "      <td>929</td>\n",
       "      <td>95</td>\n",
       "    </tr>\n",
       "    <tr>\n",
       "      <th>3</th>\n",
       "      <td>Fiat</td>\n",
       "      <td>500</td>\n",
       "      <td>900</td>\n",
       "      <td>865</td>\n",
       "      <td>90</td>\n",
       "    </tr>\n",
       "    <tr>\n",
       "      <th>4</th>\n",
       "      <td>Mini</td>\n",
       "      <td>Cooper</td>\n",
       "      <td>1500</td>\n",
       "      <td>1140</td>\n",
       "      <td>105</td>\n",
       "    </tr>\n",
       "  </tbody>\n",
       "</table>\n",
       "</div>"
      ],
      "text/plain": [
       "          Car       Model  Volume  Weight  CO2\n",
       "0      Toyoty        Aygo    1000     790   99\n",
       "1  Mitsubishi  Space Star    1200    1160   95\n",
       "2       Skoda      Citigo    1000     929   95\n",
       "3        Fiat         500     900     865   90\n",
       "4        Mini      Cooper    1500    1140  105"
      ]
     },
     "execution_count": 33,
     "metadata": {},
     "output_type": "execute_result"
    }
   ],
   "source": [
    "df_cars = pd.read_csv(\"Data/cars-co2.csv\")\n",
    "df_cars.head()"
   ]
  },
  {
   "cell_type": "markdown",
   "id": "794b7b61",
   "metadata": {},
   "source": [
    "**b)** überprüfen Sie für jede unabhängige Variable separat, ob sie in einem linearen Zusammenhang zur abhängigen Variable `CO2` steht."
   ]
  },
  {
   "cell_type": "code",
   "execution_count": 34,
   "id": "490f0274",
   "metadata": {},
   "outputs": [
    {
     "data": {
      "image/png": "[encoded data removed]",
      "text/plain": [
       "<Figure size 640x480 with 1 Axes>"
      ]
     },
     "metadata": {},
     "output_type": "display_data"
    },
    {
     "data": {
      "image/png": "[encoded data removed]",
      "text/plain": [
       "<Figure size 640x480 with 1 Axes>"
      ]
     },
     "metadata": {},
     "output_type": "display_data"
    }
   ],
   "source": [
    "independent_variables = ['Volume', 'Weight']\n",
    "\n",
    "for variable in independent_variables:\n",
    "    plt.scatter(df_cars[variable], df_cars['CO2'])\n",
    "    plt.xlabel(variable)\n",
    "    plt.ylabel('CO2')\n",
    "    plt.title(f'CO2 vs {variable}')\n",
    "    plt.show()"
   ]
  },
  {
   "cell_type": "markdown",
   "id": "f74289d9",
   "metadata": {},
   "source": [
    "**b)** Erstellen Sie mit Hilfe von statsmodels ein lineares Modell. Gibt es mehr als eine unabhängige Variable, werden sie im Schlüssel-Argument `formula` von `ols()` mit `+` verbunden, also `'CO2 ~ weight + volume'`."
   ]
  },
  {
   "cell_type": "code",
   "execution_count": 37,
   "id": "54706b34",
   "metadata": {},
   "outputs": [
    {
     "name": "stdout",
     "output_type": "stream",
     "text": [
      "Intercept    79.694719\n",
      "Weight        0.007551\n",
      "Volume        0.007805\n",
      "dtype: float64\n"
     ]
    }
   ],
   "source": [
    "# Erstellen eines linearen Modells mit statsmodels\n",
    "lm_cars = smf.ols(formula=\"CO2 ~ Weight + Volume\", data=df_cars).fit()\n",
    "\n",
    "# Ausgabe der Zusammenfassung des Modells\n",
    "print(lm_cars.params)"
   ]
  },
  {
   "cell_type": "code",
   "execution_count": 38,
   "id": "e540726c",
   "metadata": {},
   "outputs": [
    {
     "data": {
      "application/vnd.microsoft.datawrangler.viewer.v0+json": {
       "columns": [
        {
         "name": "index",
         "rawType": "int64",
         "type": "integer"
        },
        {
         "name": "Car",
         "rawType": "object",
         "type": "string"
        },
        {
         "name": "Model",
         "rawType": "object",
         "type": "string"
        },
        {
         "name": "Volume",
         "rawType": "int64",
         "type": "integer"
        },
        {
         "name": "Weight",
         "rawType": "int64",
         "type": "integer"
        },
        {
         "name": "CO2",
         "rawType": "int64",
         "type": "integer"
        }
       ],
       "conversionMethod": "pd.DataFrame",
       "ref": "ae05bc0c-5338-4a52-a53a-b49ea78bb536",
       "rows": [
        [
         "0",
         "Toyoty",
         "Aygo",
         "1000",
         "790",
         "99"
        ],
        [
         "1",
         "Mitsubishi",
         "Space Star",
         "1200",
         "1160",
         "95"
        ],
        [
         "2",
         "Skoda",
         "Citigo",
         "1000",
         "929",
         "95"
        ],
        [
         "3",
         "Fiat",
         "500",
         "900",
         "865",
         "90"
        ],
        [
         "4",
         "Mini",
         "Cooper",
         "1500",
         "1140",
         "105"
        ],
        [
         "5",
         "VW",
         "Up!",
         "1000",
         "929",
         "105"
        ],
        [
         "6",
         "Skoda",
         "Fabia",
         "1400",
         "1109",
         "90"
        ],
        [
         "7",
         "Mercedes",
         "A-Class",
         "1500",
         "1365",
         "92"
        ],
        [
         "8",
         "Ford",
         "Fiesta",
         "1500",
         "1112",
         "98"
        ],
        [
         "9",
         "Audi",
         "A1",
         "1600",
         "1150",
         "99"
        ],
        [
         "10",
         "Hyundai",
         "I20",
         "1100",
         "980",
         "99"
        ],
        [
         "11",
         "Suzuki",
         "Swift",
         "1300",
         "990",
         "101"
        ],
        [
         "12",
         "Ford",
         "Fiesta",
         "1000",
         "1112",
         "99"
        ],
        [
         "13",
         "Honda",
         "Civic",
         "1600",
         "1252",
         "94"
        ],
        [
         "14",
         "Hundai",
         "I30",
         "1600",
         "1326",
         "97"
        ],
        [
         "15",
         "Opel",
         "Astra",
         "1600",
         "1330",
         "97"
        ],
        [
         "16",
         "BMW",
         "1",
         "1600",
         "1365",
         "99"
        ],
        [
         "17",
         "Mazda",
         "3",
         "2200",
         "1280",
         "104"
        ],
        [
         "18",
         "Skoda",
         "Rapid",
         "1600",
         "1119",
         "104"
        ],
        [
         "19",
         "Ford",
         "Focus",
         "2000",
         "1328",
         "105"
        ],
        [
         "20",
         "Ford",
         "Mondeo",
         "1600",
         "1584",
         "94"
        ],
        [
         "21",
         "Opel",
         "Insignia",
         "2000",
         "1428",
         "99"
        ],
        [
         "22",
         "Mercedes",
         "C-Class",
         "2100",
         "1365",
         "99"
        ],
        [
         "23",
         "Skoda",
         "Octavia",
         "1600",
         "1415",
         "99"
        ],
        [
         "24",
         "Volvo",
         "S60",
         "2000",
         "1415",
         "99"
        ],
        [
         "25",
         "Mercedes",
         "CLA",
         "1500",
         "1465",
         "102"
        ],
        [
         "26",
         "Audi",
         "A4",
         "2000",
         "1490",
         "104"
        ],
        [
         "27",
         "Audi",
         "A6",
         "2000",
         "1725",
         "114"
        ],
        [
         "28",
         "Volvo",
         "V70",
         "1600",
         "1523",
         "109"
        ],
        [
         "29",
         "BMW",
         "5",
         "2000",
         "1705",
         "114"
        ],
        [
         "30",
         "Mercedes",
         "E-Class",
         "2100",
         "1605",
         "115"
        ],
        [
         "31",
         "Volvo",
         "XC70",
         "2000",
         "1746",
         "117"
        ],
        [
         "32",
         "Ford",
         "B-Max",
         "1600",
         "1235",
         "104"
        ],
        [
         "33",
         "BMW",
         "216",
         "1600",
         "1390",
         "108"
        ],
        [
         "34",
         "Opel",
         "Zafira",
         "1600",
         "1405",
         "109"
        ],
        [
         "35",
         "Mercedes",
         "SLK",
         "2500",
         "1395",
         "120"
        ]
       ],
       "shape": {
        "columns": 5,
        "rows": 36
       }
      },
      "text/html": [
       "<div>\n",
       "<style scoped>\n",
       "    .dataframe tbody tr th:only-of-type {\n",
       "        vertical-align: middle;\n",
       "    }\n",
       "\n",
       "    .dataframe tbody tr th {\n",
       "        vertical-align: top;\n",
       "    }\n",
       "\n",
       "    .dataframe thead th {\n",
       "        text-align: right;\n",
       "    }\n",
       "</style>\n",
       "<table border=\"1\" class=\"dataframe\">\n",
       "  <thead>\n",
       "    <tr style=\"text-align: right;\">\n",
       "      <th></th>\n",
       "      <th>Car</th>\n",
       "      <th>Model</th>\n",
       "      <th>Volume</th>\n",
       "      <th>Weight</th>\n",
       "      <th>CO2</th>\n",
       "    </tr>\n",
       "  </thead>\n",
       "  <tbody>\n",
       "    <tr>\n",
       "      <th>0</th>\n",
       "      <td>Toyoty</td>\n",
       "      <td>Aygo</td>\n",
       "      <td>1000</td>\n",
       "      <td>790</td>\n",
       "      <td>99</td>\n",
       "    </tr>\n",
       "    <tr>\n",
       "      <th>1</th>\n",
       "      <td>Mitsubishi</td>\n",
       "      <td>Space Star</td>\n",
       "      <td>1200</td>\n",
       "      <td>1160</td>\n",
       "      <td>95</td>\n",
       "    </tr>\n",
       "    <tr>\n",
       "      <th>2</th>\n",
       "      <td>Skoda</td>\n",
       "      <td>Citigo</td>\n",
       "      <td>1000</td>\n",
       "      <td>929</td>\n",
       "      <td>95</td>\n",
       "    </tr>\n",
       "    <tr>\n",
       "      <th>3</th>\n",
       "      <td>Fiat</td>\n",
       "      <td>500</td>\n",
       "      <td>900</td>\n",
       "      <td>865</td>\n",
       "      <td>90</td>\n",
       "    </tr>\n",
       "    <tr>\n",
       "      <th>4</th>\n",
       "      <td>Mini</td>\n",
       "      <td>Cooper</td>\n",
       "      <td>1500</td>\n",
       "      <td>1140</td>\n",
       "      <td>105</td>\n",
       "    </tr>\n",
       "    <tr>\n",
       "      <th>5</th>\n",
       "      <td>VW</td>\n",
       "      <td>Up!</td>\n",
       "      <td>1000</td>\n",
       "      <td>929</td>\n",
       "      <td>105</td>\n",
       "    </tr>\n",
       "    <tr>\n",
       "      <th>6</th>\n",
       "      <td>Skoda</td>\n",
       "      <td>Fabia</td>\n",
       "      <td>1400</td>\n",
       "      <td>1109</td>\n",
       "      <td>90</td>\n",
       "    </tr>\n",
       "    <tr>\n",
       "      <th>7</th>\n",
       "      <td>Mercedes</td>\n",
       "      <td>A-Class</td>\n",
       "      <td>1500</td>\n",
       "      <td>1365</td>\n",
       "      <td>92</td>\n",
       "    </tr>\n",
       "    <tr>\n",
       "      <th>8</th>\n",
       "      <td>Ford</td>\n",
       "      <td>Fiesta</td>\n",
       "      <td>1500</td>\n",
       "      <td>1112</td>\n",
       "      <td>98</td>\n",
       "    </tr>\n",
       "    <tr>\n",
       "      <th>9</th>\n",
       "      <td>Audi</td>\n",
       "      <td>A1</td>\n",
       "      <td>1600</td>\n",
       "      <td>1150</td>\n",
       "      <td>99</td>\n",
       "    </tr>\n",
       "    <tr>\n",
       "      <th>10</th>\n",
       "      <td>Hyundai</td>\n",
       "      <td>I20</td>\n",
       "      <td>1100</td>\n",
       "      <td>980</td>\n",
       "      <td>99</td>\n",
       "    </tr>\n",
       "    <tr>\n",
       "      <th>11</th>\n",
       "      <td>Suzuki</td>\n",
       "      <td>Swift</td>\n",
       "      <td>1300</td>\n",
       "      <td>990</td>\n",
       "      <td>101</td>\n",
       "    </tr>\n",
       "    <tr>\n",
       "      <th>12</th>\n",
       "      <td>Ford</td>\n",
       "      <td>Fiesta</td>\n",
       "      <td>1000</td>\n",
       "      <td>1112</td>\n",
       "      <td>99</td>\n",
       "    </tr>\n",
       "    <tr>\n",
       "      <th>13</th>\n",
       "      <td>Honda</td>\n",
       "      <td>Civic</td>\n",
       "      <td>1600</td>\n",
       "      <td>1252</td>\n",
       "      <td>94</td>\n",
       "    </tr>\n",
       "    <tr>\n",
       "      <th>14</th>\n",
       "      <td>Hundai</td>\n",
       "      <td>I30</td>\n",
       "      <td>1600</td>\n",
       "      <td>1326</td>\n",
       "      <td>97</td>\n",
       "    </tr>\n",
       "    <tr>\n",
       "      <th>15</th>\n",
       "      <td>Opel</td>\n",
       "      <td>Astra</td>\n",
       "      <td>1600</td>\n",
       "      <td>1330</td>\n",
       "      <td>97</td>\n",
       "    </tr>\n",
       "    <tr>\n",
       "      <th>16</th>\n",
       "      <td>BMW</td>\n",
       "      <td>1</td>\n",
       "      <td>1600</td>\n",
       "      <td>1365</td>\n",
       "      <td>99</td>\n",
       "    </tr>\n",
       "    <tr>\n",
       "      <th>17</th>\n",
       "      <td>Mazda</td>\n",
       "      <td>3</td>\n",
       "      <td>2200</td>\n",
       "      <td>1280</td>\n",
       "      <td>104</td>\n",
       "    </tr>\n",
       "    <tr>\n",
       "      <th>18</th>\n",
       "      <td>Skoda</td>\n",
       "      <td>Rapid</td>\n",
       "      <td>1600</td>\n",
       "      <td>1119</td>\n",
       "      <td>104</td>\n",
       "    </tr>\n",
       "    <tr>\n",
       "      <th>19</th>\n",
       "      <td>Ford</td>\n",
       "      <td>Focus</td>\n",
       "      <td>2000</td>\n",
       "      <td>1328</td>\n",
       "      <td>105</td>\n",
       "    </tr>\n",
       "    <tr>\n",
       "      <th>20</th>\n",
       "      <td>Ford</td>\n",
       "      <td>Mondeo</td>\n",
       "      <td>1600</td>\n",
       "      <td>1584</td>\n",
       "      <td>94</td>\n",
       "    </tr>\n",
       "    <tr>\n",
       "      <th>21</th>\n",
       "      <td>Opel</td>\n",
       "      <td>Insignia</td>\n",
       "      <td>2000</td>\n",
       "      <td>1428</td>\n",
       "      <td>99</td>\n",
       "    </tr>\n",
       "    <tr>\n",
       "      <th>22</th>\n",
       "      <td>Mercedes</td>\n",
       "      <td>C-Class</td>\n",
       "      <td>2100</td>\n",
       "      <td>1365</td>\n",
       "      <td>99</td>\n",
       "    </tr>\n",
       "    <tr>\n",
       "      <th>23</th>\n",
       "      <td>Skoda</td>\n",
       "      <td>Octavia</td>\n",
       "      <td>1600</td>\n",
       "      <td>1415</td>\n",
       "      <td>99</td>\n",
       "    </tr>\n",
       "    <tr>\n",
       "      <th>24</th>\n",
       "      <td>Volvo</td>\n",
       "      <td>S60</td>\n",
       "      <td>2000</td>\n",
       "      <td>1415</td>\n",
       "      <td>99</td>\n",
       "    </tr>\n",
       "    <tr>\n",
       "      <th>25</th>\n",
       "      <td>Mercedes</td>\n",
       "      <td>CLA</td>\n",
       "      <td>1500</td>\n",
       "      <td>1465</td>\n",
       "      <td>102</td>\n",
       "    </tr>\n",
       "    <tr>\n",
       "      <th>26</th>\n",
       "      <td>Audi</td>\n",
       "      <td>A4</td>\n",
       "      <td>2000</td>\n",
       "      <td>1490</td>\n",
       "      <td>104</td>\n",
       "    </tr>\n",
       "    <tr>\n",
       "      <th>27</th>\n",
       "      <td>Audi</td>\n",
       "      <td>A6</td>\n",
       "      <td>2000</td>\n",
       "      <td>1725</td>\n",
       "      <td>114</td>\n",
       "    </tr>\n",
       "    <tr>\n",
       "      <th>28</th>\n",
       "      <td>Volvo</td>\n",
       "      <td>V70</td>\n",
       "      <td>1600</td>\n",
       "      <td>1523</td>\n",
       "      <td>109</td>\n",
       "    </tr>\n",
       "    <tr>\n",
       "      <th>29</th>\n",
       "      <td>BMW</td>\n",
       "      <td>5</td>\n",
       "      <td>2000</td>\n",
       "      <td>1705</td>\n",
       "      <td>114</td>\n",
       "    </tr>\n",
       "    <tr>\n",
       "      <th>30</th>\n",
       "      <td>Mercedes</td>\n",
       "      <td>E-Class</td>\n",
       "      <td>2100</td>\n",
       "      <td>1605</td>\n",
       "      <td>115</td>\n",
       "    </tr>\n",
       "    <tr>\n",
       "      <th>31</th>\n",
       "      <td>Volvo</td>\n",
       "      <td>XC70</td>\n",
       "      <td>2000</td>\n",
       "      <td>1746</td>\n",
       "      <td>117</td>\n",
       "    </tr>\n",
       "    <tr>\n",
       "      <th>32</th>\n",
       "      <td>Ford</td>\n",
       "      <td>B-Max</td>\n",
       "      <td>1600</td>\n",
       "      <td>1235</td>\n",
       "      <td>104</td>\n",
       "    </tr>\n",
       "    <tr>\n",
       "      <th>33</th>\n",
       "      <td>BMW</td>\n",
       "      <td>216</td>\n",
       "      <td>1600</td>\n",
       "      <td>1390</td>\n",
       "      <td>108</td>\n",
       "    </tr>\n",
       "    <tr>\n",
       "      <th>34</th>\n",
       "      <td>Opel</td>\n",
       "      <td>Zafira</td>\n",
       "      <td>1600</td>\n",
       "      <td>1405</td>\n",
       "      <td>109</td>\n",
       "    </tr>\n",
       "    <tr>\n",
       "      <th>35</th>\n",
       "      <td>Mercedes</td>\n",
       "      <td>SLK</td>\n",
       "      <td>2500</td>\n",
       "      <td>1395</td>\n",
       "      <td>120</td>\n",
       "    </tr>\n",
       "  </tbody>\n",
       "</table>\n",
       "</div>"
      ],
      "text/plain": [
       "           Car       Model  Volume  Weight  CO2\n",
       "0       Toyoty        Aygo    1000     790   99\n",
       "1   Mitsubishi  Space Star    1200    1160   95\n",
       "2        Skoda      Citigo    1000     929   95\n",
       "3         Fiat         500     900     865   90\n",
       "4         Mini      Cooper    1500    1140  105\n",
       "5           VW         Up!    1000     929  105\n",
       "6        Skoda       Fabia    1400    1109   90\n",
       "7     Mercedes     A-Class    1500    1365   92\n",
       "8         Ford      Fiesta    1500    1112   98\n",
       "9         Audi          A1    1600    1150   99\n",
       "10     Hyundai         I20    1100     980   99\n",
       "11      Suzuki       Swift    1300     990  101\n",
       "12        Ford      Fiesta    1000    1112   99\n",
       "13       Honda       Civic    1600    1252   94\n",
       "14      Hundai         I30    1600    1326   97\n",
       "15        Opel       Astra    1600    1330   97\n",
       "16         BMW           1    1600    1365   99\n",
       "17       Mazda           3    2200    1280  104\n",
       "18       Skoda       Rapid    1600    1119  104\n",
       "19        Ford       Focus    2000    1328  105\n",
       "20        Ford      Mondeo    1600    1584   94\n",
       "21        Opel    Insignia    2000    1428   99\n",
       "22    Mercedes     C-Class    2100    1365   99\n",
       "23       Skoda     Octavia    1600    1415   99\n",
       "24       Volvo         S60    2000    1415   99\n",
       "25    Mercedes         CLA    1500    1465  102\n",
       "26        Audi          A4    2000    1490  104\n",
       "27        Audi          A6    2000    1725  114\n",
       "28       Volvo         V70    1600    1523  109\n",
       "29         BMW           5    2000    1705  114\n",
       "30    Mercedes     E-Class    2100    1605  115\n",
       "31       Volvo        XC70    2000    1746  117\n",
       "32        Ford       B-Max    1600    1235  104\n",
       "33         BMW         216    1600    1390  108\n",
       "34        Opel      Zafira    1600    1405  109\n",
       "35    Mercedes         SLK    2500    1395  120"
      ]
     },
     "execution_count": 38,
     "metadata": {},
     "output_type": "execute_result"
    }
   ],
   "source": [
    "df_cars"
   ]
  },
  {
   "cell_type": "markdown",
   "id": "da3897f2",
   "metadata": {},
   "source": [
    "**c)** Wie viel CO2 wird bei einem Gewicht von 2000 und einem Volumen von 1000 emittiert?\n"
   ]
  },
  {
   "cell_type": "code",
   "execution_count": 40,
   "id": "d154172f",
   "metadata": {},
   "outputs": [],
   "source": [
    "gewicht = 2000\n",
    "volumen = 1000\n",
    "vorhergesagtes_co2 = lm_cars.params[\"Intercept\"] + lm_cars.params[\"Weight\"] * gewicht + lm_cars.params[\"Volume\"] * volumen"
   ]
  },
  {
   "cell_type": "markdown",
   "id": "3f106612",
   "metadata": {},
   "source": [
    "<div class=\"alert alert-block alert-info\">\n",
    "<strong>Kontrollfragen</strong>\n",
    "\n",
    "1. Was versteht man unter der *abhängigen* Variablen? \n",
    "2. Was versteht man unter *unabhängigen* Variablen?\n",
    "3. Was ist der Unterschied zwischen der *einfachen* linearen Regression und der *multiplen* linearen Regression?\n",
    "4. Weshalb muss man die *Linearität* der unabhängigen Variablen überprüfen? Und wie macht man das?\n",
    "5. Wozu verwendet man die Programmbibliothek *pandas*?\n",
    "6. Wozu verwendet man die Programmbibliothek *statsmodels*?\n",
    "7. Was versteht man unter einem statistischen Modell?\n",
    "</div>"
   ]
  },
  {
   "cell_type": "markdown",
   "id": "3319c1a1",
   "metadata": {},
   "source": []
  }
 ],
 "metadata": {
  "kernelspec": {
   "display_name": "Python 3",
   "language": "python",
   "name": "python3"
  },
  "language_info": {
   "codemirror_mode": {
    "name": "ipython",
    "version": 3
   },
   "file_extension": ".py",
   "mimetype": "text/x-python",
   "name": "python",
   "nbconvert_exporter": "python",
   "pygments_lexer": "ipython3",
   "version": "3.11.4"
  }
 },
 "nbformat": 4,
 "nbformat_minor": 5
}
