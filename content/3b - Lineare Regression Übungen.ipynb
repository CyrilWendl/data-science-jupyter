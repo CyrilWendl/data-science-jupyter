{
 "cells": [
  {
   "cell_type": "markdown",
   "id": "c94d972b",
   "metadata": {},
   "source": [
    "<div class=\"alert alert-block alert-warning\">\n",
    "\n",
    "# Wichtige Hinweise\n",
    "**Bitte lesen Sie folgende Hinweise sorgfältig**\n",
    "\n",
    "- Dies ist das Übungsblatt. Lösen Sie dieses erst, wenn Sie das Beispiels-Blatt (3a) gelesen und gelöst haben!\n",
    "- Öffen Sie sowohl dieses Blatt wie auch das Beisipels-Blatt nebeneinander, damit Sie sich für die Aufgaben an den Beispielen orientieren können (falls Sie Hilfe benötigen, wenden Sie sich an Herrn Wendl).\n",
    "- Lesen Sie den gesamten Text aufmerksam und vervollständigen Sie jeden Code-Block in dieser Datei.\n",
    "</div>\n",
    "\n",
    "<div class=\"alert alert-block alert-success\">\n",
    "\n",
    "Viel Erfolg beim Lösen der Übungen! :)\n",
    "</div>"
   ]
  },
  {
   "cell_type": "code",
   "execution_count": 1,
   "id": "ea907742",
   "metadata": {},
   "outputs": [],
   "source": [
    "# benötigte Bibliotheken importieren\n",
    "import pandas as pd # pandas für Datenmanipulation\n",
    "import matplotlib.pyplot as plt  # matplotlib für Datenvisualisierung\n",
    "plt.style.use('ggplot')  # ggplot-Stil für Diagramme verwenden\n",
    "import statsmodels.formula.api as smf # statsmodels für statistische Modelle, insbesondere OLS"
   ]
  },
  {
   "cell_type": "markdown",
   "id": "fb7b32cb",
   "metadata": {},
   "source": [
    "# Einfache lineare Regression"
   ]
  },
  {
   "cell_type": "code",
   "execution_count": 1,
   "id": "ebe98dac",
   "metadata": {},
   "outputs": [],
   "source": [
    "# Aufgabe 1: Daten einlesen\n",
    "# Lesen Sie die CSV-Datei \"Data/police_vs_crime.csv\" ein und speichern Sie sie in einem DataFrame. Zeigen Sie die ersten 5 Zeilen des DataFrames an.\n",
    "# IHR CODE HIER"
   ]
  },
  {
   "cell_type": "code",
   "execution_count": 2,
   "id": "62e661fe",
   "metadata": {},
   "outputs": [],
   "source": [
    "# Aufgabe 2: Zeigen Sie die Polizeistreifen und die Straftaten in einem Streudiagramm an.\n",
    "# IHR CODE HIER"
   ]
  },
  {
   "cell_type": "markdown",
   "id": "652e0861",
   "metadata": {},
   "source": [
    "Wir wollen hier die Anzahl Polizeistreifen nutzen, um die Anzahl Straftaten vorherzusagen. Welches sind die abhängige und unabhängige Variable in diesen Daten?"
   ]
  },
  {
   "cell_type": "markdown",
   "id": "3dd54f0f",
   "metadata": {},
   "source": [
    "**Antwort**:\n",
    "- ...\n",
    "- ..."
   ]
  },
  {
   "cell_type": "markdown",
   "id": "74b68029",
   "metadata": {},
   "source": [
    "Erkennen Sie einen linearen Trend (= eine lineare Tendenz) in diesen Daten?"
   ]
  },
  {
   "cell_type": "markdown",
   "id": "d7e7ece0",
   "metadata": {},
   "source": [
    "**Antwort**:"
   ]
  },
  {
   "cell_type": "markdown",
   "id": "160376bc",
   "metadata": {},
   "source": [
    "Finden Sie eine optimale Regressionslinie für die Daten, indem Sie eine lineare Regression mit `statsmodels` durchführen. Verwenden Sie die Formel `Polizeistreifen ~ Straftaten`, um die Beziehung zwischen der Anzahl der Polizeistreifen und der Anzahl der Straftaten zu modellieren."
   ]
  },
  {
   "cell_type": "code",
   "execution_count": 3,
   "id": "fbab4e49",
   "metadata": {},
   "outputs": [],
   "source": [
    "# IHR CODE HIER"
   ]
  },
  {
   "cell_type": "markdown",
   "id": "1dd4aade",
   "metadata": {},
   "source": [
    "Zeichnen Sie ein weiteres Streudiagramm *mit Regressionslinie*"
   ]
  },
  {
   "cell_type": "code",
   "execution_count": 5,
   "id": "da883a5f",
   "metadata": {},
   "outputs": [],
   "source": [
    "# IHR CODE HIER"
   ]
  },
  {
   "cell_type": "markdown",
   "id": "e25048da",
   "metadata": {},
   "source": [
    "Sagen Sie voraus, wie viele Strattaten entdeckt werden bei 6 Polizeikontrollen."
   ]
  },
  {
   "cell_type": "code",
   "execution_count": 6,
   "id": "385bf518",
   "metadata": {},
   "outputs": [],
   "source": [
    "# IHR CODE HIER"
   ]
  },
  {
   "cell_type": "markdown",
   "id": "12e64391",
   "metadata": {},
   "source": [
    "## Aufgabe 2: CO₂-Ausstoss von Autos vorhersagen\n",
    "\n",
    "Wenn man für die lineare Regression zwei oder mehr unabhängige Variablen verwendet, spricht man von **multipler linearer Regression**. Bei $n$ verschiedenen unabhängigen Varialben $x_1, x_2, \\ldots, x_n$ wird zur Modellierung eine lineare Funktion vom Typ $y = a_0 + a_1 x_1 + a_2 x_2 + \\ldots + a_n x_n$ verwendet. Statt einer Geraden repräsentiert sie eine *Ebene* in einem mehrdimensioanlen Raum (=Hyperebene).\n",
    "\n",
    "Für diese Aufgabe analysieren wir den Datensatz über [Autos und CO₂-Ausstoss von W3Schools](https://www.w3schools.com/python/python_ml_multiple_regression.asp).Der Datensatz `Data/cars-co2.csv` enthält Informationen über verschiedene Autos, darunter den CO₂-Ausstoss (in g/km) und verschiedene Merkmale wie Markennamen, Gewicht und Volumen. Ziel ist es, den CO₂-Ausstoss anhand dieser Merkmale vorherzusagen. Über die unabhängigen Variablen `Weight` (=Gewicht) und `Volume` (=Volume) soll also der CO₂-Ausstoss `CO2` (abhängige Variable) vorhergesagt werden.\n",
    "\n"
   ]
  },
  {
   "cell_type": "markdown",
   "id": "d1f88ee5",
   "metadata": {},
   "source": [
    "**a)** Laden Sie den Datensatz `Data/cars-co2.csv` in einen DataFrame und zeigen Sie die ersten 5 Zeilen an.`"
   ]
  },
  {
   "cell_type": "code",
   "execution_count": 7,
   "id": "05a4e305",
   "metadata": {},
   "outputs": [],
   "source": [
    "# IHR CODE HIER"
   ]
  },
  {
   "cell_type": "markdown",
   "id": "794b7b61",
   "metadata": {},
   "source": [
    "**b)** überprüfen Sie für jede unabhängige Variable separat, ob sie in einem linearen Zusammenhang zur abhängigen Variable `CO2` steht, indem Sie für jede unabhängige Variable ein Streudiagramm erstellen."
   ]
  },
  {
   "cell_type": "code",
   "execution_count": 8,
   "id": "490f0274",
   "metadata": {},
   "outputs": [],
   "source": [
    "# IHR CODE HIER"
   ]
  },
  {
   "cell_type": "markdown",
   "id": "f74289d9",
   "metadata": {},
   "source": [
    "Erstellen Sie mit Hilfe von statsmodels ein lineares Modell. Gibt es mehr als eine unabhängige Variable, werden sie im Schlüssel-Argument `formula` von `ols()` mit `+` verbunden, also `'CO2 ~ weight + volume'`."
   ]
  },
  {
   "cell_type": "code",
   "execution_count": 9,
   "id": "54706b34",
   "metadata": {},
   "outputs": [],
   "source": [
    "# IHR CODE HIER"
   ]
  },
  {
   "cell_type": "markdown",
   "id": "4fd014fc",
   "metadata": {},
   "source": [
    "Welche Parameter findet das Modell?\n",
    "\n",
    "**Antwort**: ..."
   ]
  },
  {
   "cell_type": "markdown",
   "id": "da3897f2",
   "metadata": {},
   "source": [
    "Wie viel CO2 wird bei einem Gewicht von 2000 und einem Volumen von 1000 emittiert?\n"
   ]
  },
  {
   "cell_type": "code",
   "execution_count": null,
   "id": "d154172f",
   "metadata": {},
   "outputs": [],
   "source": [
    "# IHR CODE HIER"
   ]
  },
  {
   "cell_type": "markdown",
   "id": "3f106612",
   "metadata": {},
   "source": [
    "<div class=\"alert alert-block alert-info\">\n",
    "<strong>Kontrollfragen</strong>\n",
    "\n",
    "1. Was versteht man unter der *abhängigen* Variablen? \n",
    "2. Was versteht man unter *unabhängigen* Variablen?\n",
    "3. Was ist der Unterschied zwischen der *einfachen* linearen Regression und der *multiplen* linearen Regression?\n",
    "4. Weshalb muss man die *Linearität* der unabhängigen Variablen überprüfen? Und wie macht man das?\n",
    "5. Wozu verwendet man die Programmbibliothek *pandas*?\n",
    "6. Wozu verwendet man die Programmbibliothek *statsmodels*?\n",
    "7. Was versteht man unter einem statistischen Modell?\n",
    "</div>"
   ]
  },
  {
   "cell_type": "markdown",
   "id": "3319c1a1",
   "metadata": {},
   "source": [
    "<div class=\"alert alert-block alert-warning\">\n",
    "<strong>🏆 Challenge-Aufgabe: Weitere Modelle</strong>\n",
    "\n",
    "Manchmal stehen Daten auch nicht in einem linearen Zusammenhang, sondern sind beispielsweise polynomisch verteilt, wie z.B. hier:\n",
    "\n",
    "<div style=\"display: flex; flex-direction: column; width:60%; margin-left: 20%; margin-right: 20%;\">\n",
    "\n",
    "![Polynomial Regression](Images/polynomial_regression.png)\n",
    "</div>\n",
    "\n",
    "\n",
    "Schauen Sie sich dazu dieses [Tutorial](https://www.w3schools.com/python/python_ml_polynomial_regression.asp) an und fügen Sie den Code in den Zellen untenan ein.\n",
    "</div>"
   ]
  },
  {
   "cell_type": "code",
   "execution_count": null,
   "id": "be27755f",
   "metadata": {},
   "outputs": [],
   "source": [
    "# IHR CODE HIER"
   ]
  },
  {
   "cell_type": "code",
   "execution_count": null,
   "id": "0305d709",
   "metadata": {},
   "outputs": [],
   "source": [
    "# IHR CODE HIER"
   ]
  },
  {
   "cell_type": "code",
   "execution_count": null,
   "id": "43a5c60c",
   "metadata": {},
   "outputs": [],
   "source": [
    "# IHR CODE HIER"
   ]
  },
  {
   "cell_type": "markdown",
   "id": "1a9d7410",
   "metadata": {},
   "source": [
    "<div class=\"alert alert-block alert-warning\">\n",
    "<strong>🏆 Challenge-Aufgabe: Jupyter Notebook</strong>\n",
    "\n",
    "Lernen Sie, wie man effizient mit Jupyter Notebooks arbeitet. Schauen Sie sich herzu die Dokumentation zu den Shortcuts an: [Jupyter Notebook Shortcuts](https://towardsdatascience.com/jypyter-notebook-shortcuts-bf0101a98330/).\n",
    "\n",
    "</div>"
   ]
  }
 ],
 "metadata": {
  "kernelspec": {
   "display_name": "Python 3",
   "language": "python",
   "name": "python3"
  },
  "language_info": {
   "codemirror_mode": {
    "name": "ipython",
    "version": 3
   },
   "file_extension": ".py",
   "mimetype": "text/x-python",
   "name": "python",
   "nbconvert_exporter": "python",
   "pygments_lexer": "ipython3",
   "version": "3.11.4"
  }
 },
 "nbformat": 4,
 "nbformat_minor": 5
}
