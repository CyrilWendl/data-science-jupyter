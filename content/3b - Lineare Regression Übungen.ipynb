{
 "cells": [
  {
   "cell_type": "markdown",
   "id": "c94d972b",
   "metadata": {},
   "source": [
    "<div class=\"alert alert-block alert-warning\">\n",
    "\n",
    "# Wichtige Hinweise\n",
    "**Bitte lesen Sie folgende Hinweise sorgfältig**\n",
    "\n",
    "- Dies ist das Übungsblatt. Lösen Sie dieses erst, wenn Sie das Beispiels-Blatt (3a) gelesen und gelöst haben!\n",
    "- Öffen Sie sowohl dieses Blatt wie auch das Beisipels-Blatt nebeneinander, damit Sie sich für die Aufgaben an den Beispielen orientieren können (falls Sie Hilfe benötigen, wenden Sie sich an Herrn Wendl).\n",
    "- Lesen Sie den gesamten Text aufmerksam und vervollständigen Sie jeden Code-Block in dieser Datei.\n",
    "</div>\n",
    "\n",
    "<div class=\"alert alert-block alert-success\">\n",
    "\n",
    "Viel Erfolg beim Lösen der Übungen! :)\n",
    "</div>"
   ]
  },
  {
   "cell_type": "code",
   "execution_count": 2,
   "id": "ea907742",
   "metadata": {},
   "outputs": [],
   "source": [
    "# benötigte Bibliotheken importieren\n",
    "import pandas as pd # pandas für Datenmanipulation\n",
    "import matplotlib.pyplot as plt  # matplotlib für Datenvisualisierung\n",
    "import statsmodels.formula.api as smf # statsmodels für statistische Modelle, insbesondere OLS"
   ]
  },
  {
   "cell_type": "markdown",
   "id": "fb7b32cb",
   "metadata": {},
   "source": [
    "# Einfache lineare Regression"
   ]
  },
  {
   "cell_type": "code",
   "execution_count": 9,
   "id": "ebe98dac",
   "metadata": {},
   "outputs": [
    {
     "data": {
      "application/vnd.microsoft.datawrangler.viewer.v0+json": {
       "columns": [
        {
         "name": "index",
         "rawType": "int64",
         "type": "integer"
        },
        {
         "name": "Polizeistreifen",
         "rawType": "int64",
         "type": "integer"
        },
        {
         "name": "Straftaten",
         "rawType": "float64",
         "type": "float"
        }
       ],
       "conversionMethod": "pd.DataFrame",
       "ref": "977a798e-75f1-4e8a-a1d3-901b6d685ed7",
       "rows": [
        [
         "0",
         "5",
         "5.915402117702074"
        ],
        [
         "1",
         "4",
         "4.3287511096596845"
        ],
        [
         "2",
         "4",
         "3.470239796232961"
        ],
        [
         "3",
         "5",
         "5.513267433113356"
        ],
        [
         "4",
         "5",
         "5.0970775493480405"
        ]
       ],
       "shape": {
        "columns": 2,
        "rows": 5
       }
      },
      "text/html": [
       "<div>\n",
       "<style scoped>\n",
       "    .dataframe tbody tr th:only-of-type {\n",
       "        vertical-align: middle;\n",
       "    }\n",
       "\n",
       "    .dataframe tbody tr th {\n",
       "        vertical-align: top;\n",
       "    }\n",
       "\n",
       "    .dataframe thead th {\n",
       "        text-align: right;\n",
       "    }\n",
       "</style>\n",
       "<table border=\"1\" class=\"dataframe\">\n",
       "  <thead>\n",
       "    <tr style=\"text-align: right;\">\n",
       "      <th></th>\n",
       "      <th>Polizeistreifen</th>\n",
       "      <th>Straftaten</th>\n",
       "    </tr>\n",
       "  </thead>\n",
       "  <tbody>\n",
       "    <tr>\n",
       "      <th>0</th>\n",
       "      <td>5</td>\n",
       "      <td>5.915402</td>\n",
       "    </tr>\n",
       "    <tr>\n",
       "      <th>1</th>\n",
       "      <td>4</td>\n",
       "      <td>4.328751</td>\n",
       "    </tr>\n",
       "    <tr>\n",
       "      <th>2</th>\n",
       "      <td>4</td>\n",
       "      <td>3.470240</td>\n",
       "    </tr>\n",
       "    <tr>\n",
       "      <th>3</th>\n",
       "      <td>5</td>\n",
       "      <td>5.513267</td>\n",
       "    </tr>\n",
       "    <tr>\n",
       "      <th>4</th>\n",
       "      <td>5</td>\n",
       "      <td>5.097078</td>\n",
       "    </tr>\n",
       "  </tbody>\n",
       "</table>\n",
       "</div>"
      ],
      "text/plain": [
       "   Polizeistreifen  Straftaten\n",
       "0                5    5.915402\n",
       "1                4    4.328751\n",
       "2                4    3.470240\n",
       "3                5    5.513267\n",
       "4                5    5.097078"
      ]
     },
     "execution_count": 9,
     "metadata": {},
     "output_type": "execute_result"
    }
   ],
   "source": [
    "# Aufgabe 1: Daten einlesen\n",
    "# Lesen Sie die CSV-Datei \"Data/police_vs_crime.csv\" ein und speichern Sie sie in einem DataFrame. Zeigen Sie die ersten 5 Zeilen des DataFrames an.\n",
    "df = pd.read_csv(\"Data/police_crime.csv\")\n",
    "df.head()"
   ]
  },
  {
   "cell_type": "code",
   "execution_count": 11,
   "id": "62e661fe",
   "metadata": {},
   "outputs": [
    {
     "data": {
      "text/plain": [
       "Text(0.5, 1.0, 'Straftaten vs. Polizeistreifen')"
      ]
     },
     "execution_count": 11,
     "metadata": {},
     "output_type": "execute_result"
    },
    {
     "data": {
      "image/png": "[encoded data removed]",
      "text/plain": [
       "<Figure size 640x480 with 1 Axes>"
      ]
     },
     "metadata": {},
     "output_type": "display_data"
    }
   ],
   "source": [
    "# Aufgabe 2: Zeigen Sie die Polizeistreifen und die Straftaten in einem Streudiagramm an.\n",
    "plt.scatter(df[\"Polizeistreifen\"], df[\"Straftaten\"])\n",
    "plt.xlabel(\"Polizeistreifen (police)\")\n",
    "plt.ylabel(\"Straftaten (crime)\")\n",
    "plt.title(\"Straftaten vs. Polizeistreifen\")"
   ]
  },
  {
   "cell_type": "markdown",
   "id": "652e0861",
   "metadata": {},
   "source": [
    "Welches sind die abhängige und unabhängige Variable in diesen Daten?"
   ]
  },
  {
   "cell_type": "markdown",
   "id": "3dd54f0f",
   "metadata": {},
   "source": [
    "**Antwort**:\n",
    "- ...\n",
    "- ..."
   ]
  },
  {
   "cell_type": "markdown",
   "id": "74b68029",
   "metadata": {},
   "source": [
    "Erkennen Sie einen linearen Trend (= eine lineare Tendenz) in diesen Daten?"
   ]
  },
  {
   "cell_type": "markdown",
   "id": "d7e7ece0",
   "metadata": {},
   "source": [
    "**Antwort**:"
   ]
  },
  {
   "cell_type": "code",
   "execution_count": 15,
   "id": "fbab4e49",
   "metadata": {},
   "outputs": [
    {
     "name": "stdout",
     "output_type": "stream",
     "text": [
      "Steigung: 0.9294160034911453 Achsenabschnitt: 0.46421478385596066\n"
     ]
    }
   ],
   "source": [
    "# Finden Sie eine optimale Regressionslinie für die Daten \n",
    "lm = smf.ols(formula=\"Polizeistreifen ~ Straftaten\", data=df).fit()\n",
    "\n",
    "steigung = lm.params[\"Straftaten\"]\n",
    "achsenabschnitt = lm.params[\"Intercept\"]\n",
    "\n",
    "print(\"Steigung:\", steigung, \"Achsenabschnitt:\", achsenabschnitt)"
   ]
  },
  {
   "cell_type": "code",
   "execution_count": 17,
   "id": "da883a5f",
   "metadata": {},
   "outputs": [
    {
     "data": {
      "text/plain": [
       "[<matplotlib.lines.Line2D at 0x15965b590>]"
      ]
     },
     "execution_count": 17,
     "metadata": {},
     "output_type": "execute_result"
    },
    {
     "data": {
      "image/png": "[encoded data removed]",
      "text/plain": [
       "<Figure size 640x480 with 1 Axes>"
      ]
     },
     "metadata": {},
     "output_type": "display_data"
    }
   ],
   "source": [
    "# Zeichnen Sie die Regressionslinie in das Streudiagramm ein\n",
    "df.plot.scatter(x=\"Polizeistreifen\", y=\"Straftaten\")\n",
    "x = df[\"Straftaten\"]\n",
    "y = steigung * x + achsenabschnitt\n",
    "plt.plot(x, y, color=\"red\", label=\"Regressionslinie\")\n"
   ]
  },
  {
   "cell_type": "code",
   "execution_count": null,
   "id": "e25048da",
   "metadata": {},
   "outputs": [],
   "source": []
  }
 ],
 "metadata": {
  "kernelspec": {
   "display_name": "Python 3",
   "language": "python",
   "name": "python3"
  },
  "language_info": {
   "codemirror_mode": {
    "name": "ipython",
    "version": 3
   },
   "file_extension": ".py",
   "mimetype": "text/x-python",
   "name": "python",
   "nbconvert_exporter": "python",
   "pygments_lexer": "ipython3",
   "version": "3.11.4"
  }
 },
 "nbformat": 4,
 "nbformat_minor": 5
}
